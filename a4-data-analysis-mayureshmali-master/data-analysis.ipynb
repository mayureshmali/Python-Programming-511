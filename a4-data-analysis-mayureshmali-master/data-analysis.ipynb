{
 "cells": [
  {
   "cell_type": "markdown",
   "metadata": {},
   "source": [
    "# a4 - Data Analysis\n",
    "Fill in the below code cells as specified. Note that cells may utilize variables and functions defined in previous cells; we should be able to use the `Kernal > Restart & Clear All` menu item followed by `Cell > Run All` to execute your entire notebook and see the correct output."
   ]
  },
  {
   "cell_type": "markdown",
   "metadata": {},
   "source": [
    "## Part 1. Numbers\n",
    "For this part of the assignment, you will analyze some numeric data (counts of library holdings) to investiate how the distribution of numbers in natural data sets obeys the counter-intuitive [Benford's Law](https://plus.maths.org/content/os/issue9/features/benford/index). \n",
    "\n",
    "<small>(This exercise was adapted from Steve Wolfman).</small>"
   ]
  },
  {
   "cell_type": "markdown",
   "metadata": {},
   "source": [
    "Create a variable **`holdings_data`** which is a **list** of the contents of the **`data/libraryholdings.txt`** file included in the repository (each line in the file should be a single element in the list). You will need to open up the file and read its contents into a list. You should specify a _local path_ to the file (from this notebook's location)."
   ]
  },
  {
   "cell_type": "code",
   "execution_count": 1,
   "metadata": {},
   "outputs": [],
   "source": [
    "holdings_data = open(\"data/libraryholdings.txt\").readlines()"
   ]
  },
  {
   "cell_type": "markdown",
   "metadata": {},
   "source": [
    "Print out the first **ten** items from the `holdings_data` list, each on its own line. (Note that there may be extra line breaks that are included in the data items themselves)."
   ]
  },
  {
   "cell_type": "code",
   "execution_count": 2,
   "metadata": {
    "scrolled": true
   },
   "outputs": [
    {
     "name": "stdout",
     "output_type": "stream",
     "text": [
      "(* Library holdings (# of books in each library), *)\n",
      "\n",
      "(* collected by Christian Ayotte.                 *)\n",
      "\n",
      "(* Labels not available.                          *)\n",
      "\n",
      "\n",
      "\n",
      "12201\n",
      "\n",
      "600778\n",
      "\n",
      "14926\n",
      "\n",
      "37863\n",
      "\n",
      "14866\n",
      "\n",
      "9896\n",
      "\n"
     ]
    }
   ],
   "source": [
    "print(*holdings_data[:10], sep=\"\\n\")"
   ]
  },
  {
   "cell_type": "markdown",
   "metadata": {},
   "source": [
    "Use the **slice operator (`:`)** to remove the \"heading\" and blank elements from the beginning of the data list, leaving only the list of numbers. The remaining values should continue to be stored (re-stored) in the `holdings_data` variable. Output the new first element in `holdings_data` to demonstrate that it is the first number in the data set.\n",
    "- The values in the list _should_ be strings rather than an integers"
   ]
  },
  {
   "cell_type": "code",
   "execution_count": 3,
   "metadata": {},
   "outputs": [
    {
     "name": "stdout",
     "output_type": "stream",
     "text": [
      "12201\n",
      "\n"
     ]
    }
   ],
   "source": [
    "holdings_data=holdings_data[4:]\n",
    "#holdings_data = list(map(str, holdings_data)) \n",
    "print(*holdings_data[:1], sep=\"\\n\")"
   ]
  },
  {
   "cell_type": "markdown",
   "metadata": {},
   "source": [
    "Create a variable **`lead_digit_counts`** that is a dictionary whose keys are _strings_ of each digit (`\"0\"`, `\"1\"`, `\"2\"`, etc.), and whose values are all the number `0`. You can do this directly or with a loop. Print out the variable after you create it."
   ]
  },
  {
   "cell_type": "code",
   "execution_count": 4,
   "metadata": {},
   "outputs": [
    {
     "name": "stdout",
     "output_type": "stream",
     "text": [
      "{'0': 0, '1': 0, '2': 0, '3': 0, '4': 0, '5': 0, '6': 0, '7': 0, '8': 0, '9': 0}\n"
     ]
    }
   ],
   "source": [
    "lead_digit_counts={\"0\":0,\"1\":0,\"2\":0,\"3\":0,\"4\":0,\"5\":0,\"6\":0,\"7\":0,\"8\":0,\"9\":0}\n",
    "print(lead_digit_counts)"
   ]
  },
  {
   "cell_type": "markdown",
   "metadata": {},
   "source": [
    "Calculate the number of times each digit appears as the _first digit_ in a value of the `holdings_data` list, storing those counts in the `lead_digit_counts` dictionary."
   ]
  },
  {
   "cell_type": "code",
   "execution_count": 5,
   "metadata": {},
   "outputs": [
    {
     "name": "stdout",
     "output_type": "stream",
     "text": [
      "{'1': 3056, '6': 560, '3': 1018, '9': 452, '8': 503, '2': 1606, '7': 502, '5': 640, '4': 801, '0': 0}\n"
     ]
    }
   ],
   "source": [
    "import collections\n",
    "a=[x[0] for x in holdings_data]\n",
    "a = list(map(int, a))\n",
    "counter=collections.Counter(a)\n",
    "l=counter.values()\n",
    "lead_digit_counts = dict(zip([\"1\",\"6\",\"3\",\"9\",\"8\",\"2\",\"7\",\"5\",\"4\"],l))\n",
    "lead_digit_counts[\"0\"]=0\n",
    "print(lead_digit_counts)"
   ]
  },
  {
   "cell_type": "markdown",
   "metadata": {},
   "source": [
    "Use a loop to print out each count in `lead_digit_counts` with the format:\n",
    "```\n",
    "X values have a leading digit of digit Y\n",
    "```"
   ]
  },
  {
   "cell_type": "code",
   "execution_count": 6,
   "metadata": {},
   "outputs": [
    {
     "name": "stdout",
     "output_type": "stream",
     "text": [
      "0 values have a leading digit of digit 0\n",
      "3056 values have a leading digit of digit 1\n",
      "1606 values have a leading digit of digit 2\n",
      "1018 values have a leading digit of digit 3\n",
      "801 values have a leading digit of digit 4\n",
      "640 values have a leading digit of digit 5\n",
      "560 values have a leading digit of digit 6\n",
      "502 values have a leading digit of digit 7\n",
      "503 values have a leading digit of digit 8\n",
      "452 values have a leading digit of digit 9\n"
     ]
    }
   ],
   "source": [
    "for key in sorted(lead_digit_counts):\n",
    "    print (lead_digit_counts[key], 'values have a leading digit of digit', key)"
   ]
  },
  {
   "cell_type": "markdown",
   "metadata": {},
   "source": [
    "Print the _percentage_ of values in the the library holdings data set that have a leading digit **`1`** (round to 2 decimal places). Is this value as predicted by Benford's law?"
   ]
  },
  {
   "cell_type": "code",
   "execution_count": 7,
   "metadata": {},
   "outputs": [
    {
     "name": "stdout",
     "output_type": "stream",
     "text": [
      "33.44%\n",
      "The percentage value for first place digit for 1 is very close to 30% as per Bedford's law.\n"
     ]
    }
   ],
   "source": [
    "percentage1= round((lead_digit_counts['1']/sum(lead_digit_counts.values()))*100,2)\n",
    "print((str(percentage1) + '%'))\n",
    "print(\"The percentage value for first place digit for 1 is very close to 30% as per Bedford's law.\")"
   ]
  },
  {
   "cell_type": "markdown",
   "metadata": {},
   "source": [
    "***Extra credit challenge:*** Create a single variable `digit_position_counts` that contains the number of times that each digit 0 through 9 appears in _each_ position in the data set. E.g., a `1` appears in the 1st position 3056 times and in the second position 1005 times; a `2` appears in the 1st position 1606 times and in the second position 1044 times.\n",
    "\n",
    "Use this variable to print a \"table\" of the percentage of the time each position contains each digit (e.g., the 1st digit is a `1` 33.44% of the time, a `2` 17.57% of the time, etc).\n",
    "\n",
    "Note that for this extra challenge it is up to you to determine an appropriate data structure (e.g., how to combine dictionaries and lists and tuples) for representing this table. Be sure and include comments explaining your work.\n",
    "\n",
    "Only attempt this problem once you have completed everything else!"
   ]
  },
  {
   "cell_type": "code",
   "execution_count": null,
   "metadata": {},
   "outputs": [],
   "source": []
  },
  {
   "cell_type": "markdown",
   "metadata": {},
   "source": [
    "## Part 2. Life Expectancy\n",
    "For this part of the assignment, you'll work with data about the life expectancy (in years) for each country in the world in the years 1960 and 2013. Note that this can be really [fun](http://www.ted.com/talks/hans_rosling_shows_the_best_stats_you_ve_ever_seen.html) data!"
   ]
  },
  {
   "cell_type": "markdown",
   "metadata": {},
   "source": [
    "The data is found in a [.csv](https://en.wikipedia.org/wiki/Comma-separated_values) file: a plain-text data format where each line represents a record (row) of data and where feature (column) is separated by a comma.\n",
    "\n",
    "Read in the contents of the **`data/life_expectancy.csv`** data file, and use it to construct a **list** called **`life_expectancy_list`**. Each element in this list should be a **dictionary** (one for each row in the `csv` file) with the following keys and values:\n",
    "\n",
    "- a key `'country'` whose value is the name of the country (as a string)\n",
    "- a key `'le_1960'` whose value is the life expectancy in 1960 (as a float)\n",
    "- a key `'le_2013'` whose value is the life expectancy in 2013 (as a float)\n",
    "\n",
    "Thus the first record should look like:\n",
    "```\n",
    "{'country': 'Aruba', 'le_1960': 65.56936585, 'le_2013': 75.33217073}\n",
    "```\n",
    "\n",
    "You should use the **`csv`** module to read this file and break up each row into different values. See [the documentation](https://docs.python.org/3/library/csv.html) for an example of how to do this. Print out the _first row_ of your list as a demonstration that you've processed the data correctly."
   ]
  },
  {
   "cell_type": "code",
   "execution_count": 8,
   "metadata": {},
   "outputs": [
    {
     "name": "stdout",
     "output_type": "stream",
     "text": [
      "{'country': 'Aruba', 'le_1960': '65.56936585', 'le_2013': '75.33217073'}\n"
     ]
    }
   ],
   "source": [
    "import csv\n",
    "\n",
    "reader = csv.DictReader(open('data/life_expectancy.csv', \"r\"))\n",
    "life_expectancy_list = []\n",
    "for row in reader:\n",
    "    life_expectancy_list.append({k:v for (k,v) in row.items() if k in ['country', 'le_1960','le_2013']})\n",
    "\n",
    "print(life_expectancy_list[0])"
   ]
  },
  {
   "cell_type": "markdown",
   "metadata": {},
   "source": [
    "Add another item to each dictionary in the `life_expectancy_list` whose **key** is `change` and whose **value** is the change in life expectancy from 1960 to 2013."
   ]
  },
  {
   "cell_type": "code",
   "execution_count": 9,
   "metadata": {},
   "outputs": [
    {
     "name": "stdout",
     "output_type": "stream",
     "text": [
      "[{'country': 'Aruba', 'le_1960': '65.56936585', 'le_2013': '75.33217073', 'change': 9.762804880000004}, {'country': 'Afghanistan', 'le_1960': '31.58004878', 'le_2013': '60.93141463', 'change': 29.35136585}, {'country': 'Angola', 'le_1960': '32.98482927', 'le_2013': '51.86617073', 'change': 18.88134146}, {'country': 'Albania', 'le_1960': '62.25436585', 'le_2013': '77.5372439', 'change': 15.282878050000008}, {'country': 'United Arab Emirates', 'le_1960': '52.24321951', 'le_2013': '77.13129268', 'change': 24.88807317}, {'country': 'Argentina', 'le_1960': '65.21553659', 'le_2013': '76.18729268', 'change': 10.97175609}, {'country': 'Armenia', 'le_1960': '65.86346341', 'le_2013': '74.5407561', 'change': 8.677292690000002}, {'country': 'Antigua and Barbuda', 'le_1960': '61.78273171', 'le_2013': '75.82929268', 'change': 14.046560969999994}, {'country': 'Australia', 'le_1960': '70.81707317', 'le_2013': '82.19756098', 'change': 11.380487810000005}, {'country': 'Austria', 'le_1960': '68.58560976', 'le_2013': '80.8902439', 'change': 12.304634140000005}, {'country': 'Azerbaijan', 'le_1960': '60.8362439', 'le_2013': '70.69314634', 'change': 9.856902439999999}, {'country': 'Burundi', 'le_1960': '41.23604878', 'le_2013': '54.09719512', 'change': 12.861146340000005}, {'country': 'Belgium', 'le_1960': '69.70195122', 'le_2013': '80.38536585', 'change': 10.683414630000001}, {'country': 'Benin', 'le_1960': '37.27826829', 'le_2013': '59.28756098', 'change': 22.009292690000002}, {'country': 'Burkina Faso', 'le_1960': '34.47790244', 'le_2013': '56.27502439', 'change': 21.797121949999998}, {'country': 'Bangladesh', 'le_1960': '47.02456098', 'le_2013': '70.69339024', 'change': 23.668829260000003}, {'country': 'Bulgaria', 'le_1960': '69.24756098', 'le_2013': '74.46585366', 'change': 5.2182926799999905}, {'country': 'Bahrain', 'le_1960': '52.08936585', 'le_2013': '76.66987805', 'change': 24.580512199999994}, {'country': 'Bahamas, The', 'le_1960': '62.72904878', 'le_2013': '75.07256098', 'change': 12.343512200000006}, {'country': 'Bosnia and Herzegovina', 'le_1960': '60.27621951', 'le_2013': '76.27990244', 'change': 16.003682930000004}, {'country': 'Belarus', 'le_1960': '67.70809756', 'le_2013': '72.47073171', 'change': 4.762634149999997}, {'country': 'Belize', 'le_1960': '59.96136585', 'le_2013': '73.90487805', 'change': 13.943512199999994}, {'country': 'Bolivia', 'le_1960': '42.66812195', 'le_2013': '67.21736585', 'change': 24.549243899999993}, {'country': 'Brazil', 'le_1960': '54.69214634', 'le_2013': '73.88595122', 'change': 19.193804879999995}, {'country': 'Barbados', 'le_1960': '60.76660976', 'le_2013': '75.29641463', 'change': 14.52980487}, {'country': 'Brunei Darussalam', 'le_1960': '62.45756098', 'le_2013': '78.56643902', 'change': 16.108878040000008}, {'country': 'Bhutan', 'le_1960': '32.35936585', 'le_2013': '68.30231707', 'change': 35.94295122}, {'country': 'Botswana', 'le_1960': '50.5362439', 'le_2013': '47.40560976', 'change': -3.130634140000005}, {'country': 'Central African Republic', 'le_1960': '36.48263415', 'le_2013': '50.13680488', 'change': 13.654170729999997}, {'country': 'Canada', 'le_1960': '71.13317073', 'le_2013': '81.40112195', 'change': 10.26795122}, {'country': 'Switzerland', 'le_1960': '71.31341463', 'le_2013': '82.74878049', 'change': 11.435365860000005}, {'country': 'Channel Islands', 'le_1960': '70.63978049', 'le_2013': '80.25953659', 'change': 9.61975609999999}, {'country': 'Chile', 'le_1960': '57.02153659', 'le_2013': '79.83680488', 'change': 22.815268290000006}, {'country': 'China', 'le_1960': '43.46580488', 'le_2013': '75.35302439', 'change': 31.88721951}, {'country': \"Cote d'Ivoire\", 'le_1960': '36.87241463', 'le_2013': '50.75741463', 'change': 13.884999999999998}, {'country': 'Cameroon', 'le_1960': '41.5237561', 'le_2013': '55.04180488', 'change': 13.51804878}, {'country': 'Congo, Dem. Rep.', 'le_1960': '41.01804878', 'le_2013': '49.94385366', 'change': 8.925804880000001}, {'country': 'Congo, Rep.', 'le_1960': '48.58163415', 'le_2013': '58.77', 'change': 10.188365850000004}, {'country': 'Colombia', 'le_1960': '56.7167561', 'le_2013': '73.97882927', 'change': 17.262073170000008}, {'country': 'Comoros', 'le_1960': '43.44195122', 'le_2013': '60.8574878', 'change': 17.41553658}, {'country': 'Cabo Verde', 'le_1960': '49.00136585', 'le_2013': '74.87068293', 'change': 25.869317080000002}, {'country': 'Costa Rica', 'le_1960': '61.60636585', 'le_2013': '79.921', 'change': 18.314634150000003}, {'country': 'Cuba', 'le_1960': '63.90465854', 'le_2013': '79.23926829', 'change': 15.334609749999998}, {'country': 'Cyprus', 'le_1960': '69.59392683', 'le_2013': '79.80431707', 'change': 10.210390239999995}, {'country': 'Czech Republic', 'le_1960': '70.34878049', 'le_2013': '78.27804878', 'change': 7.92926829000001}, {'country': 'Germany', 'le_1960': '69.31295122', 'le_2013': '81.04390244', 'change': 11.730951219999994}, {'country': 'Djibouti', 'le_1960': '44.02126829', 'le_2013': '61.78695122', 'change': 17.765682929999997}, {'country': 'Denmark', 'le_1960': '72.17658537', 'le_2013': '80.30243902', 'change': 8.125853649999996}, {'country': 'Dominican Republic', 'le_1960': '51.84526829', 'le_2013': '73.45095122', 'change': 21.605682929999993}, {'country': 'Algeria', 'le_1960': '46.13512195', 'le_2013': '71.00965854', 'change': 24.874536590000005}, {'country': 'Ecuador', 'le_1960': '53.12443902', 'le_2013': '76.46507317', 'change': 23.34063415}, {'country': 'Egypt, Arab Rep.', 'le_1960': '48.01370732', 'le_2013': '71.13292683', 'change': 23.11921951}, {'country': 'Eritrea', 'le_1960': '37.36290244', 'le_2013': '62.75463415', 'change': 25.391731710000002}, {'country': 'Spain', 'le_1960': '69.10926829', 'le_2013': '82.42682927', 'change': 13.317560979999996}, {'country': 'Estonia', 'le_1960': '67.90597561', 'le_2013': '76.42439024', 'change': 8.518414629999995}, {'country': 'Ethiopia', 'le_1960': '38.40570732', 'le_2013': '63.61734146', 'change': 25.21163414}, {'country': 'Finland', 'le_1960': '68.8197561', 'le_2013': '80.83170732', 'change': 12.01195122}, {'country': 'Fiji', 'le_1960': '55.9584878', 'le_2013': '69.923', 'change': 13.964512200000001}, {'country': 'France', 'le_1960': '69.86829268', 'le_2013': '81.96829268', 'change': 12.100000000000009}, {'country': 'Micronesia, Fed. Sts.', 'le_1960': '57.58658537', 'le_2013': '68.96097561', 'change': 11.374390240000004}, {'country': 'Gabon', 'le_1960': '39.55780488', 'le_2013': '63.441', 'change': 23.883195120000003}, {'country': 'United Kingdom', 'le_1960': '71.12682927', 'le_2013': '80.95609756', 'change': 9.829268290000002}, {'country': 'Georgia', 'le_1960': '63.43185366', 'le_2013': '74.0795122', 'change': 10.647658539999995}, {'country': 'Ghana', 'le_1960': '45.83146341', 'le_2013': '61.09863415', 'change': 15.267170740000005}, {'country': 'Guinea', 'le_1960': '34.88639024', 'le_2013': '56.09165854', 'change': 21.2052683}, {'country': 'Gambia, The', 'le_1960': '32.04221951', 'le_2013': '58.83134146', 'change': 26.789121949999995}, {'country': 'Guinea-Bissau', 'le_1960': '42.14541463', 'le_2013': '54.27170732', 'change': 12.12629269}, {'country': 'Equatorial Guinea', 'le_1960': '36.73304878', 'le_2013': '53.11456098', 'change': 16.381512200000003}, {'country': 'Greece', 'le_1960': '68.16390244', 'le_2013': '80.63414634', 'change': 12.4702439}, {'country': 'Grenada', 'le_1960': '59.81592683', 'le_2013': '72.74134146', 'change': 12.925414629999999}, {'country': 'Guatemala', 'le_1960': '45.53163415', 'le_2013': '71.99282927', 'change': 26.46119512}, {'country': 'Guam', 'le_1960': '61.22634146', 'le_2013': '78.87512195', 'change': 17.648780489999993}, {'country': 'Guyana', 'le_1960': '58.23260976', 'le_2013': '66.20790244', 'change': 7.9752926799999955}, {'country': 'Hong Kong SAR, China', 'le_1960': '66.99970732', 'le_2013': '83.83170732', 'change': 16.832000000000008}, {'country': 'Honduras', 'le_1960': '46.28831707', 'le_2013': '73.80304878', 'change': 27.51473171}, {'country': 'Croatia', 'le_1960': '64.60865854', 'le_2013': '77.12682927', 'change': 12.518170730000008}, {'country': 'Haiti', 'le_1960': '42.159', 'le_2013': '63.05885366', 'change': 20.899853659999998}, {'country': 'Hungary', 'le_1960': '68.00317073', 'le_2013': '75.26829268', 'change': 7.265121950000008}, {'country': 'Indonesia', 'le_1960': '44.8065122', 'le_2013': '70.81743902', 'change': 26.010926819999995}, {'country': 'India', 'le_1960': '41.38363415', 'le_2013': '66.4562439', 'change': 25.072609750000005}, {'country': 'Ireland', 'le_1960': '69.6917561', 'le_2013': '81.04390244', 'change': 11.35214633999999}, {'country': 'Iran, Islamic Rep.', 'le_1960': '44.9455122', 'le_2013': '74.0687561', 'change': 29.1232439}, {'country': 'Iraq', 'le_1960': '48.03068293', 'le_2013': '69.47168293', 'change': 21.441000000000003}, {'country': 'Iceland', 'le_1960': '73.42865854', 'le_2013': '83.11707317', 'change': 9.688414629999997}, {'country': 'Italy', 'le_1960': '69.12390244', 'le_2013': '82.2902439', 'change': 13.166341459999998}, {'country': 'Jamaica', 'le_1960': '64.19182927', 'le_2013': '73.46892683', 'change': 9.277097560000001}, {'country': 'Jordan', 'le_1960': '52.68526829', 'le_2013': '73.90141463', 'change': 21.21614634}, {'country': 'Japan', 'le_1960': '67.66609756', 'le_2013': '83.33195122', 'change': 15.665853659999996}, {'country': 'Kazakhstan', 'le_1960': '58.36758537', 'le_2013': '70.45', 'change': 12.082414630000002}, {'country': 'Kenya', 'le_1960': '46.36241463', 'le_2013': '61.68397561', 'change': 15.321560979999994}, {'country': 'Kyrgyz Republic', 'le_1960': '56.12807317', 'le_2013': '70.20243902', 'change': 14.07436585}, {'country': 'Cambodia', 'le_1960': '41.20129268', 'le_2013': '71.74756098', 'change': 30.5462683}, {'country': 'Kiribati', 'le_1960': '46.875', 'le_2013': '68.84907317', 'change': 21.974073169999997}, {'country': 'Korea, Rep.', 'le_1960': '53.00131707', 'le_2013': '81.4597561', 'change': 28.458439030000008}, {'country': 'Kuwait', 'le_1960': '60.34795122', 'le_2013': '74.4627561', 'change': 14.114804879999994}, {'country': 'Lao PDR', 'le_1960': '43.19292683', 'le_2013': '68.24941463', 'change': 25.056487800000006}, {'country': 'Lebanon', 'le_1960': '63.28012195', 'le_2013': '80.12887805', 'change': 16.848756099999996}, {'country': 'Liberia', 'le_1960': '34.78317073', 'le_2013': '60.53187805', 'change': 25.74870732}, {'country': 'Libya', 'le_1960': '42.64119512', 'le_2013': '75.36168293', 'change': 32.72048781}, {'country': 'St. Lucia', 'le_1960': '57.3037561', 'le_2013': '74.79195122', 'change': 17.48819512}, {'country': 'Sri Lanka', 'le_1960': '59.74714634', 'le_2013': '74.24029268', 'change': 14.493146339999996}, {'country': 'Lesotho', 'le_1960': '46.51070732', 'le_2013': '49.33146341', 'change': 2.820756089999996}, {'country': 'Lithuania', 'le_1960': '69.84731707', 'le_2013': '74.16341463', 'change': 4.316097560000003}, {'country': 'Luxembourg', 'le_1960': '68.44639024', 'le_2013': '81.79756098', 'change': 13.35117074}, {'country': 'Latvia', 'le_1960': '69.78682927', 'le_2013': '73.9804878', 'change': 4.1936585300000075}, {'country': 'Macao SAR, China', 'le_1960': '64.66092683', 'le_2013': '80.3437561', 'change': 15.68282927}, {'country': 'Morocco', 'le_1960': '48.44663415', 'le_2013': '70.87212195', 'change': 22.425487799999992}, {'country': 'Moldova', 'le_1960': '61.81278049', 'le_2013': '68.8115122', 'change': 6.998731709999994}, {'country': 'Madagascar', 'le_1960': '39.97468293', 'le_2013': '64.69139024', 'change': 24.716707310000004}, {'country': 'Maldives', 'le_1960': '35.85960976', 'le_2013': '77.93536585', 'change': 42.07575609}, {'country': 'Mexico', 'le_1960': '57.06563415', 'le_2013': '77.35402439', 'change': 20.288390240000005}, {'country': 'Macedonia, FYR', 'le_1960': '60.62280488', 'le_2013': '75.18802439', 'change': 14.565219509999999}, {'country': 'Mali', 'le_1960': '28.21160976', 'le_2013': '55.0135122', 'change': 26.80190244}, {'country': 'Malta', 'le_1960': '67.60178049', 'le_2013': '80.74634146', 'change': 13.14456097}, {'country': 'Myanmar', 'le_1960': '42.73639024', 'le_2013': '65.09968293', 'change': 22.36329269}, {'country': 'Montenegro', 'le_1960': '63.70560976', 'le_2013': '74.75836585', 'change': 11.052756090000003}, {'country': 'Mongolia', 'le_1960': '48.36880488', 'le_2013': '67.54819512', 'change': 19.179390240000004}, {'country': 'Mozambique', 'le_1960': '35.00370732', 'le_2013': '50.17336585', 'change': 15.169658530000007}, {'country': 'Mauritania', 'le_1960': '43.48309756', 'le_2013': '61.5117561', 'change': 18.028658540000002}, {'country': 'Mauritius', 'le_1960': '58.74521951', 'le_2013': '74.46', 'change': 15.714780489999995}, {'country': 'Malawi', 'le_1960': '37.83558537', 'le_2013': '55.23470732', 'change': 17.39912195}, {'country': 'Malaysia', 'le_1960': '59.47534146', 'le_2013': '75.01626829', 'change': 15.540926829999997}, {'country': 'Namibia', 'le_1960': '46.88039024', 'le_2013': '64.34387805', 'change': 17.463487810000004}, {'country': 'New Caledonia', 'le_1960': '58.63902439', 'le_2013': '77.12195122', 'change': 18.482926829999997}, {'country': 'Niger', 'le_1960': '35.51504878', 'le_2013': '58.44270732', 'change': 22.927658539999996}, {'country': 'Nigeria', 'le_1960': '37.18295122', 'le_2013': '52.49978049', 'change': 15.31682927}, {'country': 'Nicaragua', 'le_1960': '46.99882927', 'le_2013': '74.78817073', 'change': 27.789341460000003}, {'country': 'Netherlands', 'le_1960': '73.39268293', 'le_2013': '81.10487805', 'change': 7.71219511999999}, {'country': 'Norway', 'le_1960': '73.5497561', 'le_2013': '81.45121951', 'change': 7.901463410000005}, {'country': 'Nepal', 'le_1960': '38.45563415', 'le_2013': '68.40385366', 'change': 29.948219509999994}, {'country': 'New Zealand', 'le_1960': '71.23658537', 'le_2013': '81.40731707', 'change': 10.170731700000005}, {'country': 'Oman', 'le_1960': '42.66707317', 'le_2013': '76.85202439', 'change': 34.184951219999995}, {'country': 'Pakistan', 'le_1960': '46.43373171', 'le_2013': '66.58536585', 'change': 20.15163414}, {'country': 'Panama', 'le_1960': '60.87682927', 'le_2013': '77.57895122', 'change': 16.70212194999999}, {'country': 'Peru', 'le_1960': '47.69158537', 'le_2013': '74.81460976', 'change': 27.123024389999998}, {'country': 'Philippines', 'le_1960': '57.81192683', 'le_2013': '68.7144878', 'change': 10.902560970000003}, {'country': 'Papua New Guinea', 'le_1960': '38.4622439', 'le_2013': '62.43073171', 'change': 23.968487810000006}, {'country': 'Poland', 'le_1960': '67.6804878', 'le_2013': '76.84878049', 'change': 9.168292690000001}, {'country': 'Puerto Rico', 'le_1960': '68.71960976', 'le_2013': '78.71119512', 'change': 9.991585360000002}, {'country': 'Korea, Dem. Rep.', 'le_1960': '51.07717073', 'le_2013': '69.80695122', 'change': 18.729780490000003}, {'country': 'Portugal', 'le_1960': '62.80892683', 'le_2013': '80.37317073', 'change': 17.5642439}, {'country': 'Paraguay', 'le_1960': '63.79370732', 'le_2013': '72.2734878', 'change': 8.479780479999995}, {'country': 'French Polynesia', 'le_1960': '56.35704878', 'le_2013': '76.33904878', 'change': 19.982}, {'country': 'Qatar', 'le_1960': '61.24790244', 'le_2013': '78.60690244', 'change': 17.359}, {'country': 'Romania', 'le_1960': '65.64243902', 'le_2013': '74.46341463', 'change': 8.820975610000005}, {'country': 'Russian Federation', 'le_1960': '66.05529268', 'le_2013': '71.07317073', 'change': 5.017878050000007}, {'country': 'Rwanda', 'le_1960': '42.24929268', 'le_2013': '63.99397561', 'change': 21.744682929999996}, {'country': 'Saudi Arabia', 'le_1960': '45.66626829', 'le_2013': '75.70336585', 'change': 30.03709756}, {'country': 'Sudan', 'le_1960': '48.18763415', 'le_2013': '62.0444878', 'change': 13.856853649999998}, {'country': 'Senegal', 'le_1960': '38.206', 'le_2013': '63.35073171', 'change': 25.144731709999995}, {'country': 'Singapore', 'le_1960': '65.65982927', 'le_2013': '82.34634146', 'change': 16.686512190000002}, {'country': 'Solomon Islands', 'le_1960': '49.38170732', 'le_2013': '67.71690244', 'change': 18.33519512}, {'country': 'Sierra Leone', 'le_1960': '30.33153659', 'le_2013': '45.55095122', 'change': 15.219414630000003}, {'country': 'El Salvador', 'le_1960': '51.29931707', 'le_2013': '72.33892683', 'change': 21.039609760000005}, {'country': 'Somalia', 'le_1960': '36.96587805', 'le_2013': '55.0245122', 'change': 18.058634149999996}, {'country': 'South Sudan', 'le_1960': '31.67670732', 'le_2013': '55.24121951', 'change': 23.564512190000002}, {'country': 'Sao Tome and Principe', 'le_1960': '50.45136585', 'le_2013': '66.26097561', 'change': 15.80960976}, {'country': 'Suriname', 'le_1960': '59.68012195', 'le_2013': '71.03163415', 'change': 11.351512200000002}, {'country': 'Slovak Republic', 'le_1960': '69.97592683', 'le_2013': '76.26097561', 'change': 6.285048779999997}, {'country': 'Slovenia', 'le_1960': '68.97804878', 'le_2013': '80.27804878', 'change': 11.300000000000011}, {'country': 'Sweden', 'le_1960': '73.00560976', 'le_2013': '81.70487805', 'change': 8.699268290000006}, {'country': 'Swaziland', 'le_1960': '44.23378049', 'le_2013': '48.93792683', 'change': 4.704146340000001}, {'country': 'Syrian Arab Republic', 'le_1960': '52.7682439', 'le_2013': '74.71578049', 'change': 21.94753659}, {'country': 'Chad', 'le_1960': '38.01612195', 'le_2013': '51.15907317', 'change': 13.14295122}, {'country': 'Togo', 'le_1960': '40.27282927', 'le_2013': '56.4885122', 'change': 16.21568293}, {'country': 'Thailand', 'le_1960': '55.23836585', 'le_2013': '74.36507317', 'change': 19.12670732}, {'country': 'Tajikistan', 'le_1960': '56.15353659', 'le_2013': '67.37460976', 'change': 11.221073169999997}, {'country': 'Turkmenistan', 'le_1960': '54.45868293', 'le_2013': '65.46258537', 'change': 11.003902439999997}, {'country': 'Timor-Leste', 'le_1960': '33.72712195', 'le_2013': '67.52236585', 'change': 33.7952439}, {'country': 'Tonga', 'le_1960': '61.36453659', 'le_2013': '72.64231707', 'change': 11.277780480000004}, {'country': 'Trinidad and Tobago', 'le_1960': '62.65758537', 'le_2013': '69.92521951', 'change': 7.2676341400000055}, {'country': 'Tunisia', 'le_1960': '42.0097561', 'le_2013': '73.64634146', 'change': 31.636585360000005}, {'country': 'Turkey', 'le_1960': '45.38441463', 'le_2013': '75.17595122', 'change': 29.79153659}, {'country': 'Tanzania', 'le_1960': '43.65387805', 'le_2013': '61.49314634', 'change': 17.83926829}, {'country': 'Uganda', 'le_1960': '43.98356098', 'le_2013': '59.19', 'change': 15.206439019999998}, {'country': 'Ukraine', 'le_1960': '68.29953659', 'le_2013': '71.1595122', 'change': 2.8599756099999922}, {'country': 'Uruguay', 'le_1960': '67.89587805', 'le_2013': '77.05141463', 'change': 9.155536580000003}, {'country': 'United States', 'le_1960': '69.77073171', 'le_2013': '78.84146341', 'change': 9.070731699999996}, {'country': 'Uzbekistan', 'le_1960': '58.88553659', 'le_2013': '68.22758537', 'change': 9.342048779999999}, {'country': 'St. Vincent and the Grenadines', 'le_1960': '57.72387805', 'le_2013': '72.50097561', 'change': 14.777097559999994}, {'country': 'Venezuela, RB', 'le_1960': '59.52919512', 'le_2013': '74.64309756', 'change': 15.113902440000004}, {'country': 'Virgin Islands (U.S.)', 'le_1960': '63.73021951', 'le_2013': '79.62439024', 'change': 15.894170729999999}, {'country': 'Vietnam', 'le_1960': '59.06702439', 'le_2013': '75.7564878', 'change': 16.689463410000002}, {'country': 'Vanuatu', 'le_1960': '46.4874878', 'le_2013': '71.68682927', 'change': 25.199341470000007}, {'country': 'Samoa', 'le_1960': '49.9695122', 'le_2013': '73.26487805', 'change': 23.295365849999996}, {'country': 'Yemen, Rep.', 'le_1960': '32.38565854', 'le_2013': '63.08958537', 'change': 30.70392683}, {'country': 'South Africa', 'le_1960': '49.03629268', 'le_2013': '56.73658537', 'change': 7.700292689999998}, {'country': 'Zambia', 'le_1960': '45.10980488', 'le_2013': '58.09278049', 'change': 12.982975610000004}, {'country': 'Zimbabwe', 'le_1960': '51.54246341', 'le_2013': '59.7734878', 'change': 8.231024389999995}]\n"
     ]
    }
   ],
   "source": [
    "for item in life_expectancy_list:\n",
    "    item.update({\"change\":float(item['le_2013'])-float(item['le_1960'])})\n",
    "print(life_expectancy_list)"
   ]
  },
  {
   "cell_type": "markdown",
   "metadata": {},
   "source": [
    "Create a variable **`num_small_gain`** that stores the **number of countries** whose life expectancy did not improve by 5 years or more between 1960 and 2013. This will include counties whose life expectancy has worsened. Print out this variable."
   ]
  },
  {
   "cell_type": "code",
   "execution_count": 10,
   "metadata": {},
   "outputs": [
    {
     "name": "stdout",
     "output_type": "stream",
     "text": [
      "Name of countries whose life expectancy did not improve by 5 years or more between 1960 and 2013 Belarus\n",
      "Name of countries whose life expectancy did not improve by 5 years or more between 1960 and 2013 Botswana\n",
      "Name of countries whose life expectancy did not improve by 5 years or more between 1960 and 2013 Lesotho\n",
      "Name of countries whose life expectancy did not improve by 5 years or more between 1960 and 2013 Lithuania\n",
      "Name of countries whose life expectancy did not improve by 5 years or more between 1960 and 2013 Latvia\n",
      "Name of countries whose life expectancy did not improve by 5 years or more between 1960 and 2013 Swaziland\n",
      "Name of countries whose life expectancy did not improve by 5 years or more between 1960 and 2013 Ukraine\n",
      "7\n"
     ]
    }
   ],
   "source": [
    "count=0\n",
    "for item in life_expectancy_list:\n",
    "    if item['change']<=5:\n",
    "        count=count+1\n",
    "        print('Name of countries whose life expectancy did not improve by 5 years or more between 1960 and 2013 ' + item['country'])\n",
    "num_small_gain=count    \n",
    "print(num_small_gain)"
   ]
  },
  {
   "cell_type": "markdown",
   "metadata": {},
   "source": [
    "Create a variable **`most_improved`** that is the **name of the country** with the largest gain in life expectancy (between 1960 and 2013). Print out this variable."
   ]
  },
  {
   "cell_type": "code",
   "execution_count": 11,
   "metadata": {},
   "outputs": [
    {
     "name": "stdout",
     "output_type": "stream",
     "text": [
      "42.07575609\n",
      "Maldives is the name of the country with the largest gain in life expectancy (between 1960 and 2013)\n"
     ]
    }
   ],
   "source": [
    "max1=0\n",
    "for item in life_expectancy_list:\n",
    "    if item['change']>max1:\n",
    "        max1=item['change']\n",
    "        most_improved=item['country']\n",
    "    else:\n",
    "        max1=max1\n",
    "print(max1)\n",
    "print(most_improved+' is the name of the country with the largest gain in life expectancy (between 1960 and 2013)')"
   ]
  },
  {
   "cell_type": "markdown",
   "metadata": {},
   "source": [
    "Define a function **`compare_country_le()`** that takes in the names of _two_ countries, and returns a **tuple** containing the following information:\n",
    "- the name of the country with the greater life expectancy,\n",
    "- the life expectancy in 2013 of that country\n",
    "- the difference between the life expectancies in 2013\n",
    "\n",
    "Use your function to print the comparison between the life expectancies of the _United States_ and _Cuba_.  "
   ]
  },
  {
   "cell_type": "code",
   "execution_count": 12,
   "metadata": {},
   "outputs": [
    {
     "name": "stdout",
     "output_type": "stream",
     "text": [
      "Name of the country with the greater life expectancy: Cuba \n",
      "Life expectancy in 2013: 79.23926829 \n",
      "Difference between the life expectancies in 2013: 0.3999999999999915\n"
     ]
    },
    {
     "data": {
      "text/plain": [
       "('Cuba', '79.23926829', '0.3999999999999915')"
      ]
     },
     "execution_count": 12,
     "metadata": {},
     "output_type": "execute_result"
    }
   ],
   "source": [
    "def compare_country_le(country1,country2):\n",
    "    for item in life_expectancy_list:\n",
    "        if(item['country']==country1):\n",
    "            A1=(item['le_2013'])\n",
    "            A2=(item['country'])\n",
    "        elif(item['country']==country2):\n",
    "            B1=(item['le_2013'])\n",
    "            B2=(item['country'])\n",
    "    if(A1>B1):\n",
    "        C1=round(float(A1),2)-round(float(B1),2)\n",
    "        #print(str(A2)+\" \"+str(A1)+ \" \"+str(C1))\n",
    "        Tuple = (str(A2),str(A1),str(C1))\n",
    "        print('Name of the country with the greater life expectancy:', str(A2),'\\nLife expectancy in 2013:', str(A1),'\\nDifference between the life expectancies in 2013:', str(C1))\n",
    "        return Tuple\n",
    "    else:\n",
    "            C1=round(float(B1),2)-round(float(A1),2)\n",
    "            #print(str(B2) +\" \"+str(B1) +\" \"+str(C1))\n",
    "            Tuple = (str(B2),str(B1),str(C1))\n",
    "            print('Name of the country with the greater life expectancy:', str(B2),'\\nLife expectancy in 2013:', str(B1),'\\nDifference between the life expectancies in 2013:', str(C1))\n",
    "            return Tuple \n",
    "        \n",
    "compare_country_le('United States','Cuba')    "
   ]
  },
  {
   "cell_type": "markdown",
   "metadata": {},
   "source": [
    "## Part 3. Readability\n",
    "For this part of the assignment, you will calculate the [readability](https://en.wikipedia.org/wiki/Readability) of a text document using the [Dale-Chall Readability Formula](http://www.readabilityformulas.com/new-dale-chall-readability-formula.php). This method determines how \"easy\" it is to read a particular (English) document by considering the length of sentences and how many of the words used are \"easy\" to understand (based on a pre-defined list of \"easy\" words)."
   ]
  },
  {
   "cell_type": "markdown",
   "metadata": {},
   "source": [
    "Splitting real-world text documents into words and sentences is non-trivial (English is hard!). To make this easier, you should use the [Natural Language Toolkit (nltk)](http://www.nltk.org/index.html) module. This module is included with Anacaonda, but does require some additional data source files to be installed on your computer. You _should_ be able to do this by running the below cell (you only need to run it once)."
   ]
  },
  {
   "cell_type": "code",
   "execution_count": 13,
   "metadata": {},
   "outputs": [
    {
     "name": "stderr",
     "output_type": "stream",
     "text": [
      "[nltk_data] Downloading package punkt to\n",
      "[nltk_data]     C:\\Users\\MAYURESH\\AppData\\Roaming\\nltk_data...\n",
      "[nltk_data]   Package punkt is already up-to-date!\n",
      "[nltk_data] Downloading package wordnet to\n",
      "[nltk_data]     C:\\Users\\MAYURESH\\AppData\\Roaming\\nltk_data...\n",
      "[nltk_data]   Package wordnet is already up-to-date!\n"
     ]
    },
    {
     "data": {
      "text/plain": [
       "True"
      ]
     },
     "execution_count": 13,
     "metadata": {},
     "output_type": "execute_result"
    }
   ],
   "source": [
    "from nltk import download\n",
    "download('punkt')\n",
    "download('wordnet')"
   ]
  },
  {
   "cell_type": "markdown",
   "metadata": {},
   "source": [
    "You will also need to load the list of \"easy\" words into memory. This list can be found in the **`data/dale-chall.txt`** file. Open this file and read its entire contents into a **list** variable (e.g., `easy_words_list`), where each element in the list is a single line (word) in the file."
   ]
  },
  {
   "cell_type": "code",
   "execution_count": 14,
   "metadata": {},
   "outputs": [
    {
     "name": "stdout",
     "output_type": "stream",
     "text": [
      "['a', 'able', 'aboard', 'about', 'above', 'absent', 'accept', 'accident', 'account', 'ache', 'aching', 'acorn', 'acre', 'across', 'act', 'acts', 'add', 'address', 'admire', 'adventure', 'afar', 'afraid', 'after', 'afternoon', 'afterward', 'afterwards', 'again', 'against', 'age', 'aged', 'ago', 'agree', 'ah', 'ahead', 'aid', 'aim', 'air', 'airfield', 'airplane', 'airport', 'airship', 'airy', 'alarm', 'alike', 'alive', 'all', 'alley', 'alligator', 'allow', 'almost', 'alone', 'along', 'aloud', 'already', 'also', 'always', 'am', 'america', 'american', 'among', 'amount', 'an', 'and', 'angel', 'anger', 'angry', 'animal', 'another', 'answer', 'ant', 'any', 'anybody', 'anyhow', 'anyone', 'anything', 'anyway', 'anywhere', 'apart', 'apartment', 'ape', 'apiece', 'appear', 'apple', 'april', 'apron', 'are', \"aren't\", 'arise', 'arithmetic', 'arm', 'armful', 'army', 'arose', 'around', 'arrange', 'arrive', 'arrived', 'arrow', 'art', 'artist', 'as', 'ash', 'ashes', 'aside', 'ask', 'asleep', 'at', 'ate', 'attack', 'attend', 'attention', 'august', 'aunt', 'author', 'auto', 'automobile', 'autumn', 'avenue', 'awake', 'awaken', 'away', 'awful', 'awfully', 'awhile', 'ax', 'axe', 'baa', 'babe', 'babies', 'back', 'background', 'backward', 'backwards', 'bacon', 'bad', 'badge', 'badly', 'bag', 'bake', 'baker', 'bakery', 'baking', 'ball', 'balloon', 'banana', 'band', 'bandage', 'bang', 'banjo', 'bank', 'banker', 'bar', 'barber', 'bare', 'barefoot', 'barely', 'bark', 'barn', 'barrel', 'base', 'baseball', 'basement', 'basket', 'bat', 'batch', 'bath', 'bathe', 'bathing', 'bathroom', 'bathtub', 'battle', 'battleship', 'bay', 'be', 'beach', 'bead', 'beam', 'bean', 'bear', 'beard', 'beast', 'beat', 'beating', 'beautiful', 'beautify', 'beauty', 'became', 'because', 'become', 'becoming', 'bed', 'bedbug', 'bedroom', 'bedspread', 'bedtime', 'bee', 'beech', 'beef', 'beefsteak', 'beehive', 'been', 'beer', 'beet', 'before', 'beg', 'began', 'beggar', 'begged', 'begin', 'beginning', 'begun', 'behave', 'behind', 'being', 'believe', 'bell', 'belong', 'below', 'belt', 'bench', 'bend', 'beneath', 'bent', 'berries', 'berry', 'beside', 'besides', 'best', 'bet', 'better', 'between', 'bib', 'bible', 'bicycle', 'bid', 'big', 'bigger', 'bill', 'billboard', 'bin', 'bind', 'bird', 'birth', 'birthday', 'biscuit', 'bit', 'bite', 'biting', 'bitter', 'black', 'blackberry', 'blackbird', 'blackboard', 'blackness', 'blacksmith', 'blame', 'blank', 'blanket', 'blast', 'blaze', 'bleed', 'bless', 'blessing', 'blew', 'blind', 'blindfold', 'blinds', 'block', 'blood', 'bloom', 'blossom', 'blot', 'blow', 'blue', 'blueberry', 'bluebird', 'blush', 'board', 'boast', 'boat', 'bob', 'bobwhite', 'bodies', 'body', 'boil', 'boiler', 'bold', 'bone', 'bonnet', 'boo', 'book', 'bookcase', 'bookkeeper', 'boom', 'boot', 'born', 'borrow', 'boss', 'both', 'bother', 'bottle', 'bottom', 'bought', 'bounce', 'bow', 'bow-wow', 'bowl', 'box', 'boxcar', 'boxer', 'boxes', 'boy', 'boyhood', 'bracelet', 'brain', 'brake', 'bran', 'branch', 'brass', 'brave', 'bread', 'break', 'breakfast', 'breast', 'breath', 'breathe', 'breeze', 'brick', 'bride', 'bridge', 'bright', 'brightness', 'bring', 'broad', 'broadcast', 'broke', 'broken', 'brook', 'broom', 'brother', 'brought', 'brown', 'brush', 'bubble', 'bucket', 'buckle', 'bud', 'buffalo', 'bug', 'buggy', 'build', 'building', 'built', 'bulb', 'bull', 'bullet', 'bum', 'bumblebee', 'bump', 'bun', 'bunch', 'bundle', 'bunny', 'burn', 'burst', 'bury', 'bus', 'bush', 'bushel', 'business', 'busy', 'but', 'butcher', 'butt', 'butter', 'buttercup', 'butterfly', 'buttermilk', 'butterscotch', 'button', 'buttonhole', 'buy', 'buzz', 'by', 'bye', 'cab', 'cabbage', 'cabin', 'cabinet', 'cackle', 'cage', 'cake', 'calendar', 'calf', 'call', 'caller', 'calling', 'came', 'camel', 'camp', 'campfire', 'can', \"can't\", 'canal', 'canary', 'candle', 'candlestick', 'candy', 'cane', 'cannon', 'cannot', 'canoe', 'canyon', 'cap', 'cape', 'capital', 'captain', 'car', 'card', 'cardboard', 'care', 'careful', 'careless', 'carelessness', 'carload', 'carpenter', 'carpet', 'carriage', 'carrot', 'carry', 'cart', 'carve', 'case', 'cash', 'cashier', 'castle', 'cat', 'catbird', 'catch', 'catcher', 'caterpillar', 'catfish', 'catsup', 'cattle', 'caught', 'cause', 'cave', 'ceiling', 'cell', 'cellar', 'cent', 'center', 'cereal', 'certain', 'certainly', 'chain', 'chair', 'chalk', 'champion', 'chance', 'change', 'chap', 'charge', 'charm', 'chart', 'chase', 'chatter', 'cheap', 'cheat', 'check', 'checkers', 'cheek', 'cheer', 'cheese', 'cherry', 'chest', 'chew', 'chick', 'chicken', 'chief', 'child', 'childhood', 'children', 'chill', 'chilly', 'chimney', 'chin', 'china', 'chip', 'chipmunk', 'chocolate', 'choice', 'choose', 'chop', 'chorus', 'chose', 'chosen', 'christen', 'christmas', 'church', 'churn', 'cigarette', 'circle', 'circus', 'citizen', 'city', 'clang', 'clap', 'class', 'classmate', 'classroom', 'claw', 'clay', 'clean', 'cleaner', 'clear', 'clerk', 'clever', 'click', 'cliff', 'climb', 'clip', 'cloak', 'clock', 'close', 'closet', 'cloth', 'clothes', 'clothing', 'cloud', 'cloudy', 'clover', 'clown', 'club', 'cluck', 'clump', 'coach', 'coal', 'coast', 'coat', 'cob', 'cobbler', 'cocoa', 'coconut', 'cocoon', 'cod', 'codfish', 'coffee', 'coffeepot', 'coin', 'cold', 'collar', 'college', 'color', 'colored', 'colt', 'column', 'comb', 'come', 'comfort', 'comic', 'coming', 'company', 'compare', 'conductor', 'cone', 'connect', 'coo', 'cook', 'cooked', 'cookie', 'cookies', 'cooking', 'cool', 'cooler', 'coop', 'copper', 'copy', 'cord', 'cork', 'corn', 'corner', 'correct', 'cost', 'cot', 'cottage', 'cotton', 'couch', 'cough', 'could', \"couldn't\", 'count', 'counter', 'country', 'county', 'course', 'court', 'cousin', 'cover', 'cow', 'coward', 'cowardly', 'cowboy', 'cozy', 'crab', 'crack', 'cracker', 'cradle', 'cramps', 'cranberry', 'crank', 'cranky', 'crash', 'crawl', 'crazy', 'cream', 'creamy', 'creek', 'creep', 'crept', 'cried', 'cries', 'croak', 'crook', 'crooked', 'crop', 'cross', 'cross-eyed', 'crossing', 'crow', 'crowd', 'crowded', 'crown', 'cruel', 'crumb', 'crumble', 'crush', 'crust', 'cry', 'cub', 'cuff', 'cup', 'cupboard', 'cupful', 'cure', 'curl', 'curly', 'curtain', 'curve', 'cushion', 'custard', 'customer', 'cut', 'cute', 'cutting', 'dab', 'dad', 'daddy', 'daily', 'dairy', 'daisy', 'dam', 'damage', 'dame', 'damp', 'dance', 'dancer', 'dancing', 'dandy', 'danger', 'dangerous', 'dare', 'dark', 'darkness', 'darling', 'darn', 'dart', 'dash', 'date', 'daughter', 'dawn', 'day', 'daybreak', 'daytime', 'dead', 'deaf', 'deal', 'dear', 'death', 'december', 'decide', 'deck', 'deed', 'deep', 'deer', 'defeat', 'defend', 'defense', 'delight', 'den', 'dentist', 'depend', 'deposit', 'describe', 'desert', 'deserve', 'desire', 'desk', 'destroy', 'devil', 'dew', 'diamond', 'did', \"didn't\", 'die', 'died', 'dies', 'difference', 'different', 'dig', 'dim', 'dime', 'dine', 'ding-dong', 'dinner', 'dip', 'direct', 'direction', 'dirt', 'dirty', 'discover', 'dish', 'dislike', 'dismiss', 'ditch', 'dive', 'diver', 'divide', 'do', 'dock', 'doctor', 'does', \"doesn't\", 'dog', 'doll', 'dollar', 'dolly', \"don't\", 'done', 'donkey', 'door', 'doorbell', 'doorknob', 'doorstep', 'dope', 'dot', 'double', 'dough', 'dove', 'down', 'downstairs', 'downtown', 'dozen', 'drag', 'drain', 'drank', 'draw', 'drawer', 'drawing', 'dream', 'dress', 'dresser', 'dressmaker', 'drew', 'dried', 'drift', 'drill', 'drink', 'drip', 'drive', 'driven', 'driver', 'drop', 'drove', 'drown', 'drowsy', 'drub', 'drum', 'drunk', 'dry', 'duck', 'due', 'dug', 'dull', 'dumb', 'dump', 'during', 'dust', 'dusty', 'duty', 'dwarf', 'dwell', 'dwelt', 'dying', 'each', 'eager', 'eagle', 'ear', 'early', 'earn', 'earth', 'east', 'eastern', 'easy', 'eat', 'eaten', 'edge', 'egg', 'eh', 'eight', 'eighteen', 'eighth', 'eighty', 'either', 'elbow', 'elder', 'eldest', 'electric', 'electricity', 'elephant', 'eleven', 'elf', 'elm', 'else', 'elsewhere', 'empty', 'end', 'ending', 'enemy', 'engine', 'engineer', 'english', 'enjoy', 'enough', 'enter', 'envelope', 'equal', 'erase', 'eraser', 'errand', 'escape', 'eve', 'even', 'evening', 'ever', 'every', 'everybody', 'everyday', 'everyone', 'everything', 'everywhere', 'evil', 'exact', 'except', 'exchange', 'excited', 'exciting', 'excuse', 'exit', 'expect', 'explain', 'extra', 'eye', 'eyebrow', 'fable', 'face', 'facing', 'fact', 'factory', 'fail', 'faint', 'fair', 'fairy', 'faith', 'fake', 'fall', 'false', 'family', 'fan', 'fancy', 'far', 'far-off', 'faraway', 'fare', 'farm', 'farmer', 'farming', 'farther', 'fashion', 'fast', 'fasten', 'fat', 'father', 'fault', 'favor', 'favorite', 'fear', 'feast', 'feather', 'february', 'fed', 'feed', 'feel', 'feet', 'fell', 'fellow', 'felt', 'fence', 'fever', 'few', 'fib', 'fiddle', 'field', 'fife', 'fifteen', 'fifth', 'fifty', 'fig', 'fight', 'figure', 'file', 'fill', 'film', 'finally', 'find', 'fine', 'finger', 'finish', 'fire', 'firearm', 'firecracker', 'fireplace', 'fireworks', 'firing', 'first', 'fish', 'fisherman', 'fist', 'fit', 'fits', 'five', 'fix', 'flag', 'flake', 'flame', 'flap', 'flash', 'flashlight', 'flat', 'flea', 'flesh', 'flew', 'flies', 'flight', 'flip', 'flip-flop', 'float', 'flock', 'flood', 'floor', 'flop', 'flour', 'flow', 'flower', 'flowery', 'flutter', 'fly', 'foam', 'fog', 'foggy', 'fold', 'folks', 'follow', 'following', 'fond', 'food', 'fool', 'foolish', 'foot', 'football', 'footprint', 'for', 'forehead', 'forest', 'forget', 'forgive', 'forgot', 'forgotten', 'fork', 'form', 'fort', 'forth', 'fortune', 'forty', 'forward', 'fought', 'found', 'fountain', 'four', 'fourteen', 'fourth', 'fox', 'frame', 'free', 'freedom', 'freeze', 'freight', 'french', 'fresh', 'fret', 'friday', 'fried', 'friend', 'friendly', 'friendship', 'frighten', 'frog', 'from', 'front', 'frost', 'frown', 'froze', 'fruit', 'fry', 'fudge', 'fuel', 'full', 'fully', 'fun', 'funny', 'fur', 'furniture', 'further', 'fuzzy', 'gain', 'gallon', 'gallop', 'game', 'gang', 'garage', 'garbage', 'garden', 'gas', 'gasoline', 'gate', 'gather', 'gave', 'gay', 'gear', 'geese', 'general', 'gentle', 'gentleman', 'gentlemen', 'geography', 'get', 'getting', 'giant', 'gift', 'gingerbread', 'girl', 'give', 'given', 'giving', 'glad', 'gladly', 'glance', 'glass', 'glasses', 'gleam', 'glide', 'glory', 'glove', 'glow', 'glue', 'go', 'goal', 'goat', 'gobble', 'god', 'godmother', 'goes', 'going', 'gold', 'golden', 'goldfish', 'golf', 'gone', 'good', 'good-by', 'good-bye', 'good-looking', 'goodbye', 'goodness', 'goods', 'goody', 'goose', 'gooseberry', 'got', 'govern', 'government', 'gown', 'grab', 'gracious', 'grade', 'grain', 'grand', 'grandchild', 'grandchildren', 'granddaughter', 'grandfather', 'grandma', 'grandmother', 'grandpa', 'grandson', 'grandstand', 'grape', 'grapefruit', 'grapes', 'grass', 'grasshopper', 'grateful', 'grave', 'gravel', 'graveyard', 'gravy', 'gray', 'graze', 'grease', 'great', 'green', 'greet', 'grew', 'grind', 'groan', 'grocery', 'ground', 'group', 'grove', 'grow', 'guard', 'guess', 'guest', 'guide', 'gulf', 'gum', 'gun', 'gunpowder', 'guy', 'ha', 'habit', 'had', \"hadn't\", 'hail', 'hair', 'haircut', 'hairpin', 'half', 'hall', 'halt', 'ham', 'hammer', 'hand', 'handful', 'handkerchief', 'handle', 'handwriting', 'hang', 'happen', 'happily', 'happiness', 'happy', 'harbor', 'hard', 'hardly', 'hardship', 'hardware', 'hare', 'hark', 'harm', 'harness', 'harp', 'harvest', 'has', \"hasn't\", 'haste', 'hasten', 'hasty', 'hat', 'hatch', 'hatchet', 'hate', 'haul', 'have', \"haven't\", 'having', 'hawk', 'hay', 'hayfield', 'haystack', 'he', \"he'd\", \"he'll\", \"he's\", 'head', 'headache', 'heal', 'health', 'healthy', 'heap', 'hear', 'heard', 'hearing', 'heart', 'heat', 'heater', 'heaven', 'heavy', 'heel', 'height', 'held', 'hell', 'hello', 'helmet', 'help', 'helper', 'helpful', 'hem', 'hen', 'henhouse', 'her', 'herd', 'here', \"here's\", 'hero', 'hers', 'herself', 'hey', 'hickory', 'hid', 'hidden', 'hide', 'high', 'highway', 'hill', 'hillside', 'hilltop', 'hilly', 'him', 'himself', 'hind', 'hint', 'hip', 'hire', 'his', 'hiss', 'history', 'hit', 'hitch', 'hive', 'ho', 'hoe', 'hog', 'hold', 'holder', 'hole', 'holiday', 'hollow', 'holy', 'home', 'homely', 'homesick', 'honest', 'honey', 'honeybee', 'honeymoon', 'honk', 'honor', 'hood', 'hoof', 'hook', 'hoop', 'hop', 'hope', 'hopeful', 'hopeless', 'horn', 'horse', 'horseback', 'horseshoe', 'hose', 'hospital', 'host', 'hot', 'hotel', 'hound', 'hour', 'house', 'housetop', 'housewife', 'housework', 'how', 'however', 'howl', 'hug', 'huge', 'hum', 'humble', 'hump', 'hundred', 'hung', 'hunger', 'hungry', 'hunk', 'hunt', 'hunter', 'hurrah', 'hurried', 'hurry', 'hurt', 'husband', 'hush', 'hut', 'hymn', 'i', \"i'd\", \"i'll\", \"i'm\", \"i've\", 'ice', 'icy', 'idea', 'ideal', 'if', 'ill', 'important', 'impossible', 'improve', 'in', 'inch', 'inches', 'income', 'indeed', 'indian', 'indoors', 'ink', 'inn', 'insect', 'inside', 'instant', 'instead', 'insult', 'intend', 'interested', 'interesting', 'into', 'invite', 'iron', 'is', 'island', \"isn't\", 'it', \"it's\", 'its', 'itself', 'ivory', 'ivy', 'jacket', 'jacks', 'jail', 'jam', 'january', 'jar', 'jaw', 'jay', 'jelly', 'jellyfish', 'jerk', 'jig', 'job', 'jockey', 'join', 'joke', 'joking', 'jolly', 'journey', 'joy', 'joyful', 'joyous', 'judge', 'jug', 'juice', 'juicy', 'july', 'jump', 'june', 'junior', 'junk', 'just', 'keen', 'keep', 'kept', 'kettle', 'key', 'kick', 'kid', 'kill', 'killed', 'kind', 'kindly', 'kindness', 'king', 'kingdom', 'kiss', 'kitchen', 'kite', 'kitten', 'kitty', 'knee', 'kneel', 'knew', 'knife', 'knit', 'knives', 'knob', 'knock', 'knot', 'know', 'known', 'lace', 'lad', 'ladder', 'ladies', 'lady', 'laid', 'lake', 'lamb', 'lame', 'lamp', 'land', 'lane', 'language', 'lantern', 'lap', 'lard', 'large', 'lash', 'lass', 'last', 'late', 'laugh', 'laundry', 'law', 'lawn', 'lawyer', 'lay', 'lazy', 'lead', 'leader', 'leaf', 'leak', 'lean', 'leap', 'learn', 'learned', 'least', 'leather', 'leave', 'leaving', 'led', 'left', 'leg', 'lemon', 'lemonade', 'lend', 'length', 'less', 'lesson', 'let', \"let's\", 'letter', 'letting', 'lettuce', 'level', 'liberty', 'library', 'lice', 'lick', 'lid', 'lie', 'life', 'lift', 'light', 'lightness', 'lightning', 'like', 'likely', 'liking', 'lily', 'limb', 'lime', 'limp', 'line', 'linen', 'lion', 'lip', 'list', 'listen', 'lit', 'little', 'live', 'lively', 'liver', 'lives', 'living', 'lizard', 'load', 'loaf', 'loan', 'loaves', 'lock', 'locomotive', 'log', 'lone', 'lonely', 'lonesome', 'long', 'look', 'lookout', 'loop', 'loose', 'lord', 'lose', 'loser', 'loss', 'lost', 'lot', 'loud', 'love', 'lovely', 'lover', 'low', 'luck', 'lucky', 'lumber', 'lump', 'lunch', 'lying', 'ma', 'machine', 'machinery', 'mad', 'made', 'magazine', 'magic', 'maid', 'mail', 'mailbox', 'mailman', 'major', 'make', 'making', 'male', 'mama', 'mamma', 'man', 'manager', 'mane', 'manger', 'many', 'map', 'maple', 'marble', 'march', 'mare', 'mark', 'market', 'marriage', 'married', 'marry', 'mask', 'mast', 'master', 'mat', 'match', 'matter', 'mattress', 'may', 'maybe', 'mayor', 'maypole', 'me', 'meadow', 'meal', 'mean', 'means', 'meant', 'measure', 'meat', 'medicine', 'meet', 'meeting', 'melt', 'member', 'men', 'mend', 'meow', 'merry', 'mess', 'message', 'met', 'metal', 'mew', 'mice', 'middle', 'midnight', 'might', 'mighty', 'mile', 'miler', 'milk', 'milkman', 'mill', 'million', 'mind', 'mine', 'miner', 'mint', 'minute', 'mirror', 'mischief', 'miss', 'misspell', 'mistake', 'misty', 'mitt', 'mitten', 'mix', 'moment', 'monday', 'money', 'monkey', 'month', 'moo', 'moon', 'moonlight', 'moose', 'mop', 'more', 'morning', 'morrow', 'moss', 'most', 'mostly', 'mother', 'motor', 'mount', 'mountain', 'mouse', 'mouth', 'move', 'movie', 'movies', 'moving', 'mow', 'mr.', 'mrs.', 'much', 'mud', 'muddy', 'mug', 'mule', 'multiply', 'murder', 'music', 'must', 'my', 'myself', 'nail', 'name', 'nap', 'napkin', 'narrow', 'nasty', 'naughty', 'navy', 'near', 'nearby', 'nearly', 'neat', 'neck', 'necktie', 'need', 'needle', \"needn't\", 'negro', 'neighbor', 'neighborhood', 'neither', 'nerve', 'nest', 'net', 'never', 'nevermore', 'new', 'news', 'newspaper', 'next', 'nibble', 'nice', 'nickel', 'night', 'nightgown', 'nine', 'nineteen', 'ninety', 'no', 'nobody', 'nod', 'noise', 'noisy', 'none', 'noon', 'nor', 'north', 'northern', 'nose', 'not', 'note', 'nothing', 'notice', 'november', 'now', 'nowhere', 'number', 'nurse', 'nut', \"o'clock\", 'oak', 'oar', 'oatmeal', 'oats', 'obey', 'ocean', 'october', 'odd', 'of', 'off', 'offer', 'office', 'officer', 'often', 'oh', 'oil', 'old', 'old-fashioned', 'on', 'once', 'one', 'onion', 'only', 'onward', 'open', 'or', 'orange', 'orchard', 'order', 'ore', 'organ', 'other', 'otherwise', 'ouch', 'ought', 'our', 'ours', 'ourselves', 'out', 'outdoors', 'outfit', 'outlaw', 'outline', 'outside', 'outward', 'oven', 'over', 'overalls', 'overcoat', 'overeat', 'overhead', 'overhear', 'overnight', 'overturn', 'owe', 'owing', 'owl', 'own', 'owner', 'ox', 'pa', 'pace', 'pack', 'package', 'pad', 'page', 'paid', 'pail', 'pain', 'painful', 'paint', 'painter', 'painting', 'pair', 'pal', 'palace', 'pale', 'pan', 'pancake', 'pane', 'pansy', 'pants', 'papa', 'paper', 'parade', 'pardon', 'parent', 'park', 'part', 'partly', 'partner', 'party', 'pass', 'passenger', 'past', 'paste', 'pasture', 'pat', 'patch', 'path', 'patter', 'pave', 'pavement', 'paw', 'pay', 'payment', 'pea', 'peace', 'peaceful', 'peach', 'peaches', 'peak', 'peanut', 'pear', 'pearl', 'peas', 'peck', 'peek', 'peel', 'peep', 'peg', 'pen', 'pencil', 'penny', 'people', 'pepper', 'peppermint', 'perfume', 'perhaps', 'person', 'pet', 'phone', 'piano', 'pick', 'pickle', 'picnic', 'picture', 'pie', 'piece', 'pig', 'pigeon', 'piggy', 'pile', 'pill', 'pillow', 'pin', 'pine', 'pineapple', 'pink', 'pint', 'pipe', 'pistol', 'pit', 'pitch', 'pitcher', 'pity', 'place', 'plain', 'plan', 'plane', 'plant', 'plate', 'platform', 'platter', 'play', 'player', 'playground', 'playhouse', 'playmate', 'plaything', 'pleasant', 'please', 'pleasure', 'plenty', 'plow', 'plug', 'plum', 'pocket', 'pocketbook', 'poem', 'point', 'poison', 'poke', 'pole', 'police', 'policeman', 'polish', 'polite', 'pond', 'ponies', 'pony', 'pool', 'poor', 'pop', 'popcorn', 'popped', 'porch', 'pork', 'possible', 'post', 'postage', 'postman', 'pot', 'potato', 'potatoes', 'pound', 'pour', 'powder', 'power', 'powerful', 'praise', 'pray', 'prayer', 'prepare', 'present', 'pretty', 'price', 'prick', 'prince', 'princess', 'print', 'prison', 'prize', 'promise', 'proper', 'protect', 'proud', 'prove', 'prune', 'public', 'puddle', 'puff', 'pull', 'pump', 'pumpkin', 'punch', 'punish', 'pup', 'pupil', 'puppy', 'pure', 'purple', 'purse', 'push', 'puss', 'pussy', 'pussycat', 'put', 'putting', 'puzzle', 'quack', 'quart', 'quarter', 'queen', 'queer', 'question', 'quick', 'quickly', 'quiet', 'quilt', 'quit', 'quite', 'rabbit', 'race', 'rack', 'radio', 'radish', 'rag', 'rail', 'railroad', 'railway', 'rain', 'rainbow', 'rainy', 'raise', 'raisin', 'rake', 'ram', 'ran', 'ranch', 'rang', 'rap', 'rapidly', 'rat', 'rate', 'rather', 'rattle', 'raw', 'ray', 'reach', 'read', 'reader', 'reading', 'ready', 'real', 'really', 'reap', 'rear', 'reason', 'rebuild', 'receive', 'recess', 'record', 'red', 'redbird', 'redbreast', 'refuse', 'reindeer', 'rejoice', 'remain', 'remember', 'remind', 'remove', 'rent', 'repair', 'repay', 'repeat', 'report', 'rest', 'return', 'review', 'reward', 'rib', 'ribbon', 'rice', 'rich', 'rid', 'riddle', 'ride', 'rider', 'riding', 'right', 'rim', 'ring', 'rip', 'ripe', 'rise', 'rising', 'river', 'road', 'roadside', 'roar', 'roast', 'rob', 'robber', 'robe', 'robin', 'rock', 'rocket', 'rocky', 'rode', 'roll', 'roller', 'roof', 'room', 'rooster', 'root', 'rope', 'rose', 'rosebud', 'rot', 'rotten', 'rough', 'round', 'route', 'row', 'rowboat', 'royal', 'rub', 'rubbed', 'rubber', 'rubbish', 'rug', 'rule', 'ruler', 'rumble', 'run', 'rung', 'runner', 'running', 'rush', 'rust', 'rusty', 'rye', 'sack', 'sad', 'saddle', 'sadness', 'safe', 'safety', 'said', 'sail', 'sailboat', 'sailor', 'saint', 'salad', 'sale', 'salt', 'same', 'sand', 'sandwich', 'sandy', 'sang', 'sank', 'sap', 'sash', 'sat', 'satin', 'satisfactory', 'saturday', 'sausage', 'savage', 'save', 'savings', 'saw', 'say', 'scab', 'scales', 'scare', 'scarf', 'school', 'schoolboy', 'schoolhouse', 'schoolmaster', 'schoolroom', 'scorch', 'score', 'scrap', 'scrape', 'scratch', 'scream', 'screen', 'screw', 'scrub', 'sea', 'seal', 'seam', 'search', 'season', 'seat', 'second', 'secret', 'see', 'seed', 'seeing', 'seek', 'seem', 'seen', 'seesaw', 'select', 'self', 'selfish', 'sell', 'send', 'sense', 'sent', 'sentence', 'separate', 'september', 'servant', 'serve', 'service', 'set', 'setting', 'settle', 'settlement', 'seven', 'seventeen', 'seventh', 'seventy', 'several', 'sew', 'shade', 'shadow', 'shady', 'shake', 'shaker', 'shaking', 'shall', 'shame', \"shan't\", 'shape', 'share', 'sharp', 'shave', 'she', \"she'd\", \"she'll\", \"she's\", 'shear', 'shears', 'shed', 'sheep', 'sheet', 'shelf', 'shell', 'shepherd', 'shine', 'shining', 'shiny', 'ship', 'shirt', 'shock', 'shoe', 'shoemaker', 'shone', 'shook', 'shoot', 'shop', 'shopping', 'shore', 'short', 'shot', 'should', 'shoulder', \"shouldn't\", 'shout', 'shovel', 'show', 'shower', 'shut', 'shy', 'sick', 'sickness', 'side', 'sidewalk', 'sideways', 'sigh', 'sight', 'sign', 'silence', 'silent', 'silk', 'sill', 'silly', 'silver', 'simple', 'sin', 'since', 'sing', 'singer', 'single', 'sink', 'sip', 'sir', 'sis', 'sissy', 'sister', 'sit', 'sitting', 'six', 'sixteen', 'sixth', 'sixty', 'size', 'skate', 'skater', 'ski', 'skin', 'skip', 'skirt', 'sky', 'slam', 'slap', 'slate', 'slave', 'sled', 'sleep', 'sleepy', 'sleeve', 'sleigh', 'slept', 'slice', 'slid', 'slide', 'sling', 'slip', 'slipped', 'slipper', 'slippery', 'slit', 'slow', 'slowly', 'sly', 'smack', 'small', 'smart', 'smell', 'smile', 'smoke', 'smooth', 'snail', 'snake', 'snap', 'snapping', 'sneeze', 'snow', 'snowball', 'snowflake', 'snowy', 'snuff', 'snug', 'so', 'soak', 'soap', 'sob', 'socks', 'sod', 'soda', 'sofa', 'soft', 'soil', 'sold', 'soldier', 'sole', 'some', 'somebody', 'somehow', 'someone', 'something', 'sometime', 'sometimes', 'somewhere', 'son', 'song', 'soon', 'sore', 'sorrow', 'sorry', 'sort', 'soul', 'sound', 'soup', 'sour', 'south', 'southern', 'space', 'spade', 'spank', 'sparrow', 'speak', 'speaker', 'spear', 'speech', 'speed', 'spell', 'spelling', 'spend', 'spent', 'spider', 'spike', 'spill', 'spin', 'spinach', 'spirit', 'spit', 'splash', 'spoil', 'spoke', 'spook', 'spoon', 'sport', 'spot', 'spread', 'spring', 'springtime', 'sprinkle', 'square', 'squash', 'squeak', 'squeeze', 'squirrel', 'stable', 'stack', 'stage', 'stair', 'stall', 'stamp', 'stand', 'star', 'stare', 'start', 'starve', 'state', 'states', 'station', 'stay', 'steak', 'steal', 'steam', 'steamboat', 'steamer', 'steel', 'steep', 'steeple', 'steer', 'stem', 'step', 'stepping', 'stick', 'sticky', 'stiff', 'still', 'stillness', 'sting', 'stir', 'stitch', 'stock', 'stocking', 'stole', 'stone', 'stood', 'stool', 'stoop', 'stop', 'stopped', 'stopping', 'store', 'stories', 'stork', 'storm', 'stormy', 'story', 'stove', 'straight', 'strange', 'stranger', 'strap', 'straw', 'strawberry', 'stream', 'street', 'stretch', 'string', 'strip', 'stripes', 'strong', 'stuck', 'study', 'stuff', 'stump', 'stung', 'subject', 'such', 'suck', 'sudden', 'suffer', 'sugar', 'suit', 'sum', 'summer', 'sun', 'sunday', 'sunflower', 'sung', 'sunk', 'sunlight', 'sunny', 'sunrise', 'sunset', 'sunshine', 'supper', 'suppose', 'sure', 'surely', 'surface', 'surprise', 'swallow', 'swam', 'swamp', 'swan', 'swat', 'swear', 'sweat', 'sweater', 'sweep', 'sweet', 'sweetheart', 'sweetness', 'swell', 'swept', 'swift', 'swim', 'swimming', 'swing', 'switch', 'sword', 'swore', 'table', 'tablecloth', 'tablespoon', 'tablet', 'tack', 'tag', 'tail', 'tailor', 'take', 'taken', 'taking', 'tale', 'talk', 'talker', 'tall', 'tame', 'tan', 'tank', 'tap', 'tape', 'tar', 'tardy', 'task', 'taste', 'taught', 'tax', 'tea', 'teach', 'teacher', 'team', 'tear', 'tease', 'teaspoon', 'teeth', 'telephone', 'tell', 'temper', 'ten', 'tennis', 'tent', 'term', 'terrible', 'test', 'than', 'thank', 'thankful', 'thanks', 'thanksgiving', 'that', \"that's\", 'the', 'theater', 'thee', 'their', 'them', 'then', 'there', 'these', 'they', \"they'd\", \"they'll\", \"they're\", \"they've\", 'thick', 'thief', 'thimble', 'thin', 'thing', 'think', 'third', 'thirsty', 'thirteen', 'thirty', 'this', 'thorn', 'those', 'though', 'thought', 'thousand', 'thread', 'three', 'threw', 'throat', 'throne', 'through', 'throw', 'thrown', 'thumb', 'thunder', 'thursday', 'thy', 'tick', 'ticket', 'tickle', 'tie', 'tiger', 'tight', 'till', 'time', 'tin', 'tinkle', 'tiny', 'tip', 'tiptoe', 'tire', 'tired', 'title', 'to', 'toad', 'toadstool', 'toast', 'tobacco', 'today', 'toe', 'together', 'toilet', 'told', 'tomato', 'tomorrow', 'ton', 'tone', 'tongue', 'tonight', 'too', 'took', 'tool', 'toot', 'tooth', 'toothbrush', 'toothpick', 'top', 'tore', 'torn', 'toss', 'touch', 'tow', 'toward', 'towards', 'towel', 'tower', 'town', 'toy', 'trace', 'track', 'trade', 'train', 'tramp', 'trap', 'tray', 'treasure', 'treat', 'tree', 'trick', 'tricycle', 'tried', 'trim', 'trip', 'trolley', 'trouble', 'truck', 'true', 'truly', 'trunk', 'trust', 'truth', 'try', 'tub', 'tuesday', 'tug', 'tulip', 'tumble', 'tune', 'tunnel', 'turkey', 'turn', 'turtle', 'twelve', 'twenty', 'twice', 'twig', 'twin', 'two', 'ugly', 'umbrella', 'uncle', 'under', 'understand', 'underwear', 'undress', 'unfair', 'unfinished', 'unfold', 'unfriendly', 'unhappy', 'unhurt', 'uniform', 'united', 'unkind', 'unknown', 'unless', 'unpleasant', 'until', 'unwilling', 'up', 'upon', 'upper', 'upset', 'upside', 'upstairs', 'uptown', 'upward', 'us', 'use', 'used', 'useful', 'valentine', 'valley', 'valuable', 'value', 'vase', 'vegetable', 'velvet', 'very', 'vessel', 'victory', 'view', 'village', 'vine', 'violet', 'visit', 'visitor', 'voice', 'vote', 'wag', 'wagon', 'waist', 'wait', 'wake', 'waken', 'walk', 'wall', 'walnut', 'want', 'war', 'warm', 'warn', 'was', 'wash', 'washer', 'washtub', \"wasn't\", 'waste', 'watch', 'watchman', 'water', 'watermelon', 'waterproof', 'wave', 'wax', 'way', 'wayside', 'we', \"we'd\", \"we'll\", \"we're\", \"we've\", 'weak', 'weaken', 'weakness', 'wealth', 'weapon', 'wear', 'weary', 'weather', 'weave', 'web', 'wedding', 'wednesday', 'wee', 'weed', 'week', 'weep', 'weigh', 'welcome', 'well', 'went', 'were', 'west', 'western', 'wet', 'whale', 'what', \"what's\", 'wheat', 'wheel', 'when', 'whenever', 'where', 'which', 'while', 'whip', 'whipped', 'whirl', 'whiskey', 'whisky', 'whisper', 'whistle', 'white', 'who', \"who'd\", \"who'll\", \"who's\", 'whole', 'whom', 'whose', 'why', 'wicked', 'wide', 'wife', 'wiggle', 'wild', 'wildcat', 'will', 'willing', 'willow', 'win', 'wind', 'windmill', 'window', 'windy', 'wine', 'wing', 'wink', 'winner', 'winter', 'wipe', 'wire', 'wise', 'wish', 'wit', 'witch', 'with', 'without', 'woke', 'wolf', 'woman', 'women', 'won', \"won't\", 'wonder', 'wonderful', 'wood', 'wooden', 'woodpecker', 'woods', 'wool', 'woolen', 'word', 'wore', 'work', 'worker', 'workman', 'world', 'worm', 'worn', 'worry', 'worse', 'worst', 'worth', 'would', \"wouldn't\", 'wound', 'wove', 'wrap', 'wrapped', 'wreck', 'wren', 'wring', 'write', 'writing', 'written', 'wrong', 'wrote', 'wrung', 'yard', 'yarn', 'year', 'yell', 'yellow', 'yes', 'yesterday', 'yet', 'yolk', 'yonder', 'you', \"you'd\", \"you'll\", \"you're\", \"you've\", 'young', 'youngster', 'your', 'yours', 'yourself', 'yourselves', 'youth']\n"
     ]
    }
   ],
   "source": [
    "easy_words_list = open('data/dale-chall.txt','r').readlines()\n",
    "for i in range(0,len(easy_words_list)):\n",
    "        easy_words_list[i]= easy_words_list[i].strip('\\n')\n",
    "print(easy_words_list)"
   ]
  },
  {
   "cell_type": "markdown",
   "metadata": {},
   "source": [
    "In order to \"look up\" easy words, convert the easy words list into a **dictionary** (e.g., `easy_words_dict`), where each **key** is a word, and each **value** is `True` (that the word is in the list).\n",
    "- Make sure you do not include newline characters in your keys!"
   ]
  },
  {
   "cell_type": "code",
   "execution_count": 15,
   "metadata": {},
   "outputs": [
    {
     "data": {
      "text/plain": [
       "{'a': True,\n",
       " 'able': True,\n",
       " 'aboard': True,\n",
       " 'about': True,\n",
       " 'above': True,\n",
       " 'absent': True,\n",
       " 'accept': True,\n",
       " 'accident': True,\n",
       " 'account': True,\n",
       " 'ache': True,\n",
       " 'aching': True,\n",
       " 'acorn': True,\n",
       " 'acre': True,\n",
       " 'across': True,\n",
       " 'act': True,\n",
       " 'acts': True,\n",
       " 'add': True,\n",
       " 'address': True,\n",
       " 'admire': True,\n",
       " 'adventure': True,\n",
       " 'afar': True,\n",
       " 'afraid': True,\n",
       " 'after': True,\n",
       " 'afternoon': True,\n",
       " 'afterward': True,\n",
       " 'afterwards': True,\n",
       " 'again': True,\n",
       " 'against': True,\n",
       " 'age': True,\n",
       " 'aged': True,\n",
       " 'ago': True,\n",
       " 'agree': True,\n",
       " 'ah': True,\n",
       " 'ahead': True,\n",
       " 'aid': True,\n",
       " 'aim': True,\n",
       " 'air': True,\n",
       " 'airfield': True,\n",
       " 'airplane': True,\n",
       " 'airport': True,\n",
       " 'airship': True,\n",
       " 'airy': True,\n",
       " 'alarm': True,\n",
       " 'alike': True,\n",
       " 'alive': True,\n",
       " 'all': True,\n",
       " 'alley': True,\n",
       " 'alligator': True,\n",
       " 'allow': True,\n",
       " 'almost': True,\n",
       " 'alone': True,\n",
       " 'along': True,\n",
       " 'aloud': True,\n",
       " 'already': True,\n",
       " 'also': True,\n",
       " 'always': True,\n",
       " 'am': True,\n",
       " 'america': True,\n",
       " 'american': True,\n",
       " 'among': True,\n",
       " 'amount': True,\n",
       " 'an': True,\n",
       " 'and': True,\n",
       " 'angel': True,\n",
       " 'anger': True,\n",
       " 'angry': True,\n",
       " 'animal': True,\n",
       " 'another': True,\n",
       " 'answer': True,\n",
       " 'ant': True,\n",
       " 'any': True,\n",
       " 'anybody': True,\n",
       " 'anyhow': True,\n",
       " 'anyone': True,\n",
       " 'anything': True,\n",
       " 'anyway': True,\n",
       " 'anywhere': True,\n",
       " 'apart': True,\n",
       " 'apartment': True,\n",
       " 'ape': True,\n",
       " 'apiece': True,\n",
       " 'appear': True,\n",
       " 'apple': True,\n",
       " 'april': True,\n",
       " 'apron': True,\n",
       " 'are': True,\n",
       " \"aren't\": True,\n",
       " 'arise': True,\n",
       " 'arithmetic': True,\n",
       " 'arm': True,\n",
       " 'armful': True,\n",
       " 'army': True,\n",
       " 'arose': True,\n",
       " 'around': True,\n",
       " 'arrange': True,\n",
       " 'arrive': True,\n",
       " 'arrived': True,\n",
       " 'arrow': True,\n",
       " 'art': True,\n",
       " 'artist': True,\n",
       " 'as': True,\n",
       " 'ash': True,\n",
       " 'ashes': True,\n",
       " 'aside': True,\n",
       " 'ask': True,\n",
       " 'asleep': True,\n",
       " 'at': True,\n",
       " 'ate': True,\n",
       " 'attack': True,\n",
       " 'attend': True,\n",
       " 'attention': True,\n",
       " 'august': True,\n",
       " 'aunt': True,\n",
       " 'author': True,\n",
       " 'auto': True,\n",
       " 'automobile': True,\n",
       " 'autumn': True,\n",
       " 'avenue': True,\n",
       " 'awake': True,\n",
       " 'awaken': True,\n",
       " 'away': True,\n",
       " 'awful': True,\n",
       " 'awfully': True,\n",
       " 'awhile': True,\n",
       " 'ax': True,\n",
       " 'axe': True,\n",
       " 'baa': True,\n",
       " 'babe': True,\n",
       " 'babies': True,\n",
       " 'back': True,\n",
       " 'background': True,\n",
       " 'backward': True,\n",
       " 'backwards': True,\n",
       " 'bacon': True,\n",
       " 'bad': True,\n",
       " 'badge': True,\n",
       " 'badly': True,\n",
       " 'bag': True,\n",
       " 'bake': True,\n",
       " 'baker': True,\n",
       " 'bakery': True,\n",
       " 'baking': True,\n",
       " 'ball': True,\n",
       " 'balloon': True,\n",
       " 'banana': True,\n",
       " 'band': True,\n",
       " 'bandage': True,\n",
       " 'bang': True,\n",
       " 'banjo': True,\n",
       " 'bank': True,\n",
       " 'banker': True,\n",
       " 'bar': True,\n",
       " 'barber': True,\n",
       " 'bare': True,\n",
       " 'barefoot': True,\n",
       " 'barely': True,\n",
       " 'bark': True,\n",
       " 'barn': True,\n",
       " 'barrel': True,\n",
       " 'base': True,\n",
       " 'baseball': True,\n",
       " 'basement': True,\n",
       " 'basket': True,\n",
       " 'bat': True,\n",
       " 'batch': True,\n",
       " 'bath': True,\n",
       " 'bathe': True,\n",
       " 'bathing': True,\n",
       " 'bathroom': True,\n",
       " 'bathtub': True,\n",
       " 'battle': True,\n",
       " 'battleship': True,\n",
       " 'bay': True,\n",
       " 'be': True,\n",
       " 'beach': True,\n",
       " 'bead': True,\n",
       " 'beam': True,\n",
       " 'bean': True,\n",
       " 'bear': True,\n",
       " 'beard': True,\n",
       " 'beast': True,\n",
       " 'beat': True,\n",
       " 'beating': True,\n",
       " 'beautiful': True,\n",
       " 'beautify': True,\n",
       " 'beauty': True,\n",
       " 'became': True,\n",
       " 'because': True,\n",
       " 'become': True,\n",
       " 'becoming': True,\n",
       " 'bed': True,\n",
       " 'bedbug': True,\n",
       " 'bedroom': True,\n",
       " 'bedspread': True,\n",
       " 'bedtime': True,\n",
       " 'bee': True,\n",
       " 'beech': True,\n",
       " 'beef': True,\n",
       " 'beefsteak': True,\n",
       " 'beehive': True,\n",
       " 'been': True,\n",
       " 'beer': True,\n",
       " 'beet': True,\n",
       " 'before': True,\n",
       " 'beg': True,\n",
       " 'began': True,\n",
       " 'beggar': True,\n",
       " 'begged': True,\n",
       " 'begin': True,\n",
       " 'beginning': True,\n",
       " 'begun': True,\n",
       " 'behave': True,\n",
       " 'behind': True,\n",
       " 'being': True,\n",
       " 'believe': True,\n",
       " 'bell': True,\n",
       " 'belong': True,\n",
       " 'below': True,\n",
       " 'belt': True,\n",
       " 'bench': True,\n",
       " 'bend': True,\n",
       " 'beneath': True,\n",
       " 'bent': True,\n",
       " 'berries': True,\n",
       " 'berry': True,\n",
       " 'beside': True,\n",
       " 'besides': True,\n",
       " 'best': True,\n",
       " 'bet': True,\n",
       " 'better': True,\n",
       " 'between': True,\n",
       " 'bib': True,\n",
       " 'bible': True,\n",
       " 'bicycle': True,\n",
       " 'bid': True,\n",
       " 'big': True,\n",
       " 'bigger': True,\n",
       " 'bill': True,\n",
       " 'billboard': True,\n",
       " 'bin': True,\n",
       " 'bind': True,\n",
       " 'bird': True,\n",
       " 'birth': True,\n",
       " 'birthday': True,\n",
       " 'biscuit': True,\n",
       " 'bit': True,\n",
       " 'bite': True,\n",
       " 'biting': True,\n",
       " 'bitter': True,\n",
       " 'black': True,\n",
       " 'blackberry': True,\n",
       " 'blackbird': True,\n",
       " 'blackboard': True,\n",
       " 'blackness': True,\n",
       " 'blacksmith': True,\n",
       " 'blame': True,\n",
       " 'blank': True,\n",
       " 'blanket': True,\n",
       " 'blast': True,\n",
       " 'blaze': True,\n",
       " 'bleed': True,\n",
       " 'bless': True,\n",
       " 'blessing': True,\n",
       " 'blew': True,\n",
       " 'blind': True,\n",
       " 'blindfold': True,\n",
       " 'blinds': True,\n",
       " 'block': True,\n",
       " 'blood': True,\n",
       " 'bloom': True,\n",
       " 'blossom': True,\n",
       " 'blot': True,\n",
       " 'blow': True,\n",
       " 'blue': True,\n",
       " 'blueberry': True,\n",
       " 'bluebird': True,\n",
       " 'blush': True,\n",
       " 'board': True,\n",
       " 'boast': True,\n",
       " 'boat': True,\n",
       " 'bob': True,\n",
       " 'bobwhite': True,\n",
       " 'bodies': True,\n",
       " 'body': True,\n",
       " 'boil': True,\n",
       " 'boiler': True,\n",
       " 'bold': True,\n",
       " 'bone': True,\n",
       " 'bonnet': True,\n",
       " 'boo': True,\n",
       " 'book': True,\n",
       " 'bookcase': True,\n",
       " 'bookkeeper': True,\n",
       " 'boom': True,\n",
       " 'boot': True,\n",
       " 'born': True,\n",
       " 'borrow': True,\n",
       " 'boss': True,\n",
       " 'both': True,\n",
       " 'bother': True,\n",
       " 'bottle': True,\n",
       " 'bottom': True,\n",
       " 'bought': True,\n",
       " 'bounce': True,\n",
       " 'bow': True,\n",
       " 'bow-wow': True,\n",
       " 'bowl': True,\n",
       " 'box': True,\n",
       " 'boxcar': True,\n",
       " 'boxer': True,\n",
       " 'boxes': True,\n",
       " 'boy': True,\n",
       " 'boyhood': True,\n",
       " 'bracelet': True,\n",
       " 'brain': True,\n",
       " 'brake': True,\n",
       " 'bran': True,\n",
       " 'branch': True,\n",
       " 'brass': True,\n",
       " 'brave': True,\n",
       " 'bread': True,\n",
       " 'break': True,\n",
       " 'breakfast': True,\n",
       " 'breast': True,\n",
       " 'breath': True,\n",
       " 'breathe': True,\n",
       " 'breeze': True,\n",
       " 'brick': True,\n",
       " 'bride': True,\n",
       " 'bridge': True,\n",
       " 'bright': True,\n",
       " 'brightness': True,\n",
       " 'bring': True,\n",
       " 'broad': True,\n",
       " 'broadcast': True,\n",
       " 'broke': True,\n",
       " 'broken': True,\n",
       " 'brook': True,\n",
       " 'broom': True,\n",
       " 'brother': True,\n",
       " 'brought': True,\n",
       " 'brown': True,\n",
       " 'brush': True,\n",
       " 'bubble': True,\n",
       " 'bucket': True,\n",
       " 'buckle': True,\n",
       " 'bud': True,\n",
       " 'buffalo': True,\n",
       " 'bug': True,\n",
       " 'buggy': True,\n",
       " 'build': True,\n",
       " 'building': True,\n",
       " 'built': True,\n",
       " 'bulb': True,\n",
       " 'bull': True,\n",
       " 'bullet': True,\n",
       " 'bum': True,\n",
       " 'bumblebee': True,\n",
       " 'bump': True,\n",
       " 'bun': True,\n",
       " 'bunch': True,\n",
       " 'bundle': True,\n",
       " 'bunny': True,\n",
       " 'burn': True,\n",
       " 'burst': True,\n",
       " 'bury': True,\n",
       " 'bus': True,\n",
       " 'bush': True,\n",
       " 'bushel': True,\n",
       " 'business': True,\n",
       " 'busy': True,\n",
       " 'but': True,\n",
       " 'butcher': True,\n",
       " 'butt': True,\n",
       " 'butter': True,\n",
       " 'buttercup': True,\n",
       " 'butterfly': True,\n",
       " 'buttermilk': True,\n",
       " 'butterscotch': True,\n",
       " 'button': True,\n",
       " 'buttonhole': True,\n",
       " 'buy': True,\n",
       " 'buzz': True,\n",
       " 'by': True,\n",
       " 'bye': True,\n",
       " 'cab': True,\n",
       " 'cabbage': True,\n",
       " 'cabin': True,\n",
       " 'cabinet': True,\n",
       " 'cackle': True,\n",
       " 'cage': True,\n",
       " 'cake': True,\n",
       " 'calendar': True,\n",
       " 'calf': True,\n",
       " 'call': True,\n",
       " 'caller': True,\n",
       " 'calling': True,\n",
       " 'came': True,\n",
       " 'camel': True,\n",
       " 'camp': True,\n",
       " 'campfire': True,\n",
       " 'can': True,\n",
       " \"can't\": True,\n",
       " 'canal': True,\n",
       " 'canary': True,\n",
       " 'candle': True,\n",
       " 'candlestick': True,\n",
       " 'candy': True,\n",
       " 'cane': True,\n",
       " 'cannon': True,\n",
       " 'cannot': True,\n",
       " 'canoe': True,\n",
       " 'canyon': True,\n",
       " 'cap': True,\n",
       " 'cape': True,\n",
       " 'capital': True,\n",
       " 'captain': True,\n",
       " 'car': True,\n",
       " 'card': True,\n",
       " 'cardboard': True,\n",
       " 'care': True,\n",
       " 'careful': True,\n",
       " 'careless': True,\n",
       " 'carelessness': True,\n",
       " 'carload': True,\n",
       " 'carpenter': True,\n",
       " 'carpet': True,\n",
       " 'carriage': True,\n",
       " 'carrot': True,\n",
       " 'carry': True,\n",
       " 'cart': True,\n",
       " 'carve': True,\n",
       " 'case': True,\n",
       " 'cash': True,\n",
       " 'cashier': True,\n",
       " 'castle': True,\n",
       " 'cat': True,\n",
       " 'catbird': True,\n",
       " 'catch': True,\n",
       " 'catcher': True,\n",
       " 'caterpillar': True,\n",
       " 'catfish': True,\n",
       " 'catsup': True,\n",
       " 'cattle': True,\n",
       " 'caught': True,\n",
       " 'cause': True,\n",
       " 'cave': True,\n",
       " 'ceiling': True,\n",
       " 'cell': True,\n",
       " 'cellar': True,\n",
       " 'cent': True,\n",
       " 'center': True,\n",
       " 'cereal': True,\n",
       " 'certain': True,\n",
       " 'certainly': True,\n",
       " 'chain': True,\n",
       " 'chair': True,\n",
       " 'chalk': True,\n",
       " 'champion': True,\n",
       " 'chance': True,\n",
       " 'change': True,\n",
       " 'chap': True,\n",
       " 'charge': True,\n",
       " 'charm': True,\n",
       " 'chart': True,\n",
       " 'chase': True,\n",
       " 'chatter': True,\n",
       " 'cheap': True,\n",
       " 'cheat': True,\n",
       " 'check': True,\n",
       " 'checkers': True,\n",
       " 'cheek': True,\n",
       " 'cheer': True,\n",
       " 'cheese': True,\n",
       " 'cherry': True,\n",
       " 'chest': True,\n",
       " 'chew': True,\n",
       " 'chick': True,\n",
       " 'chicken': True,\n",
       " 'chief': True,\n",
       " 'child': True,\n",
       " 'childhood': True,\n",
       " 'children': True,\n",
       " 'chill': True,\n",
       " 'chilly': True,\n",
       " 'chimney': True,\n",
       " 'chin': True,\n",
       " 'china': True,\n",
       " 'chip': True,\n",
       " 'chipmunk': True,\n",
       " 'chocolate': True,\n",
       " 'choice': True,\n",
       " 'choose': True,\n",
       " 'chop': True,\n",
       " 'chorus': True,\n",
       " 'chose': True,\n",
       " 'chosen': True,\n",
       " 'christen': True,\n",
       " 'christmas': True,\n",
       " 'church': True,\n",
       " 'churn': True,\n",
       " 'cigarette': True,\n",
       " 'circle': True,\n",
       " 'circus': True,\n",
       " 'citizen': True,\n",
       " 'city': True,\n",
       " 'clang': True,\n",
       " 'clap': True,\n",
       " 'class': True,\n",
       " 'classmate': True,\n",
       " 'classroom': True,\n",
       " 'claw': True,\n",
       " 'clay': True,\n",
       " 'clean': True,\n",
       " 'cleaner': True,\n",
       " 'clear': True,\n",
       " 'clerk': True,\n",
       " 'clever': True,\n",
       " 'click': True,\n",
       " 'cliff': True,\n",
       " 'climb': True,\n",
       " 'clip': True,\n",
       " 'cloak': True,\n",
       " 'clock': True,\n",
       " 'close': True,\n",
       " 'closet': True,\n",
       " 'cloth': True,\n",
       " 'clothes': True,\n",
       " 'clothing': True,\n",
       " 'cloud': True,\n",
       " 'cloudy': True,\n",
       " 'clover': True,\n",
       " 'clown': True,\n",
       " 'club': True,\n",
       " 'cluck': True,\n",
       " 'clump': True,\n",
       " 'coach': True,\n",
       " 'coal': True,\n",
       " 'coast': True,\n",
       " 'coat': True,\n",
       " 'cob': True,\n",
       " 'cobbler': True,\n",
       " 'cocoa': True,\n",
       " 'coconut': True,\n",
       " 'cocoon': True,\n",
       " 'cod': True,\n",
       " 'codfish': True,\n",
       " 'coffee': True,\n",
       " 'coffeepot': True,\n",
       " 'coin': True,\n",
       " 'cold': True,\n",
       " 'collar': True,\n",
       " 'college': True,\n",
       " 'color': True,\n",
       " 'colored': True,\n",
       " 'colt': True,\n",
       " 'column': True,\n",
       " 'comb': True,\n",
       " 'come': True,\n",
       " 'comfort': True,\n",
       " 'comic': True,\n",
       " 'coming': True,\n",
       " 'company': True,\n",
       " 'compare': True,\n",
       " 'conductor': True,\n",
       " 'cone': True,\n",
       " 'connect': True,\n",
       " 'coo': True,\n",
       " 'cook': True,\n",
       " 'cooked': True,\n",
       " 'cookie': True,\n",
       " 'cookies': True,\n",
       " 'cooking': True,\n",
       " 'cool': True,\n",
       " 'cooler': True,\n",
       " 'coop': True,\n",
       " 'copper': True,\n",
       " 'copy': True,\n",
       " 'cord': True,\n",
       " 'cork': True,\n",
       " 'corn': True,\n",
       " 'corner': True,\n",
       " 'correct': True,\n",
       " 'cost': True,\n",
       " 'cot': True,\n",
       " 'cottage': True,\n",
       " 'cotton': True,\n",
       " 'couch': True,\n",
       " 'cough': True,\n",
       " 'could': True,\n",
       " \"couldn't\": True,\n",
       " 'count': True,\n",
       " 'counter': True,\n",
       " 'country': True,\n",
       " 'county': True,\n",
       " 'course': True,\n",
       " 'court': True,\n",
       " 'cousin': True,\n",
       " 'cover': True,\n",
       " 'cow': True,\n",
       " 'coward': True,\n",
       " 'cowardly': True,\n",
       " 'cowboy': True,\n",
       " 'cozy': True,\n",
       " 'crab': True,\n",
       " 'crack': True,\n",
       " 'cracker': True,\n",
       " 'cradle': True,\n",
       " 'cramps': True,\n",
       " 'cranberry': True,\n",
       " 'crank': True,\n",
       " 'cranky': True,\n",
       " 'crash': True,\n",
       " 'crawl': True,\n",
       " 'crazy': True,\n",
       " 'cream': True,\n",
       " 'creamy': True,\n",
       " 'creek': True,\n",
       " 'creep': True,\n",
       " 'crept': True,\n",
       " 'cried': True,\n",
       " 'cries': True,\n",
       " 'croak': True,\n",
       " 'crook': True,\n",
       " 'crooked': True,\n",
       " 'crop': True,\n",
       " 'cross': True,\n",
       " 'cross-eyed': True,\n",
       " 'crossing': True,\n",
       " 'crow': True,\n",
       " 'crowd': True,\n",
       " 'crowded': True,\n",
       " 'crown': True,\n",
       " 'cruel': True,\n",
       " 'crumb': True,\n",
       " 'crumble': True,\n",
       " 'crush': True,\n",
       " 'crust': True,\n",
       " 'cry': True,\n",
       " 'cub': True,\n",
       " 'cuff': True,\n",
       " 'cup': True,\n",
       " 'cupboard': True,\n",
       " 'cupful': True,\n",
       " 'cure': True,\n",
       " 'curl': True,\n",
       " 'curly': True,\n",
       " 'curtain': True,\n",
       " 'curve': True,\n",
       " 'cushion': True,\n",
       " 'custard': True,\n",
       " 'customer': True,\n",
       " 'cut': True,\n",
       " 'cute': True,\n",
       " 'cutting': True,\n",
       " 'dab': True,\n",
       " 'dad': True,\n",
       " 'daddy': True,\n",
       " 'daily': True,\n",
       " 'dairy': True,\n",
       " 'daisy': True,\n",
       " 'dam': True,\n",
       " 'damage': True,\n",
       " 'dame': True,\n",
       " 'damp': True,\n",
       " 'dance': True,\n",
       " 'dancer': True,\n",
       " 'dancing': True,\n",
       " 'dandy': True,\n",
       " 'danger': True,\n",
       " 'dangerous': True,\n",
       " 'dare': True,\n",
       " 'dark': True,\n",
       " 'darkness': True,\n",
       " 'darling': True,\n",
       " 'darn': True,\n",
       " 'dart': True,\n",
       " 'dash': True,\n",
       " 'date': True,\n",
       " 'daughter': True,\n",
       " 'dawn': True,\n",
       " 'day': True,\n",
       " 'daybreak': True,\n",
       " 'daytime': True,\n",
       " 'dead': True,\n",
       " 'deaf': True,\n",
       " 'deal': True,\n",
       " 'dear': True,\n",
       " 'death': True,\n",
       " 'december': True,\n",
       " 'decide': True,\n",
       " 'deck': True,\n",
       " 'deed': True,\n",
       " 'deep': True,\n",
       " 'deer': True,\n",
       " 'defeat': True,\n",
       " 'defend': True,\n",
       " 'defense': True,\n",
       " 'delight': True,\n",
       " 'den': True,\n",
       " 'dentist': True,\n",
       " 'depend': True,\n",
       " 'deposit': True,\n",
       " 'describe': True,\n",
       " 'desert': True,\n",
       " 'deserve': True,\n",
       " 'desire': True,\n",
       " 'desk': True,\n",
       " 'destroy': True,\n",
       " 'devil': True,\n",
       " 'dew': True,\n",
       " 'diamond': True,\n",
       " 'did': True,\n",
       " \"didn't\": True,\n",
       " 'die': True,\n",
       " 'died': True,\n",
       " 'dies': True,\n",
       " 'difference': True,\n",
       " 'different': True,\n",
       " 'dig': True,\n",
       " 'dim': True,\n",
       " 'dime': True,\n",
       " 'dine': True,\n",
       " 'ding-dong': True,\n",
       " 'dinner': True,\n",
       " 'dip': True,\n",
       " 'direct': True,\n",
       " 'direction': True,\n",
       " 'dirt': True,\n",
       " 'dirty': True,\n",
       " 'discover': True,\n",
       " 'dish': True,\n",
       " 'dislike': True,\n",
       " 'dismiss': True,\n",
       " 'ditch': True,\n",
       " 'dive': True,\n",
       " 'diver': True,\n",
       " 'divide': True,\n",
       " 'do': True,\n",
       " 'dock': True,\n",
       " 'doctor': True,\n",
       " 'does': True,\n",
       " \"doesn't\": True,\n",
       " 'dog': True,\n",
       " 'doll': True,\n",
       " 'dollar': True,\n",
       " 'dolly': True,\n",
       " \"don't\": True,\n",
       " 'done': True,\n",
       " 'donkey': True,\n",
       " 'door': True,\n",
       " 'doorbell': True,\n",
       " 'doorknob': True,\n",
       " 'doorstep': True,\n",
       " 'dope': True,\n",
       " 'dot': True,\n",
       " 'double': True,\n",
       " 'dough': True,\n",
       " 'dove': True,\n",
       " 'down': True,\n",
       " 'downstairs': True,\n",
       " 'downtown': True,\n",
       " 'dozen': True,\n",
       " 'drag': True,\n",
       " 'drain': True,\n",
       " 'drank': True,\n",
       " 'draw': True,\n",
       " 'drawer': True,\n",
       " 'drawing': True,\n",
       " 'dream': True,\n",
       " 'dress': True,\n",
       " 'dresser': True,\n",
       " 'dressmaker': True,\n",
       " 'drew': True,\n",
       " 'dried': True,\n",
       " 'drift': True,\n",
       " 'drill': True,\n",
       " 'drink': True,\n",
       " 'drip': True,\n",
       " 'drive': True,\n",
       " 'driven': True,\n",
       " 'driver': True,\n",
       " 'drop': True,\n",
       " 'drove': True,\n",
       " 'drown': True,\n",
       " 'drowsy': True,\n",
       " 'drub': True,\n",
       " 'drum': True,\n",
       " 'drunk': True,\n",
       " 'dry': True,\n",
       " 'duck': True,\n",
       " 'due': True,\n",
       " 'dug': True,\n",
       " 'dull': True,\n",
       " 'dumb': True,\n",
       " 'dump': True,\n",
       " 'during': True,\n",
       " 'dust': True,\n",
       " 'dusty': True,\n",
       " 'duty': True,\n",
       " 'dwarf': True,\n",
       " 'dwell': True,\n",
       " 'dwelt': True,\n",
       " 'dying': True,\n",
       " 'each': True,\n",
       " 'eager': True,\n",
       " 'eagle': True,\n",
       " 'ear': True,\n",
       " 'early': True,\n",
       " 'earn': True,\n",
       " 'earth': True,\n",
       " 'east': True,\n",
       " 'eastern': True,\n",
       " 'easy': True,\n",
       " 'eat': True,\n",
       " 'eaten': True,\n",
       " 'edge': True,\n",
       " 'egg': True,\n",
       " 'eh': True,\n",
       " 'eight': True,\n",
       " 'eighteen': True,\n",
       " 'eighth': True,\n",
       " 'eighty': True,\n",
       " 'either': True,\n",
       " 'elbow': True,\n",
       " 'elder': True,\n",
       " 'eldest': True,\n",
       " 'electric': True,\n",
       " 'electricity': True,\n",
       " 'elephant': True,\n",
       " 'eleven': True,\n",
       " 'elf': True,\n",
       " 'elm': True,\n",
       " 'else': True,\n",
       " 'elsewhere': True,\n",
       " 'empty': True,\n",
       " 'end': True,\n",
       " 'ending': True,\n",
       " 'enemy': True,\n",
       " 'engine': True,\n",
       " 'engineer': True,\n",
       " 'english': True,\n",
       " 'enjoy': True,\n",
       " 'enough': True,\n",
       " 'enter': True,\n",
       " 'envelope': True,\n",
       " 'equal': True,\n",
       " 'erase': True,\n",
       " 'eraser': True,\n",
       " 'errand': True,\n",
       " 'escape': True,\n",
       " 'eve': True,\n",
       " 'even': True,\n",
       " 'evening': True,\n",
       " 'ever': True,\n",
       " 'every': True,\n",
       " 'everybody': True,\n",
       " 'everyday': True,\n",
       " 'everyone': True,\n",
       " 'everything': True,\n",
       " 'everywhere': True,\n",
       " 'evil': True,\n",
       " 'exact': True,\n",
       " 'except': True,\n",
       " 'exchange': True,\n",
       " 'excited': True,\n",
       " 'exciting': True,\n",
       " 'excuse': True,\n",
       " 'exit': True,\n",
       " 'expect': True,\n",
       " 'explain': True,\n",
       " 'extra': True,\n",
       " 'eye': True,\n",
       " 'eyebrow': True,\n",
       " 'fable': True,\n",
       " 'face': True,\n",
       " 'facing': True,\n",
       " 'fact': True,\n",
       " 'factory': True,\n",
       " 'fail': True,\n",
       " 'faint': True,\n",
       " 'fair': True,\n",
       " 'fairy': True,\n",
       " 'faith': True,\n",
       " 'fake': True,\n",
       " 'fall': True,\n",
       " 'false': True,\n",
       " 'family': True,\n",
       " 'fan': True,\n",
       " 'fancy': True,\n",
       " 'far': True,\n",
       " 'far-off': True,\n",
       " 'faraway': True,\n",
       " 'fare': True,\n",
       " 'farm': True,\n",
       " 'farmer': True,\n",
       " 'farming': True,\n",
       " 'farther': True,\n",
       " 'fashion': True,\n",
       " 'fast': True,\n",
       " 'fasten': True,\n",
       " 'fat': True,\n",
       " 'father': True,\n",
       " 'fault': True,\n",
       " 'favor': True,\n",
       " 'favorite': True,\n",
       " 'fear': True,\n",
       " 'feast': True,\n",
       " 'feather': True,\n",
       " 'february': True,\n",
       " 'fed': True,\n",
       " 'feed': True,\n",
       " 'feel': True,\n",
       " 'feet': True,\n",
       " 'fell': True,\n",
       " 'fellow': True,\n",
       " 'felt': True,\n",
       " 'fence': True,\n",
       " 'fever': True,\n",
       " 'few': True,\n",
       " 'fib': True,\n",
       " 'fiddle': True,\n",
       " 'field': True,\n",
       " 'fife': True,\n",
       " 'fifteen': True,\n",
       " 'fifth': True,\n",
       " 'fifty': True,\n",
       " 'fig': True,\n",
       " 'fight': True,\n",
       " 'figure': True,\n",
       " 'file': True,\n",
       " 'fill': True,\n",
       " 'film': True,\n",
       " 'finally': True,\n",
       " 'find': True,\n",
       " 'fine': True,\n",
       " 'finger': True,\n",
       " 'finish': True,\n",
       " 'fire': True,\n",
       " 'firearm': True,\n",
       " 'firecracker': True,\n",
       " 'fireplace': True,\n",
       " 'fireworks': True,\n",
       " 'firing': True,\n",
       " 'first': True,\n",
       " 'fish': True,\n",
       " 'fisherman': True,\n",
       " 'fist': True,\n",
       " 'fit': True,\n",
       " 'fits': True,\n",
       " 'five': True,\n",
       " 'fix': True,\n",
       " 'flag': True,\n",
       " 'flake': True,\n",
       " 'flame': True,\n",
       " 'flap': True,\n",
       " 'flash': True,\n",
       " 'flashlight': True,\n",
       " 'flat': True,\n",
       " 'flea': True,\n",
       " 'flesh': True,\n",
       " 'flew': True,\n",
       " 'flies': True,\n",
       " 'flight': True,\n",
       " 'flip': True,\n",
       " 'flip-flop': True,\n",
       " 'float': True,\n",
       " 'flock': True,\n",
       " 'flood': True,\n",
       " 'floor': True,\n",
       " 'flop': True,\n",
       " 'flour': True,\n",
       " 'flow': True,\n",
       " 'flower': True,\n",
       " 'flowery': True,\n",
       " 'flutter': True,\n",
       " 'fly': True,\n",
       " 'foam': True,\n",
       " 'fog': True,\n",
       " 'foggy': True,\n",
       " 'fold': True,\n",
       " 'folks': True,\n",
       " 'follow': True,\n",
       " 'following': True,\n",
       " 'fond': True,\n",
       " 'food': True,\n",
       " 'fool': True,\n",
       " 'foolish': True,\n",
       " 'foot': True,\n",
       " 'football': True,\n",
       " 'footprint': True,\n",
       " 'for': True,\n",
       " 'forehead': True,\n",
       " 'forest': True,\n",
       " 'forget': True,\n",
       " 'forgive': True,\n",
       " 'forgot': True,\n",
       " 'forgotten': True,\n",
       " 'fork': True,\n",
       " 'form': True,\n",
       " ...}"
      ]
     },
     "execution_count": 15,
     "metadata": {},
     "output_type": "execute_result"
    }
   ],
   "source": [
    "easy_words_dict={}\n",
    "for i in easy_words_list:\n",
    "    easy_words_dict[i]=True\n",
    "easy_words_dict"
   ]
  },
  {
   "cell_type": "markdown",
   "metadata": {},
   "source": [
    "Additionally, define a dictionary **`readability_grade_dict`** to use for looking up the \"grade level\" associated with a readability score (see [this table](https://en.wikipedia.org/wiki/Dale%E2%80%93Chall_readability_formula#Formula)). This dictionary should have **keys** that are ___tuples___ giving the range of score for a particular grade (e.g., `(5.0, 5.9)`), and **values** that are ___strings___ representing the grade (e.g., `\"5th or 6th grade\"`). "
   ]
  },
  {
   "cell_type": "code",
   "execution_count": 16,
   "metadata": {},
   "outputs": [
    {
     "data": {
      "text/plain": [
       "{5.0: '5th or 6th grade',\n",
       " 5.9: '5th or 6th grade',\n",
       " 6.0: '6th or 7th grade',\n",
       " 6.9: '6th or 7th grade',\n",
       " 7.0: '7th or 8th grade',\n",
       " 7.9: '7th or 8th grade',\n",
       " 8.0: '8th or 9th grade',\n",
       " 8.9: '8th or 9th grade',\n",
       " 9.0: '9th or 10th grade',\n",
       " 9.9: '9th or 10th grade'}"
      ]
     },
     "execution_count": 16,
     "metadata": {},
     "output_type": "execute_result"
    }
   ],
   "source": [
    "readability_grade_dict={5.0:\"5th or 6th grade\",5.9:\"5th or 6th grade\",6.0:\"6th or 7th grade\",\n",
    "                       6.9:\"6th or 7th grade\",7.0:\"7th or 8th grade\", 7.9:\"7th or 8th grade\",8.0:\"8th or 9th grade\", \n",
    "                        8.9:\"8th or 9th grade\",9.0:\"9th or 10th grade\", 9.9:\"9th or 10th grade\"}\n",
    "    \n",
    "readability_grade_dict  "
   ]
  },
  {
   "cell_type": "markdown",
   "metadata": {},
   "source": [
    "Define a function **`print_grade()`** that takes in a readability score (a number greater than or equal to 0), and **prints** a string representing the grade associated with that score (from your `readability_grade_dict` dictionary).\n",
    "- _Hint:_ loop through the items in the dictionary and determine which \"tuple\" key has elements that the score falls between. Be sure and round to the nearest decimal)."
   ]
  },
  {
   "cell_type": "code",
   "execution_count": 17,
   "metadata": {},
   "outputs": [
    {
     "data": {
      "text/plain": [
       "'7th or 8th grade'"
      ]
     },
     "execution_count": 17,
     "metadata": {},
     "output_type": "execute_result"
    }
   ],
   "source": [
    "def print_grade(readability_score):\n",
    "    score_value= round(readability_score,1)\n",
    "    for i in readability_grade_dict:\n",
    "        if(score_value>9.9):\n",
    "            return(str(\"This score is not valid\"))\n",
    "        elif(score_value<=i):\n",
    "            return(readability_grade_dict[i])\n",
    "            \n",
    "test=print_grade(7.8)\n",
    "test"
   ]
  },
  {
   "cell_type": "markdown",
   "metadata": {},
   "source": [
    "Now to calculate the readability scores! Define a function **`count_sentences()`** that counts the number of sentences in a string. Use the [sent_tokenize()](http://www.nltk.org/api/nltk.tokenize.html#nltk.tokenize.sent_tokenize) function from the `nltk.tokenize` module to break up a string into sentences (this is like the string `split()` function, but it splits into sentences rather than dividing by spaces).\n",
    "- For help and an example, see [this guide](http://textminingonline.com/dive-into-nltk-part-ii-sentence-tokenize-and-word-tokenize).\n",
    "- You do not need to do any extra processing beyond that provided by the `sent_tokenize()` function.\n",
    "- Test your function on a simple pair or trio of sentences!"
   ]
  },
  {
   "cell_type": "code",
   "execution_count": 18,
   "metadata": {},
   "outputs": [
    {
     "name": "stdout",
     "output_type": "stream",
     "text": [
      "4\n"
     ]
    }
   ],
   "source": [
    "from nltk.tokenize import sent_tokenize\n",
    "def count_sentences(text):\n",
    "    sentence= sent_tokenize(text, language='english')\n",
    "    return(len(sentence))\n",
    "sentences= count_sentences('My name is Optimus Prime. I am an Autobot. We are autonomous species from the planet Cybertron. I am the good guy')\n",
    "print(sentences)"
   ]
  },
  {
   "cell_type": "markdown",
   "metadata": {},
   "source": [
    "Define a function **`extract_words()`** that takes in a string and returns a _list_ of all of the words in that string. Use the [word_tokenize()](http://www.nltk.org/api/nltk.tokenize.html#nltk.tokenize.word_tokenize) function from the `nltk.tokenize` module to break up the string into words.\n",
    "- The `nltk` tokenizer includes each punctuation character (e.g., commas, periods) as individual \"words\". Your list should not include these items. You can use a string method to determine whether or not the word starts with a punctuation symbol, and if so exclude it. _Hint_ think about keeping good words, rather than throwing away the bad! Note that you do not need to do any special consideration for contractions or other words that include their own punctuation.\n",
    "- Test your function on a simple sentence (with punctuation!)."
   ]
  },
  {
   "cell_type": "code",
   "execution_count": 19,
   "metadata": {},
   "outputs": [
    {
     "name": "stdout",
     "output_type": "stream",
     "text": [
      "['I', 'love', 'deadlines', 'I', 'like', 'the', 'whooshing', 'sound', 'they', 'make', 'as', 'they', 'fly', 'by']\n"
     ]
    }
   ],
   "source": [
    "##This part is pretty tricky, so I'm going to give you a break and just share the function\n",
    "##Take a minute and try to understand what's it's doing\n",
    "##Then uncomment the test cases and test it out with different sentences\n",
    "\n",
    "from nltk.tokenize import word_tokenize\n",
    "import string\n",
    "def extract_words(text):\n",
    "    raw_words = word_tokenize(text)\n",
    "    #print(raw_words)\n",
    "    words = []\n",
    "    alphabet = string.ascii_letters\n",
    "    for word in raw_words:\n",
    "        if(word[0].isalpha()):\n",
    "            words.append(word)\n",
    "    return words\n",
    "\n",
    "##SOME TEST CASES\n",
    "##TRY IT WITH YOUR OWN SAMPLE SENTENCES!\n",
    "\n",
    "# text = \"this’s a sent tokenize test. this is sent two. is this sent three? Now it’s your turn.\" ##Answer 19\n",
    "# print(len(extract_words(text))) #Test: PASS\n",
    "\n",
    "print(extract_words(\"I love deadlines. I like the whooshing sound they make as they fly by!!\"))"
   ]
  },
  {
   "cell_type": "markdown",
   "metadata": {},
   "source": [
    "Define a function **`count_easy_words()`** that takes in a _list_ of words as an argument and returns the number of words that are \"easy\".\n",
    "\n",
    "- Your function should look up each word in the `easy_words_dict` you defined earlier. _Do not look up words in the list_ (the dictionary is much faster!). Be careful to look up lowercase versions of the word.\n",
    "\n",
    "- Your function should handle detecting different parts of speech (e.g., plurals, different verb conjugations, etc.). You can do this by using the **`WordNetLemmatizer()`** function from the `nltk.stem.wordnet` module&mdash;which produces a \"lemmatizer\" object. You can call the **`lemmatize()`** method on this object to reduce a word to its \"base\" form. See [this example](https://pythonprogramming.net/lemmatizing-nltk-tutorial/). Note that you should reduce words to both their basic noun AND verb forms (you will need to call the function twice: once with `'n'` (noun) and once with `'v'` (verb) as the second argument!)\n",
    "\n",
    "- You can test your function on the word list: `['My','words','spoken','have','consequences']`, which should have 4 of the 5 words considered easy (not \"consequences\")."
   ]
  },
  {
   "cell_type": "code",
   "execution_count": 20,
   "metadata": {},
   "outputs": [
    {
     "name": "stdout",
     "output_type": "stream",
     "text": [
      "4\n"
     ]
    }
   ],
   "source": [
    "from nltk.stem.wordnet import WordNetLemmatizer\n",
    "\n",
    "def count_easy_words(word_list):\n",
    "    easy_words_found=[]\n",
    "    lemmatizer = WordNetLemmatizer()\n",
    "    \n",
    "    for i in word_list:\n",
    "        word=i.lower()\n",
    "        wordverb=lemmatizer.lemmatize(word,'v')\n",
    "        wordnoun=lemmatizer.lemmatize(word,'n')\n",
    "        \n",
    "        if(easy_words_dict.get(wordverb) or easy_words_dict.get(wordnoun)):\n",
    "            easy_words_found.append(i)\n",
    "\n",
    "    return(len(easy_words_found))\n",
    "wordlist=['My','words','spoken','have','consequences']\n",
    "count=count_easy_words(wordlist)\n",
    "print(count)"
   ]
  },
  {
   "cell_type": "markdown",
   "metadata": {},
   "source": [
    "Define a function **`calc_readability_score()`** that takes in a string of text and returns a readability \"score\" for the test based on the [Dale-Chall readability formula](https://en.wikipedia.org/wiki/Dale%E2%80%93Chall_readability_formula#Formula). Call your previous functions to calculate the number of sentences, total words, and number of difficult (not easy) words.\n",
    "- Don't forget to adjust the score if the text is more than 5% difficult words!"
   ]
  },
  {
   "cell_type": "code",
   "execution_count": 21,
   "metadata": {},
   "outputs": [],
   "source": [
    "def calc_readability_score(text):\n",
    "    sentences= count_sentences(text)\n",
    "    words= float(len(extract_words(text)))\n",
    "    easy_word_count=float(count_easy_words(extract_words(text)))\n",
    "    #print(easy_word_count)\n",
    "    difficult_words= float(words-easy_word_count)\n",
    "    #print(difficult_words)\n",
    "    difficult_word_percentage=(difficult_words*100)/words\n",
    "    if(difficult_word_percentage>5):\n",
    "        score=(0.1579*(difficult_word_percentage)+0.0496*(words/sentences))+3.6365\n",
    "    else:\n",
    "        score=(0.1579*(difficult_word_percentage)+0.0496*(words/sentences))\n",
    "    return(score)"
   ]
  },
  {
   "cell_type": "markdown",
   "metadata": {},
   "source": [
    "Read in the text of the `data/alice.txt` file (the full text of Alice in Wonderland) _as a single string_. "
   ]
  },
  {
   "cell_type": "code",
   "execution_count": 22,
   "metadata": {},
   "outputs": [
    {
     "data": {
      "text/plain": [
       "'\\ufeffALICE’S ADVENTURES IN WONDERLAND\\n\\nLewis Carroll\\n\\nTHE MILLENNIUM FULCRUM EDITION 3.0\\n\\n\\n\\n\\nCHAPTER I. Down the Rabbit-Hole\\n\\nAlice was beginning to get very tired of sitting by her sister on the\\nbank, and of having nothing to do: once or twice she had peeped into the\\nbook her sister was reading, but it had no pictures or conversations in\\nit, ‘and what is the use of a book,’ thought Alice ‘without pictures or\\nconversations?’\\n\\nSo she was considering in her own mind (as well as she could, for the\\nhot day made her feel very sleepy and stupid), whether the pleasure\\nof making a daisy-chain would be worth the trouble of getting up and\\npicking the daisies, when suddenly a White Rabbit with pink eyes ran\\nclose by her.\\n\\nThere was nothing so VERY remarkable in that; nor did Alice think it so\\nVERY much out of the way to hear the Rabbit say to itself, ‘Oh dear!\\nOh dear! I shall be late!’ (when she thought it over afterwards, it\\noccurred to her that she ought to have wondered at this, but at the time\\nit all seemed quite natural); but when the Rabbit actually TOOK A WATCH\\nOUT OF ITS WAISTCOAT-POCKET, and looked at it, and then hurried on,\\nAlice started to her feet, for it flashed across her mind that she had\\nnever before seen a rabbit with either a waistcoat-pocket, or a watch\\nto take out of it, and burning with curiosity, she ran across the field\\nafter it, and fortunately was just in time to see it pop down a large\\nrabbit-hole under the hedge.\\n\\nIn another moment down went Alice after it, never once considering how\\nin the world she was to get out again.\\n\\nThe rabbit-hole went straight on like a tunnel for some way, and then\\ndipped suddenly down, so suddenly that Alice had not a moment to think\\nabout stopping herself before she found herself falling down a very deep\\nwell.\\n\\nEither the well was very deep, or she fell very slowly, for she had\\nplenty of time as she went down to look about her and to wonder what was\\ngoing to happen next. First, she tried to look down and make out what\\nshe was coming to, but it was too dark to see anything; then she\\nlooked at the sides of the well, and noticed that they were filled with\\ncupboards and book-shelves; here and there she saw maps and pictures\\nhung upon pegs. She took down a jar from one of the shelves as\\nshe passed; it was labelled ‘ORANGE MARMALADE’, but to her great\\ndisappointment it was empty: she did not like to drop the jar for fear\\nof killing somebody, so managed to put it into one of the cupboards as\\nshe fell past it.\\n\\n‘Well!’ thought Alice to herself, ‘after such a fall as this, I shall\\nthink nothing of tumbling down stairs! How brave they’ll all think me at\\nhome! Why, I wouldn’t say anything about it, even if I fell off the top\\nof the house!’ (Which was very likely true.)\\n\\nDown, down, down. Would the fall NEVER come to an end! ‘I wonder how\\nmany miles I’ve fallen by this time?’ she said aloud. ‘I must be getting\\nsomewhere near the centre of the earth. Let me see: that would be four\\nthousand miles down, I think--’ (for, you see, Alice had learnt several\\nthings of this sort in her lessons in the schoolroom, and though this\\nwas not a VERY good opportunity for showing off her knowledge, as there\\nwas no one to listen to her, still it was good practice to say it over)\\n‘--yes, that’s about the right distance--but then I wonder what Latitude\\nor Longitude I’ve got to?’ (Alice had no idea what Latitude was, or\\nLongitude either, but thought they were nice grand words to say.)\\n\\nPresently she began again. ‘I wonder if I shall fall right THROUGH the\\nearth! How funny it’ll seem to come out among the people that walk with\\ntheir heads downward! The Antipathies, I think--’ (she was rather glad\\nthere WAS no one listening, this time, as it didn’t sound at all the\\nright word) ‘--but I shall have to ask them what the name of the country\\nis, you know. Please, Ma’am, is this New Zealand or Australia?’ (and\\nshe tried to curtsey as she spoke--fancy CURTSEYING as you’re falling\\nthrough the air! Do you think you could manage it?) ‘And what an\\nignorant little girl she’ll think me for asking! No, it’ll never do to\\nask: perhaps I shall see it written up somewhere.’\\n\\nDown, down, down. There was nothing else to do, so Alice soon began\\ntalking again. ‘Dinah’ll miss me very much to-night, I should think!’\\n(Dinah was the cat.) ‘I hope they’ll remember her saucer of milk at\\ntea-time. Dinah my dear! I wish you were down here with me! There are no\\nmice in the air, I’m afraid, but you might catch a bat, and that’s very\\nlike a mouse, you know. But do cats eat bats, I wonder?’ And here Alice\\nbegan to get rather sleepy, and went on saying to herself, in a dreamy\\nsort of way, ‘Do cats eat bats? Do cats eat bats?’ and sometimes, ‘Do\\nbats eat cats?’ for, you see, as she couldn’t answer either question,\\nit didn’t much matter which way she put it. She felt that she was dozing\\noff, and had just begun to dream that she was walking hand in hand with\\nDinah, and saying to her very earnestly, ‘Now, Dinah, tell me the truth:\\ndid you ever eat a bat?’ when suddenly, thump! thump! down she came upon\\na heap of sticks and dry leaves, and the fall was over.\\n\\nAlice was not a bit hurt, and she jumped up on to her feet in a moment:\\nshe looked up, but it was all dark overhead; before her was another\\nlong passage, and the White Rabbit was still in sight, hurrying down it.\\nThere was not a moment to be lost: away went Alice like the wind, and\\nwas just in time to hear it say, as it turned a corner, ‘Oh my ears\\nand whiskers, how late it’s getting!’ She was close behind it when she\\nturned the corner, but the Rabbit was no longer to be seen: she found\\nherself in a long, low hall, which was lit up by a row of lamps hanging\\nfrom the roof.\\n\\nThere were doors all round the hall, but they were all locked; and when\\nAlice had been all the way down one side and up the other, trying every\\ndoor, she walked sadly down the middle, wondering how she was ever to\\nget out again.\\n\\nSuddenly she came upon a little three-legged table, all made of solid\\nglass; there was nothing on it except a tiny golden key, and Alice’s\\nfirst thought was that it might belong to one of the doors of the hall;\\nbut, alas! either the locks were too large, or the key was too small,\\nbut at any rate it would not open any of them. However, on the second\\ntime round, she came upon a low curtain she had not noticed before, and\\nbehind it was a little door about fifteen inches high: she tried the\\nlittle golden key in the lock, and to her great delight it fitted!\\n\\nAlice opened the door and found that it led into a small passage, not\\nmuch larger than a rat-hole: she knelt down and looked along the passage\\ninto the loveliest garden you ever saw. How she longed to get out of\\nthat dark hall, and wander about among those beds of bright flowers and\\nthose cool fountains, but she could not even get her head through the\\ndoorway; ‘and even if my head would go through,’ thought poor Alice, ‘it\\nwould be of very little use without my shoulders. Oh, how I wish I could\\nshut up like a telescope! I think I could, if I only knew how to begin.’\\nFor, you see, so many out-of-the-way things had happened lately,\\nthat Alice had begun to think that very few things indeed were really\\nimpossible.\\n\\nThere seemed to be no use in waiting by the little door, so she went\\nback to the table, half hoping she might find another key on it, or at\\nany rate a book of rules for shutting people up like telescopes: this\\ntime she found a little bottle on it, [‘which certainly was not here\\nbefore,’ said Alice,) and round the neck of the bottle was a paper\\nlabel, with the words ‘DRINK ME’ beautifully printed on it in large\\nletters.\\n\\nIt was all very well to say ‘Drink me,’ but the wise little Alice was\\nnot going to do THAT in a hurry. ‘No, I’ll look first,’ she said, ‘and\\nsee whether it’s marked “poison” or not’; for she had read several nice\\nlittle histories about children who had got burnt, and eaten up by wild\\nbeasts and other unpleasant things, all because they WOULD not remember\\nthe simple rules their friends had taught them: such as, that a red-hot\\npoker will burn you if you hold it too long; and that if you cut your\\nfinger VERY deeply with a knife, it usually bleeds; and she had never\\nforgotten that, if you drink much from a bottle marked ‘poison,’ it is\\nalmost certain to disagree with you, sooner or later.\\n\\nHowever, this bottle was NOT marked ‘poison,’ so Alice ventured to taste\\nit, and finding it very nice, (it had, in fact, a sort of mixed flavour\\nof cherry-tart, custard, pine-apple, roast turkey, toffee, and hot\\nbuttered toast,) she very soon finished it off.\\n\\n  *    *    *    *    *    *    *\\n\\n    *    *    *    *    *    *\\n\\n  *    *    *    *    *    *    *\\n\\n‘What a curious feeling!’ said Alice; ‘I must be shutting up like a\\ntelescope.’\\n\\nAnd so it was indeed: she was now only ten inches high, and her face\\nbrightened up at the thought that she was now the right size for going\\nthrough the little door into that lovely garden. First, however, she\\nwaited for a few minutes to see if she was going to shrink any further:\\nshe felt a little nervous about this; ‘for it might end, you know,’ said\\nAlice to herself, ‘in my going out altogether, like a candle. I wonder\\nwhat I should be like then?’ And she tried to fancy what the flame of a\\ncandle is like after the candle is blown out, for she could not remember\\never having seen such a thing.\\n\\nAfter a while, finding that nothing more happened, she decided on going\\ninto the garden at once; but, alas for poor Alice! when she got to the\\ndoor, she found she had forgotten the little golden key, and when she\\nwent back to the table for it, she found she could not possibly reach\\nit: she could see it quite plainly through the glass, and she tried her\\nbest to climb up one of the legs of the table, but it was too slippery;\\nand when she had tired herself out with trying, the poor little thing\\nsat down and cried.\\n\\n‘Come, there’s no use in crying like that!’ said Alice to herself,\\nrather sharply; ‘I advise you to leave off this minute!’ She generally\\ngave herself very good advice, (though she very seldom followed it),\\nand sometimes she scolded herself so severely as to bring tears into\\nher eyes; and once she remembered trying to box her own ears for having\\ncheated herself in a game of croquet she was playing against herself,\\nfor this curious child was very fond of pretending to be two people.\\n‘But it’s no use now,’ thought poor Alice, ‘to pretend to be two people!\\nWhy, there’s hardly enough of me left to make ONE respectable person!’\\n\\nSoon her eye fell on a little glass box that was lying under the table:\\nshe opened it, and found in it a very small cake, on which the words\\n‘EAT ME’ were beautifully marked in currants. ‘Well, I’ll eat it,’ said\\nAlice, ‘and if it makes me grow larger, I can reach the key; and if it\\nmakes me grow smaller, I can creep under the door; so either way I’ll\\nget into the garden, and I don’t care which happens!’\\n\\nShe ate a little bit, and said anxiously to herself, ‘Which way? Which\\nway?’, holding her hand on the top of her head to feel which way it was\\ngrowing, and she was quite surprised to find that she remained the same\\nsize: to be sure, this generally happens when one eats cake, but Alice\\nhad got so much into the way of expecting nothing but out-of-the-way\\nthings to happen, that it seemed quite dull and stupid for life to go on\\nin the common way.\\n\\nSo she set to work, and very soon finished off the cake.\\n\\n  *    *    *    *    *    *    *\\n\\n    *    *    *    *    *    *\\n\\n  *    *    *    *    *    *    *\\n\\n\\n\\n\\nCHAPTER II. The Pool of Tears\\n\\n‘Curiouser and curiouser!’ cried Alice (she was so much surprised, that\\nfor the moment she quite forgot how to speak good English); ‘now I’m\\nopening out like the largest telescope that ever was! Good-bye, feet!’\\n(for when she looked down at her feet, they seemed to be almost out of\\nsight, they were getting so far off). ‘Oh, my poor little feet, I wonder\\nwho will put on your shoes and stockings for you now, dears? I’m sure\\n_I_ shan’t be able! I shall be a great deal too far off to trouble\\nmyself about you: you must manage the best way you can;--but I must be\\nkind to them,’ thought Alice, ‘or perhaps they won’t walk the way I want\\nto go! Let me see: I’ll give them a new pair of boots every Christmas.’\\n\\nAnd she went on planning to herself how she would manage it. ‘They must\\ngo by the carrier,’ she thought; ‘and how funny it’ll seem, sending\\npresents to one’s own feet! And how odd the directions will look!\\n\\n     ALICE’S RIGHT FOOT, ESQ.\\n       HEARTHRUG,\\n         NEAR THE FENDER,\\n           (WITH ALICE’S LOVE).\\n\\nOh dear, what nonsense I’m talking!’\\n\\nJust then her head struck against the roof of the hall: in fact she was\\nnow more than nine feet high, and she at once took up the little golden\\nkey and hurried off to the garden door.\\n\\nPoor Alice! It was as much as she could do, lying down on one side, to\\nlook through into the garden with one eye; but to get through was more\\nhopeless than ever: she sat down and began to cry again.\\n\\n‘You ought to be ashamed of yourself,’ said Alice, ‘a great girl like\\nyou,’ (she might well say this), ‘to go on crying in this way! Stop this\\nmoment, I tell you!’ But she went on all the same, shedding gallons of\\ntears, until there was a large pool all round her, about four inches\\ndeep and reaching half down the hall.\\n\\nAfter a time she heard a little pattering of feet in the distance, and\\nshe hastily dried her eyes to see what was coming. It was the White\\nRabbit returning, splendidly dressed, with a pair of white kid gloves in\\none hand and a large fan in the other: he came trotting along in a great\\nhurry, muttering to himself as he came, ‘Oh! the Duchess, the Duchess!\\nOh! won’t she be savage if I’ve kept her waiting!’ Alice felt so\\ndesperate that she was ready to ask help of any one; so, when the Rabbit\\ncame near her, she began, in a low, timid voice, ‘If you please, sir--’\\nThe Rabbit started violently, dropped the white kid gloves and the fan,\\nand skurried away into the darkness as hard as he could go.\\n\\nAlice took up the fan and gloves, and, as the hall was very hot, she\\nkept fanning herself all the time she went on talking: ‘Dear, dear! How\\nqueer everything is to-day! And yesterday things went on just as usual.\\nI wonder if I’ve been changed in the night? Let me think: was I the\\nsame when I got up this morning? I almost think I can remember feeling a\\nlittle different. But if I’m not the same, the next question is, Who\\nin the world am I? Ah, THAT’S the great puzzle!’ And she began thinking\\nover all the children she knew that were of the same age as herself, to\\nsee if she could have been changed for any of them.\\n\\n‘I’m sure I’m not Ada,’ she said, ‘for her hair goes in such long\\nringlets, and mine doesn’t go in ringlets at all; and I’m sure I can’t\\nbe Mabel, for I know all sorts of things, and she, oh! she knows such a\\nvery little! Besides, SHE’S she, and I’m I, and--oh dear, how puzzling\\nit all is! I’ll try if I know all the things I used to know. Let me\\nsee: four times five is twelve, and four times six is thirteen, and\\nfour times seven is--oh dear! I shall never get to twenty at that rate!\\nHowever, the Multiplication Table doesn’t signify: let’s try Geography.\\nLondon is the capital of Paris, and Paris is the capital of Rome, and\\nRome--no, THAT’S all wrong, I’m certain! I must have been changed for\\nMabel! I’ll try and say “How doth the little--“’ and she crossed her\\nhands on her lap as if she were saying lessons, and began to repeat it,\\nbut her voice sounded hoarse and strange, and the words did not come the\\nsame as they used to do:--\\n\\n     ‘How doth the little crocodile\\n      Improve his shining tail,\\n     And pour the waters of the Nile\\n      On every golden scale!\\n\\n     ‘How cheerfully he seems to grin,\\n      How neatly spread his claws,\\n     And welcome little fishes in\\n      With gently smiling jaws!’\\n\\n‘I’m sure those are not the right words,’ said poor Alice, and her eyes\\nfilled with tears again as she went on, ‘I must be Mabel after all, and\\nI shall have to go and live in that poky little house, and have next to\\nno toys to play with, and oh! ever so many lessons to learn! No, I’ve\\nmade up my mind about it; if I’m Mabel, I’ll stay down here! It’ll be no\\nuse their putting their heads down and saying “Come up again, dear!” I\\nshall only look up and say “Who am I then? Tell me that first, and then,\\nif I like being that person, I’ll come up: if not, I’ll stay down here\\ntill I’m somebody else”--but, oh dear!’ cried Alice, with a sudden burst\\nof tears, ‘I do wish they WOULD put their heads down! I am so VERY tired\\nof being all alone here!’\\n\\nAs she said this she looked down at her hands, and was surprised to see\\nthat she had put on one of the Rabbit’s little white kid gloves while\\nshe was talking. ‘How CAN I have done that?’ she thought. ‘I must\\nbe growing small again.’ She got up and went to the table to measure\\nherself by it, and found that, as nearly as she could guess, she was now\\nabout two feet high, and was going on shrinking rapidly: she soon found\\nout that the cause of this was the fan she was holding, and she dropped\\nit hastily, just in time to avoid shrinking away altogether.\\n\\n‘That WAS a narrow escape!’ said Alice, a good deal frightened at the\\nsudden change, but very glad to find herself still in existence; ‘and\\nnow for the garden!’ and she ran with all speed back to the little door:\\nbut, alas! the little door was shut again, and the little golden key was\\nlying on the glass table as before, ‘and things are worse than ever,’\\nthought the poor child, ‘for I never was so small as this before, never!\\nAnd I declare it’s too bad, that it is!’\\n\\nAs she said these words her foot slipped, and in another moment, splash!\\nshe was up to her chin in salt water. Her first idea was that she\\nhad somehow fallen into the sea, ‘and in that case I can go back by\\nrailway,’ she said to herself. (Alice had been to the seaside once in\\nher life, and had come to the general conclusion, that wherever you go\\nto on the English coast you find a number of bathing machines in the\\nsea, some children digging in the sand with wooden spades, then a row\\nof lodging houses, and behind them a railway station.) However, she soon\\nmade out that she was in the pool of tears which she had wept when she\\nwas nine feet high.\\n\\n‘I wish I hadn’t cried so much!’ said Alice, as she swam about, trying\\nto find her way out. ‘I shall be punished for it now, I suppose, by\\nbeing drowned in my own tears! That WILL be a queer thing, to be sure!\\nHowever, everything is queer to-day.’\\n\\nJust then she heard something splashing about in the pool a little way\\noff, and she swam nearer to make out what it was: at first she thought\\nit must be a walrus or hippopotamus, but then she remembered how small\\nshe was now, and she soon made out that it was only a mouse that had\\nslipped in like herself.\\n\\n‘Would it be of any use, now,’ thought Alice, ‘to speak to this mouse?\\nEverything is so out-of-the-way down here, that I should think very\\nlikely it can talk: at any rate, there’s no harm in trying.’ So she\\nbegan: ‘O Mouse, do you know the way out of this pool? I am very tired\\nof swimming about here, O Mouse!’ (Alice thought this must be the right\\nway of speaking to a mouse: she had never done such a thing before, but\\nshe remembered having seen in her brother’s Latin Grammar, ‘A mouse--of\\na mouse--to a mouse--a mouse--O mouse!’) The Mouse looked at her rather\\ninquisitively, and seemed to her to wink with one of its little eyes,\\nbut it said nothing.\\n\\n‘Perhaps it doesn’t understand English,’ thought Alice; ‘I daresay it’s\\na French mouse, come over with William the Conqueror.’ (For, with all\\nher knowledge of history, Alice had no very clear notion how long ago\\nanything had happened.) So she began again: ‘Ou est ma chatte?’ which\\nwas the first sentence in her French lesson-book. The Mouse gave a\\nsudden leap out of the water, and seemed to quiver all over with fright.\\n‘Oh, I beg your pardon!’ cried Alice hastily, afraid that she had hurt\\nthe poor animal’s feelings. ‘I quite forgot you didn’t like cats.’\\n\\n‘Not like cats!’ cried the Mouse, in a shrill, passionate voice. ‘Would\\nYOU like cats if you were me?’\\n\\n‘Well, perhaps not,’ said Alice in a soothing tone: ‘don’t be angry\\nabout it. And yet I wish I could show you our cat Dinah: I think you’d\\ntake a fancy to cats if you could only see her. She is such a dear quiet\\nthing,’ Alice went on, half to herself, as she swam lazily about in the\\npool, ‘and she sits purring so nicely by the fire, licking her paws and\\nwashing her face--and she is such a nice soft thing to nurse--and she’s\\nsuch a capital one for catching mice--oh, I beg your pardon!’ cried\\nAlice again, for this time the Mouse was bristling all over, and she\\nfelt certain it must be really offended. ‘We won’t talk about her any\\nmore if you’d rather not.’\\n\\n‘We indeed!’ cried the Mouse, who was trembling down to the end of his\\ntail. ‘As if I would talk on such a subject! Our family always HATED\\ncats: nasty, low, vulgar things! Don’t let me hear the name again!’\\n\\n‘I won’t indeed!’ said Alice, in a great hurry to change the subject of\\nconversation. ‘Are you--are you fond--of--of dogs?’ The Mouse did not\\nanswer, so Alice went on eagerly: ‘There is such a nice little dog near\\nour house I should like to show you! A little bright-eyed terrier, you\\nknow, with oh, such long curly brown hair! And it’ll fetch things when\\nyou throw them, and it’ll sit up and beg for its dinner, and all sorts\\nof things--I can’t remember half of them--and it belongs to a farmer,\\nyou know, and he says it’s so useful, it’s worth a hundred pounds! He\\nsays it kills all the rats and--oh dear!’ cried Alice in a sorrowful\\ntone, ‘I’m afraid I’ve offended it again!’ For the Mouse was swimming\\naway from her as hard as it could go, and making quite a commotion in\\nthe pool as it went.\\n\\nSo she called softly after it, ‘Mouse dear! Do come back again, and we\\nwon’t talk about cats or dogs either, if you don’t like them!’ When the\\nMouse heard this, it turned round and swam slowly back to her: its\\nface was quite pale (with passion, Alice thought), and it said in a low\\ntrembling voice, ‘Let us get to the shore, and then I’ll tell you my\\nhistory, and you’ll understand why it is I hate cats and dogs.’\\n\\nIt was high time to go, for the pool was getting quite crowded with the\\nbirds and animals that had fallen into it: there were a Duck and a Dodo,\\na Lory and an Eaglet, and several other curious creatures. Alice led the\\nway, and the whole party swam to the shore.\\n\\n\\n\\n\\nCHAPTER III. A Caucus-Race and a Long Tale\\n\\nThey were indeed a queer-looking party that assembled on the bank--the\\nbirds with draggled feathers, the animals with their fur clinging close\\nto them, and all dripping wet, cross, and uncomfortable.\\n\\nThe first question of course was, how to get dry again: they had a\\nconsultation about this, and after a few minutes it seemed quite natural\\nto Alice to find herself talking familiarly with them, as if she had\\nknown them all her life. Indeed, she had quite a long argument with the\\nLory, who at last turned sulky, and would only say, ‘I am older than\\nyou, and must know better’; and this Alice would not allow without\\nknowing how old it was, and, as the Lory positively refused to tell its\\nage, there was no more to be said.\\n\\nAt last the Mouse, who seemed to be a person of authority among them,\\ncalled out, ‘Sit down, all of you, and listen to me! I’LL soon make you\\ndry enough!’ They all sat down at once, in a large ring, with the Mouse\\nin the middle. Alice kept her eyes anxiously fixed on it, for she felt\\nsure she would catch a bad cold if she did not get dry very soon.\\n\\n‘Ahem!’ said the Mouse with an important air, ‘are you all ready? This\\nis the driest thing I know. Silence all round, if you please! “William\\nthe Conqueror, whose cause was favoured by the pope, was soon submitted\\nto by the English, who wanted leaders, and had been of late much\\naccustomed to usurpation and conquest. Edwin and Morcar, the earls of\\nMercia and Northumbria--“’\\n\\n‘Ugh!’ said the Lory, with a shiver.\\n\\n‘I beg your pardon!’ said the Mouse, frowning, but very politely: ‘Did\\nyou speak?’\\n\\n‘Not I!’ said the Lory hastily.\\n\\n‘I thought you did,’ said the Mouse. ‘--I proceed. “Edwin and Morcar,\\nthe earls of Mercia and Northumbria, declared for him: and even Stigand,\\nthe patriotic archbishop of Canterbury, found it advisable--“’\\n\\n‘Found WHAT?’ said the Duck.\\n\\n‘Found IT,’ the Mouse replied rather crossly: ‘of course you know what\\n“it” means.’\\n\\n‘I know what “it” means well enough, when I find a thing,’ said the\\nDuck: ‘it’s generally a frog or a worm. The question is, what did the\\narchbishop find?’\\n\\nThe Mouse did not notice this question, but hurriedly went on, ‘“--found\\nit advisable to go with Edgar Atheling to meet William and offer him the\\ncrown. William’s conduct at first was moderate. But the insolence of his\\nNormans--” How are you getting on now, my dear?’ it continued, turning\\nto Alice as it spoke.\\n\\n‘As wet as ever,’ said Alice in a melancholy tone: ‘it doesn’t seem to\\ndry me at all.’\\n\\n‘In that case,’ said the Dodo solemnly, rising to its feet, ‘I move\\nthat the meeting adjourn, for the immediate adoption of more energetic\\nremedies--’\\n\\n‘Speak English!’ said the Eaglet. ‘I don’t know the meaning of half\\nthose long words, and, what’s more, I don’t believe you do either!’ And\\nthe Eaglet bent down its head to hide a smile: some of the other birds\\ntittered audibly.\\n\\n‘What I was going to say,’ said the Dodo in an offended tone, ‘was, that\\nthe best thing to get us dry would be a Caucus-race.’\\n\\n‘What IS a Caucus-race?’ said Alice; not that she wanted much to know,\\nbut the Dodo had paused as if it thought that SOMEBODY ought to speak,\\nand no one else seemed inclined to say anything.\\n\\n‘Why,’ said the Dodo, ‘the best way to explain it is to do it.’ (And, as\\nyou might like to try the thing yourself, some winter day, I will tell\\nyou how the Dodo managed it.)\\n\\nFirst it marked out a race-course, in a sort of circle, [‘the exact\\nshape doesn’t matter,’ it said,) and then all the party were placed\\nalong the course, here and there. There was no ‘One, two, three, and\\naway,’ but they began running when they liked, and left off when they\\nliked, so that it was not easy to know when the race was over. However,\\nwhen they had been running half an hour or so, and were quite dry again,\\nthe Dodo suddenly called out ‘The race is over!’ and they all crowded\\nround it, panting, and asking, ‘But who has won?’\\n\\nThis question the Dodo could not answer without a great deal of thought,\\nand it sat for a long time with one finger pressed upon its forehead\\n(the position in which you usually see Shakespeare, in the pictures\\nof him), while the rest waited in silence. At last the Dodo said,\\n‘EVERYBODY has won, and all must have prizes.’\\n\\n‘But who is to give the prizes?’ quite a chorus of voices asked.\\n\\n‘Why, SHE, of course,’ said the Dodo, pointing to Alice with one finger;\\nand the whole party at once crowded round her, calling out in a confused\\nway, ‘Prizes! Prizes!’\\n\\nAlice had no idea what to do, and in despair she put her hand in her\\npocket, and pulled out a box of comfits, (luckily the salt water had\\nnot got into it), and handed them round as prizes. There was exactly one\\na-piece all round.\\n\\n‘But she must have a prize herself, you know,’ said the Mouse.\\n\\n‘Of course,’ the Dodo replied very gravely. ‘What else have you got in\\nyour pocket?’ he went on, turning to Alice.\\n\\n‘Only a thimble,’ said Alice sadly.\\n\\n‘Hand it over here,’ said the Dodo.\\n\\nThen they all crowded round her once more, while the Dodo solemnly\\npresented the thimble, saying ‘We beg your acceptance of this elegant\\nthimble’; and, when it had finished this short speech, they all cheered.\\n\\nAlice thought the whole thing very absurd, but they all looked so grave\\nthat she did not dare to laugh; and, as she could not think of anything\\nto say, she simply bowed, and took the thimble, looking as solemn as she\\ncould.\\n\\nThe next thing was to eat the comfits: this caused some noise and\\nconfusion, as the large birds complained that they could not taste\\ntheirs, and the small ones choked and had to be patted on the back.\\nHowever, it was over at last, and they sat down again in a ring, and\\nbegged the Mouse to tell them something more.\\n\\n‘You promised to tell me your history, you know,’ said Alice, ‘and why\\nit is you hate--C and D,’ she added in a whisper, half afraid that it\\nwould be offended again.\\n\\n‘Mine is a long and a sad tale!’ said the Mouse, turning to Alice, and\\nsighing.\\n\\n‘It IS a long tail, certainly,’ said Alice, looking down with wonder at\\nthe Mouse’s tail; ‘but why do you call it sad?’ And she kept on puzzling\\nabout it while the Mouse was speaking, so that her idea of the tale was\\nsomething like this:--\\n\\n         ‘Fury said to a\\n         mouse, That he\\n        met in the\\n       house,\\n     “Let us\\n      both go to\\n       law: I will\\n        prosecute\\n         YOU.--Come,\\n           I’ll take no\\n           denial; We\\n          must have a\\n        trial: For\\n      really this\\n     morning I’ve\\n    nothing\\n    to do.”\\n      Said the\\n      mouse to the\\n       cur, “Such\\n        a trial,\\n         dear Sir,\\n            With\\n          no jury\\n        or judge,\\n       would be\\n      wasting\\n      our\\n      breath.”\\n        “I’ll be\\n        judge, I’ll\\n         be jury,”\\n             Said\\n         cunning\\n          old Fury:\\n          “I’ll\\n          try the\\n            whole\\n            cause,\\n              and\\n           condemn\\n           you\\n          to\\n           death.”’\\n\\n\\n‘You are not attending!’ said the Mouse to Alice severely. ‘What are you\\nthinking of?’\\n\\n‘I beg your pardon,’ said Alice very humbly: ‘you had got to the fifth\\nbend, I think?’\\n\\n‘I had NOT!’ cried the Mouse, sharply and very angrily.\\n\\n‘A knot!’ said Alice, always ready to make herself useful, and looking\\nanxiously about her. ‘Oh, do let me help to undo it!’\\n\\n‘I shall do nothing of the sort,’ said the Mouse, getting up and walking\\naway. ‘You insult me by talking such nonsense!’\\n\\n‘I didn’t mean it!’ pleaded poor Alice. ‘But you’re so easily offended,\\nyou know!’\\n\\nThe Mouse only growled in reply.\\n\\n‘Please come back and finish your story!’ Alice called after it; and the\\nothers all joined in chorus, ‘Yes, please do!’ but the Mouse only shook\\nits head impatiently, and walked a little quicker.\\n\\n‘What a pity it wouldn’t stay!’ sighed the Lory, as soon as it was quite\\nout of sight; and an old Crab took the opportunity of saying to her\\ndaughter ‘Ah, my dear! Let this be a lesson to you never to lose\\nYOUR temper!’ ‘Hold your tongue, Ma!’ said the young Crab, a little\\nsnappishly. ‘You’re enough to try the patience of an oyster!’\\n\\n‘I wish I had our Dinah here, I know I do!’ said Alice aloud, addressing\\nnobody in particular. ‘She’d soon fetch it back!’\\n\\n‘And who is Dinah, if I might venture to ask the question?’ said the\\nLory.\\n\\nAlice replied eagerly, for she was always ready to talk about her pet:\\n‘Dinah’s our cat. And she’s such a capital one for catching mice you\\ncan’t think! And oh, I wish you could see her after the birds! Why,\\nshe’ll eat a little bird as soon as look at it!’\\n\\nThis speech caused a remarkable sensation among the party. Some of the\\nbirds hurried off at once: one old Magpie began wrapping itself up very\\ncarefully, remarking, ‘I really must be getting home; the night-air\\ndoesn’t suit my throat!’ and a Canary called out in a trembling voice to\\nits children, ‘Come away, my dears! It’s high time you were all in bed!’\\nOn various pretexts they all moved off, and Alice was soon left alone.\\n\\n‘I wish I hadn’t mentioned Dinah!’ she said to herself in a melancholy\\ntone. ‘Nobody seems to like her, down here, and I’m sure she’s the best\\ncat in the world! Oh, my dear Dinah! I wonder if I shall ever see you\\nany more!’ And here poor Alice began to cry again, for she felt very\\nlonely and low-spirited. In a little while, however, she again heard\\na little pattering of footsteps in the distance, and she looked up\\neagerly, half hoping that the Mouse had changed his mind, and was coming\\nback to finish his story.\\n\\n\\n\\n\\nCHAPTER IV. The Rabbit Sends in a Little Bill\\n\\nIt was the White Rabbit, trotting slowly back again, and looking\\nanxiously about as it went, as if it had lost something; and she heard\\nit muttering to itself ‘The Duchess! The Duchess! Oh my dear paws! Oh\\nmy fur and whiskers! She’ll get me executed, as sure as ferrets are\\nferrets! Where CAN I have dropped them, I wonder?’ Alice guessed in a\\nmoment that it was looking for the fan and the pair of white kid gloves,\\nand she very good-naturedly began hunting about for them, but they were\\nnowhere to be seen--everything seemed to have changed since her swim in\\nthe pool, and the great hall, with the glass table and the little door,\\nhad vanished completely.\\n\\nVery soon the Rabbit noticed Alice, as she went hunting about, and\\ncalled out to her in an angry tone, ‘Why, Mary Ann, what ARE you doing\\nout here? Run home this moment, and fetch me a pair of gloves and a fan!\\nQuick, now!’ And Alice was so much frightened that she ran off at once\\nin the direction it pointed to, without trying to explain the mistake it\\nhad made.\\n\\n‘He took me for his housemaid,’ she said to herself as she ran. ‘How\\nsurprised he’ll be when he finds out who I am! But I’d better take him\\nhis fan and gloves--that is, if I can find them.’ As she said this, she\\ncame upon a neat little house, on the door of which was a bright brass\\nplate with the name ‘W. RABBIT’ engraved upon it. She went in without\\nknocking, and hurried upstairs, in great fear lest she should meet the\\nreal Mary Ann, and be turned out of the house before she had found the\\nfan and gloves.\\n\\n‘How queer it seems,’ Alice said to herself, ‘to be going messages for\\na rabbit! I suppose Dinah’ll be sending me on messages next!’ And she\\nbegan fancying the sort of thing that would happen: ‘“Miss Alice! Come\\nhere directly, and get ready for your walk!” “Coming in a minute,\\nnurse! But I’ve got to see that the mouse doesn’t get out.” Only I don’t\\nthink,’ Alice went on, ‘that they’d let Dinah stop in the house if it\\nbegan ordering people about like that!’\\n\\nBy this time she had found her way into a tidy little room with a table\\nin the window, and on it (as she had hoped) a fan and two or three pairs\\nof tiny white kid gloves: she took up the fan and a pair of the gloves,\\nand was just going to leave the room, when her eye fell upon a little\\nbottle that stood near the looking-glass. There was no label this time\\nwith the words ‘DRINK ME,’ but nevertheless she uncorked it and put it\\nto her lips. ‘I know SOMETHING interesting is sure to happen,’ she said\\nto herself, ‘whenever I eat or drink anything; so I’ll just see what\\nthis bottle does. I do hope it’ll make me grow large again, for really\\nI’m quite tired of being such a tiny little thing!’\\n\\nIt did so indeed, and much sooner than she had expected: before she had\\ndrunk half the bottle, she found her head pressing against the ceiling,\\nand had to stoop to save her neck from being broken. She hastily put\\ndown the bottle, saying to herself ‘That’s quite enough--I hope I shan’t\\ngrow any more--As it is, I can’t get out at the door--I do wish I hadn’t\\ndrunk quite so much!’\\n\\nAlas! it was too late to wish that! She went on growing, and growing,\\nand very soon had to kneel down on the floor: in another minute there\\nwas not even room for this, and she tried the effect of lying down with\\none elbow against the door, and the other arm curled round her head.\\nStill she went on growing, and, as a last resource, she put one arm out\\nof the window, and one foot up the chimney, and said to herself ‘Now I\\ncan do no more, whatever happens. What WILL become of me?’\\n\\nLuckily for Alice, the little magic bottle had now had its full effect,\\nand she grew no larger: still it was very uncomfortable, and, as there\\nseemed to be no sort of chance of her ever getting out of the room\\nagain, no wonder she felt unhappy.\\n\\n‘It was much pleasanter at home,’ thought poor Alice, ‘when one wasn’t\\nalways growing larger and smaller, and being ordered about by mice and\\nrabbits. I almost wish I hadn’t gone down that rabbit-hole--and yet--and\\nyet--it’s rather curious, you know, this sort of life! I do wonder what\\nCAN have happened to me! When I used to read fairy-tales, I fancied that\\nkind of thing never happened, and now here I am in the middle of one!\\nThere ought to be a book written about me, that there ought! And when I\\ngrow up, I’ll write one--but I’m grown up now,’ she added in a sorrowful\\ntone; ‘at least there’s no room to grow up any more HERE.’\\n\\n‘But then,’ thought Alice, ‘shall I NEVER get any older than I am\\nnow? That’ll be a comfort, one way--never to be an old woman--but\\nthen--always to have lessons to learn! Oh, I shouldn’t like THAT!’\\n\\n‘Oh, you foolish Alice!’ she answered herself. ‘How can you learn\\nlessons in here? Why, there’s hardly room for YOU, and no room at all\\nfor any lesson-books!’\\n\\nAnd so she went on, taking first one side and then the other, and making\\nquite a conversation of it altogether; but after a few minutes she heard\\na voice outside, and stopped to listen.\\n\\n‘Mary Ann! Mary Ann!’ said the voice. ‘Fetch me my gloves this moment!’\\nThen came a little pattering of feet on the stairs. Alice knew it was\\nthe Rabbit coming to look for her, and she trembled till she shook the\\nhouse, quite forgetting that she was now about a thousand times as large\\nas the Rabbit, and had no reason to be afraid of it.\\n\\nPresently the Rabbit came up to the door, and tried to open it; but, as\\nthe door opened inwards, and Alice’s elbow was pressed hard against it,\\nthat attempt proved a failure. Alice heard it say to itself ‘Then I’ll\\ngo round and get in at the window.’\\n\\n‘THAT you won’t’ thought Alice, and, after waiting till she fancied\\nshe heard the Rabbit just under the window, she suddenly spread out her\\nhand, and made a snatch in the air. She did not get hold of anything,\\nbut she heard a little shriek and a fall, and a crash of broken glass,\\nfrom which she concluded that it was just possible it had fallen into a\\ncucumber-frame, or something of the sort.\\n\\nNext came an angry voice--the Rabbit’s--‘Pat! Pat! Where are you?’ And\\nthen a voice she had never heard before, ‘Sure then I’m here! Digging\\nfor apples, yer honour!’\\n\\n‘Digging for apples, indeed!’ said the Rabbit angrily. ‘Here! Come and\\nhelp me out of THIS!’ (Sounds of more broken glass.)\\n\\n‘Now tell me, Pat, what’s that in the window?’\\n\\n‘Sure, it’s an arm, yer honour!’ (He pronounced it ‘arrum.’)\\n\\n‘An arm, you goose! Who ever saw one that size? Why, it fills the whole\\nwindow!’\\n\\n‘Sure, it does, yer honour: but it’s an arm for all that.’\\n\\n‘Well, it’s got no business there, at any rate: go and take it away!’\\n\\nThere was a long silence after this, and Alice could only hear whispers\\nnow and then; such as, ‘Sure, I don’t like it, yer honour, at all, at\\nall!’ ‘Do as I tell you, you coward!’ and at last she spread out her\\nhand again, and made another snatch in the air. This time there were\\nTWO little shrieks, and more sounds of broken glass. ‘What a number of\\ncucumber-frames there must be!’ thought Alice. ‘I wonder what they’ll do\\nnext! As for pulling me out of the window, I only wish they COULD! I’m\\nsure I don’t want to stay in here any longer!’\\n\\nShe waited for some time without hearing anything more: at last came a\\nrumbling of little cartwheels, and the sound of a good many voices\\nall talking together: she made out the words: ‘Where’s the other\\nladder?--Why, I hadn’t to bring but one; Bill’s got the other--Bill!\\nfetch it here, lad!--Here, put ‘em up at this corner--No, tie ‘em\\ntogether first--they don’t reach half high enough yet--Oh! they’ll\\ndo well enough; don’t be particular--Here, Bill! catch hold of this\\nrope--Will the roof bear?--Mind that loose slate--Oh, it’s coming\\ndown! Heads below!’ (a loud crash)--‘Now, who did that?--It was Bill, I\\nfancy--Who’s to go down the chimney?--Nay, I shan’t! YOU do it!--That I\\nwon’t, then!--Bill’s to go down--Here, Bill! the master says you’re to\\ngo down the chimney!’\\n\\n‘Oh! So Bill’s got to come down the chimney, has he?’ said Alice to\\nherself. ‘Shy, they seem to put everything upon Bill! I wouldn’t be in\\nBill’s place for a good deal: this fireplace is narrow, to be sure; but\\nI THINK I can kick a little!’\\n\\nShe drew her foot as far down the chimney as she could, and waited\\ntill she heard a little animal (she couldn’t guess of what sort it was)\\nscratching and scrambling about in the chimney close above her: then,\\nsaying to herself ‘This is Bill,’ she gave one sharp kick, and waited to\\nsee what would happen next.\\n\\nThe first thing she heard was a general chorus of ‘There goes Bill!’\\nthen the Rabbit’s voice along--‘Catch him, you by the hedge!’ then\\nsilence, and then another confusion of voices--‘Hold up his head--Brandy\\nnow--Don’t choke him--How was it, old fellow? What happened to you? Tell\\nus all about it!’\\n\\nLast came a little feeble, squeaking voice, [‘That’s Bill,’ thought\\nAlice,) ‘Well, I hardly know--No more, thank ye; I’m better now--but I’m\\na deal too flustered to tell you--all I know is, something comes at me\\nlike a Jack-in-the-box, and up I goes like a sky-rocket!’\\n\\n‘So you did, old fellow!’ said the others.\\n\\n‘We must burn the house down!’ said the Rabbit’s voice; and Alice called\\nout as loud as she could, ‘If you do. I’ll set Dinah at you!’\\n\\nThere was a dead silence instantly, and Alice thought to herself, ‘I\\nwonder what they WILL do next! If they had any sense, they’d take the\\nroof off.’ After a minute or two, they began moving about again, and\\nAlice heard the Rabbit say, ‘A barrowful will do, to begin with.’\\n\\n‘A barrowful of WHAT?’ thought Alice; but she had not long to doubt,\\nfor the next moment a shower of little pebbles came rattling in at the\\nwindow, and some of them hit her in the face. ‘I’ll put a stop to this,’\\nshe said to herself, and shouted out, ‘You’d better not do that again!’\\nwhich produced another dead silence.\\n\\nAlice noticed with some surprise that the pebbles were all turning into\\nlittle cakes as they lay on the floor, and a bright idea came into her\\nhead. ‘If I eat one of these cakes,’ she thought, ‘it’s sure to make\\nSOME change in my size; and as it can’t possibly make me larger, it must\\nmake me smaller, I suppose.’\\n\\nSo she swallowed one of the cakes, and was delighted to find that she\\nbegan shrinking directly. As soon as she was small enough to get through\\nthe door, she ran out of the house, and found quite a crowd of little\\nanimals and birds waiting outside. The poor little Lizard, Bill, was\\nin the middle, being held up by two guinea-pigs, who were giving it\\nsomething out of a bottle. They all made a rush at Alice the moment she\\nappeared; but she ran off as hard as she could, and soon found herself\\nsafe in a thick wood.\\n\\n‘The first thing I’ve got to do,’ said Alice to herself, as she wandered\\nabout in the wood, ‘is to grow to my right size again; and the second\\nthing is to find my way into that lovely garden. I think that will be\\nthe best plan.’\\n\\nIt sounded an excellent plan, no doubt, and very neatly and simply\\narranged; the only difficulty was, that she had not the smallest idea\\nhow to set about it; and while she was peering about anxiously among\\nthe trees, a little sharp bark just over her head made her look up in a\\ngreat hurry.\\n\\nAn enormous puppy was looking down at her with large round eyes, and\\nfeebly stretching out one paw, trying to touch her. ‘Poor little thing!’\\nsaid Alice, in a coaxing tone, and she tried hard to whistle to it; but\\nshe was terribly frightened all the time at the thought that it might be\\nhungry, in which case it would be very likely to eat her up in spite of\\nall her coaxing.\\n\\nHardly knowing what she did, she picked up a little bit of stick, and\\nheld it out to the puppy; whereupon the puppy jumped into the air off\\nall its feet at once, with a yelp of delight, and rushed at the stick,\\nand made believe to worry it; then Alice dodged behind a great thistle,\\nto keep herself from being run over; and the moment she appeared on the\\nother side, the puppy made another rush at the stick, and tumbled head\\nover heels in its hurry to get hold of it; then Alice, thinking it was\\nvery like having a game of play with a cart-horse, and expecting every\\nmoment to be trampled under its feet, ran round the thistle again; then\\nthe puppy began a series of short charges at the stick, running a very\\nlittle way forwards each time and a long way back, and barking hoarsely\\nall the while, till at last it sat down a good way off, panting, with\\nits tongue hanging out of its mouth, and its great eyes half shut.\\n\\nThis seemed to Alice a good opportunity for making her escape; so she\\nset off at once, and ran till she was quite tired and out of breath, and\\ntill the puppy’s bark sounded quite faint in the distance.\\n\\n‘And yet what a dear little puppy it was!’ said Alice, as she leant\\nagainst a buttercup to rest herself, and fanned herself with one of the\\nleaves: ‘I should have liked teaching it tricks very much, if--if I’d\\nonly been the right size to do it! Oh dear! I’d nearly forgotten that\\nI’ve got to grow up again! Let me see--how IS it to be managed? I\\nsuppose I ought to eat or drink something or other; but the great\\nquestion is, what?’\\n\\nThe great question certainly was, what? Alice looked all round her at\\nthe flowers and the blades of grass, but she did not see anything that\\nlooked like the right thing to eat or drink under the circumstances.\\nThere was a large mushroom growing near her, about the same height as\\nherself; and when she had looked under it, and on both sides of it, and\\nbehind it, it occurred to her that she might as well look and see what\\nwas on the top of it.\\n\\nShe stretched herself up on tiptoe, and peeped over the edge of the\\nmushroom, and her eyes immediately met those of a large caterpillar,\\nthat was sitting on the top with its arms folded, quietly smoking a long\\nhookah, and taking not the smallest notice of her or of anything else.\\n\\n\\n\\n\\nCHAPTER V. Advice from a Caterpillar\\n\\nThe Caterpillar and Alice looked at each other for some time in silence:\\nat last the Caterpillar took the hookah out of its mouth, and addressed\\nher in a languid, sleepy voice.\\n\\n‘Who are YOU?’ said the Caterpillar.\\n\\nThis was not an encouraging opening for a conversation. Alice replied,\\nrather shyly, ‘I--I hardly know, sir, just at present--at least I know\\nwho I WAS when I got up this morning, but I think I must have been\\nchanged several times since then.’\\n\\n‘What do you mean by that?’ said the Caterpillar sternly. ‘Explain\\nyourself!’\\n\\n‘I can’t explain MYSELF, I’m afraid, sir’ said Alice, ‘because I’m not\\nmyself, you see.’\\n\\n‘I don’t see,’ said the Caterpillar.\\n\\n‘I’m afraid I can’t put it more clearly,’ Alice replied very politely,\\n‘for I can’t understand it myself to begin with; and being so many\\ndifferent sizes in a day is very confusing.’\\n\\n‘It isn’t,’ said the Caterpillar.\\n\\n‘Well, perhaps you haven’t found it so yet,’ said Alice; ‘but when you\\nhave to turn into a chrysalis--you will some day, you know--and then\\nafter that into a butterfly, I should think you’ll feel it a little\\nqueer, won’t you?’\\n\\n‘Not a bit,’ said the Caterpillar.\\n\\n‘Well, perhaps your feelings may be different,’ said Alice; ‘all I know\\nis, it would feel very queer to ME.’\\n\\n‘You!’ said the Caterpillar contemptuously. ‘Who are YOU?’\\n\\nWhich brought them back again to the beginning of the conversation.\\nAlice felt a little irritated at the Caterpillar’s making such VERY\\nshort remarks, and she drew herself up and said, very gravely, ‘I think,\\nyou ought to tell me who YOU are, first.’\\n\\n‘Why?’ said the Caterpillar.\\n\\nHere was another puzzling question; and as Alice could not think of any\\ngood reason, and as the Caterpillar seemed to be in a VERY unpleasant\\nstate of mind, she turned away.\\n\\n‘Come back!’ the Caterpillar called after her. ‘I’ve something important\\nto say!’\\n\\nThis sounded promising, certainly: Alice turned and came back again.\\n\\n‘Keep your temper,’ said the Caterpillar.\\n\\n‘Is that all?’ said Alice, swallowing down her anger as well as she\\ncould.\\n\\n‘No,’ said the Caterpillar.\\n\\nAlice thought she might as well wait, as she had nothing else to do, and\\nperhaps after all it might tell her something worth hearing. For some\\nminutes it puffed away without speaking, but at last it unfolded its\\narms, took the hookah out of its mouth again, and said, ‘So you think\\nyou’re changed, do you?’\\n\\n‘I’m afraid I am, sir,’ said Alice; ‘I can’t remember things as I\\nused--and I don’t keep the same size for ten minutes together!’\\n\\n‘Can’t remember WHAT things?’ said the Caterpillar.\\n\\n‘Well, I’ve tried to say “HOW DOTH THE LITTLE BUSY BEE,” but it all came\\ndifferent!’ Alice replied in a very melancholy voice.\\n\\n‘Repeat, “YOU ARE OLD, FATHER WILLIAM,”’ said the Caterpillar.\\n\\nAlice folded her hands, and began:--\\n\\n   ‘You are old, Father William,’ the young man said,\\n    ‘And your hair has become very white;\\n   And yet you incessantly stand on your head--\\n    Do you think, at your age, it is right?’\\n\\n   ‘In my youth,’ Father William replied to his son,\\n    ‘I feared it might injure the brain;\\n   But, now that I’m perfectly sure I have none,\\n    Why, I do it again and again.’\\n\\n   ‘You are old,’ said the youth, ‘as I mentioned before,\\n    And have grown most uncommonly fat;\\n   Yet you turned a back-somersault in at the door--\\n    Pray, what is the reason of that?’\\n\\n   ‘In my youth,’ said the sage, as he shook his grey locks,\\n    ‘I kept all my limbs very supple\\n   By the use of this ointment--one shilling the box--\\n    Allow me to sell you a couple?’\\n\\n   ‘You are old,’ said the youth, ‘and your jaws are too weak\\n    For anything tougher than suet;\\n   Yet you finished the goose, with the bones and the beak--\\n    Pray how did you manage to do it?’\\n\\n   ‘In my youth,’ said his father, ‘I took to the law,\\n    And argued each case with my wife;\\n   And the muscular strength, which it gave to my jaw,\\n    Has lasted the rest of my life.’\\n\\n   ‘You are old,’ said the youth, ‘one would hardly suppose\\n    That your eye was as steady as ever;\\n   Yet you balanced an eel on the end of your nose--\\n    What made you so awfully clever?’\\n\\n   ‘I have answered three questions, and that is enough,’\\n    Said his father; ‘don’t give yourself airs!\\n   Do you think I can listen all day to such stuff?\\n    Be off, or I’ll kick you down stairs!’\\n\\n\\n‘That is not said right,’ said the Caterpillar.\\n\\n‘Not QUITE right, I’m afraid,’ said Alice, timidly; ‘some of the words\\nhave got altered.’\\n\\n‘It is wrong from beginning to end,’ said the Caterpillar decidedly, and\\nthere was silence for some minutes.\\n\\nThe Caterpillar was the first to speak.\\n\\n‘What size do you want to be?’ it asked.\\n\\n‘Oh, I’m not particular as to size,’ Alice hastily replied; ‘only one\\ndoesn’t like changing so often, you know.’\\n\\n‘I DON’T know,’ said the Caterpillar.\\n\\nAlice said nothing: she had never been so much contradicted in her life\\nbefore, and she felt that she was losing her temper.\\n\\n‘Are you content now?’ said the Caterpillar.\\n\\n‘Well, I should like to be a LITTLE larger, sir, if you wouldn’t mind,’\\nsaid Alice: ‘three inches is such a wretched height to be.’\\n\\n‘It is a very good height indeed!’ said the Caterpillar angrily, rearing\\nitself upright as it spoke (it was exactly three inches high).\\n\\n‘But I’m not used to it!’ pleaded poor Alice in a piteous tone. And\\nshe thought of herself, ‘I wish the creatures wouldn’t be so easily\\noffended!’\\n\\n‘You’ll get used to it in time,’ said the Caterpillar; and it put the\\nhookah into its mouth and began smoking again.\\n\\nThis time Alice waited patiently until it chose to speak again. In\\na minute or two the Caterpillar took the hookah out of its mouth\\nand yawned once or twice, and shook itself. Then it got down off the\\nmushroom, and crawled away in the grass, merely remarking as it went,\\n‘One side will make you grow taller, and the other side will make you\\ngrow shorter.’\\n\\n‘One side of WHAT? The other side of WHAT?’ thought Alice to herself.\\n\\n‘Of the mushroom,’ said the Caterpillar, just as if she had asked it\\naloud; and in another moment it was out of sight.\\n\\nAlice remained looking thoughtfully at the mushroom for a minute, trying\\nto make out which were the two sides of it; and as it was perfectly\\nround, she found this a very difficult question. However, at last she\\nstretched her arms round it as far as they would go, and broke off a bit\\nof the edge with each hand.\\n\\n‘And now which is which?’ she said to herself, and nibbled a little of\\nthe right-hand bit to try the effect: the next moment she felt a violent\\nblow underneath her chin: it had struck her foot!\\n\\nShe was a good deal frightened by this very sudden change, but she felt\\nthat there was no time to be lost, as she was shrinking rapidly; so she\\nset to work at once to eat some of the other bit. Her chin was pressed\\nso closely against her foot, that there was hardly room to open her\\nmouth; but she did it at last, and managed to swallow a morsel of the\\nlefthand bit.\\n\\n\\n  *    *    *    *    *    *    *\\n\\n    *    *    *    *    *    *\\n\\n  *    *    *    *    *    *    *\\n\\n‘Come, my head’s free at last!’ said Alice in a tone of delight, which\\nchanged into alarm in another moment, when she found that her shoulders\\nwere nowhere to be found: all she could see, when she looked down, was\\nan immense length of neck, which seemed to rise like a stalk out of a\\nsea of green leaves that lay far below her.\\n\\n‘What CAN all that green stuff be?’ said Alice. ‘And where HAVE my\\nshoulders got to? And oh, my poor hands, how is it I can’t see you?’\\nShe was moving them about as she spoke, but no result seemed to follow,\\nexcept a little shaking among the distant green leaves.\\n\\nAs there seemed to be no chance of getting her hands up to her head, she\\ntried to get her head down to them, and was delighted to find that her\\nneck would bend about easily in any direction, like a serpent. She had\\njust succeeded in curving it down into a graceful zigzag, and was going\\nto dive in among the leaves, which she found to be nothing but the tops\\nof the trees under which she had been wandering, when a sharp hiss made\\nher draw back in a hurry: a large pigeon had flown into her face, and\\nwas beating her violently with its wings.\\n\\n‘Serpent!’ screamed the Pigeon.\\n\\n‘I’m NOT a serpent!’ said Alice indignantly. ‘Let me alone!’\\n\\n‘Serpent, I say again!’ repeated the Pigeon, but in a more subdued tone,\\nand added with a kind of sob, ‘I’ve tried every way, and nothing seems\\nto suit them!’\\n\\n‘I haven’t the least idea what you’re talking about,’ said Alice.\\n\\n‘I’ve tried the roots of trees, and I’ve tried banks, and I’ve tried\\nhedges,’ the Pigeon went on, without attending to her; ‘but those\\nserpents! There’s no pleasing them!’\\n\\nAlice was more and more puzzled, but she thought there was no use in\\nsaying anything more till the Pigeon had finished.\\n\\n‘As if it wasn’t trouble enough hatching the eggs,’ said the Pigeon;\\n‘but I must be on the look-out for serpents night and day! Why, I\\nhaven’t had a wink of sleep these three weeks!’\\n\\n‘I’m very sorry you’ve been annoyed,’ said Alice, who was beginning to\\nsee its meaning.\\n\\n‘And just as I’d taken the highest tree in the wood,’ continued the\\nPigeon, raising its voice to a shriek, ‘and just as I was thinking I\\nshould be free of them at last, they must needs come wriggling down from\\nthe sky! Ugh, Serpent!’\\n\\n‘But I’m NOT a serpent, I tell you!’ said Alice. ‘I’m a--I’m a--’\\n\\n‘Well! WHAT are you?’ said the Pigeon. ‘I can see you’re trying to\\ninvent something!’\\n\\n‘I--I’m a little girl,’ said Alice, rather doubtfully, as she remembered\\nthe number of changes she had gone through that day.\\n\\n‘A likely story indeed!’ said the Pigeon in a tone of the deepest\\ncontempt. ‘I’ve seen a good many little girls in my time, but never ONE\\nwith such a neck as that! No, no! You’re a serpent; and there’s no use\\ndenying it. I suppose you’ll be telling me next that you never tasted an\\negg!’\\n\\n‘I HAVE tasted eggs, certainly,’ said Alice, who was a very truthful\\nchild; ‘but little girls eat eggs quite as much as serpents do, you\\nknow.’\\n\\n‘I don’t believe it,’ said the Pigeon; ‘but if they do, why then they’re\\na kind of serpent, that’s all I can say.’\\n\\nThis was such a new idea to Alice, that she was quite silent for a\\nminute or two, which gave the Pigeon the opportunity of adding, ‘You’re\\nlooking for eggs, I know THAT well enough; and what does it matter to me\\nwhether you’re a little girl or a serpent?’\\n\\n‘It matters a good deal to ME,’ said Alice hastily; ‘but I’m not looking\\nfor eggs, as it happens; and if I was, I shouldn’t want YOURS: I don’t\\nlike them raw.’\\n\\n‘Well, be off, then!’ said the Pigeon in a sulky tone, as it settled\\ndown again into its nest. Alice crouched down among the trees as well as\\nshe could, for her neck kept getting entangled among the branches, and\\nevery now and then she had to stop and untwist it. After a while she\\nremembered that she still held the pieces of mushroom in her hands, and\\nshe set to work very carefully, nibbling first at one and then at the\\nother, and growing sometimes taller and sometimes shorter, until she had\\nsucceeded in bringing herself down to her usual height.\\n\\nIt was so long since she had been anything near the right size, that it\\nfelt quite strange at first; but she got used to it in a few minutes,\\nand began talking to herself, as usual. ‘Come, there’s half my plan done\\nnow! How puzzling all these changes are! I’m never sure what I’m going\\nto be, from one minute to another! However, I’ve got back to my right\\nsize: the next thing is, to get into that beautiful garden--how IS that\\nto be done, I wonder?’ As she said this, she came suddenly upon an open\\nplace, with a little house in it about four feet high. ‘Whoever lives\\nthere,’ thought Alice, ‘it’ll never do to come upon them THIS size: why,\\nI should frighten them out of their wits!’ So she began nibbling at the\\nrighthand bit again, and did not venture to go near the house till she\\nhad brought herself down to nine inches high.\\n\\n\\n\\n\\nCHAPTER VI. Pig and Pepper\\n\\nFor a minute or two she stood looking at the house, and wondering what\\nto do next, when suddenly a footman in livery came running out of the\\nwood--(she considered him to be a footman because he was in livery:\\notherwise, judging by his face only, she would have called him a\\nfish)--and rapped loudly at the door with his knuckles. It was opened\\nby another footman in livery, with a round face, and large eyes like a\\nfrog; and both footmen, Alice noticed, had powdered hair that curled all\\nover their heads. She felt very curious to know what it was all about,\\nand crept a little way out of the wood to listen.\\n\\nThe Fish-Footman began by producing from under his arm a great letter,\\nnearly as large as himself, and this he handed over to the other,\\nsaying, in a solemn tone, ‘For the Duchess. An invitation from the Queen\\nto play croquet.’ The Frog-Footman repeated, in the same solemn tone,\\nonly changing the order of the words a little, ‘From the Queen. An\\ninvitation for the Duchess to play croquet.’\\n\\nThen they both bowed low, and their curls got entangled together.\\n\\nAlice laughed so much at this, that she had to run back into the\\nwood for fear of their hearing her; and when she next peeped out the\\nFish-Footman was gone, and the other was sitting on the ground near the\\ndoor, staring stupidly up into the sky.\\n\\nAlice went timidly up to the door, and knocked.\\n\\n‘There’s no sort of use in knocking,’ said the Footman, ‘and that for\\ntwo reasons. First, because I’m on the same side of the door as you\\nare; secondly, because they’re making such a noise inside, no one could\\npossibly hear you.’ And certainly there was a most extraordinary noise\\ngoing on within--a constant howling and sneezing, and every now and then\\na great crash, as if a dish or kettle had been broken to pieces.\\n\\n‘Please, then,’ said Alice, ‘how am I to get in?’\\n\\n‘There might be some sense in your knocking,’ the Footman went on\\nwithout attending to her, ‘if we had the door between us. For instance,\\nif you were INSIDE, you might knock, and I could let you out, you know.’\\nHe was looking up into the sky all the time he was speaking, and this\\nAlice thought decidedly uncivil. ‘But perhaps he can’t help it,’ she\\nsaid to herself; ‘his eyes are so VERY nearly at the top of his head.\\nBut at any rate he might answer questions.--How am I to get in?’ she\\nrepeated, aloud.\\n\\n‘I shall sit here,’ the Footman remarked, ‘till tomorrow--’\\n\\nAt this moment the door of the house opened, and a large plate came\\nskimming out, straight at the Footman’s head: it just grazed his nose,\\nand broke to pieces against one of the trees behind him.\\n\\n‘--or next day, maybe,’ the Footman continued in the same tone, exactly\\nas if nothing had happened.\\n\\n‘How am I to get in?’ asked Alice again, in a louder tone.\\n\\n‘ARE you to get in at all?’ said the Footman. ‘That’s the first\\nquestion, you know.’\\n\\nIt was, no doubt: only Alice did not like to be told so. ‘It’s really\\ndreadful,’ she muttered to herself, ‘the way all the creatures argue.\\nIt’s enough to drive one crazy!’\\n\\nThe Footman seemed to think this a good opportunity for repeating his\\nremark, with variations. ‘I shall sit here,’ he said, ‘on and off, for\\ndays and days.’\\n\\n‘But what am I to do?’ said Alice.\\n\\n‘Anything you like,’ said the Footman, and began whistling.\\n\\n‘Oh, there’s no use in talking to him,’ said Alice desperately: ‘he’s\\nperfectly idiotic!’ And she opened the door and went in.\\n\\nThe door led right into a large kitchen, which was full of smoke from\\none end to the other: the Duchess was sitting on a three-legged stool in\\nthe middle, nursing a baby; the cook was leaning over the fire, stirring\\na large cauldron which seemed to be full of soup.\\n\\n‘There’s certainly too much pepper in that soup!’ Alice said to herself,\\nas well as she could for sneezing.\\n\\nThere was certainly too much of it in the air. Even the Duchess\\nsneezed occasionally; and as for the baby, it was sneezing and howling\\nalternately without a moment’s pause. The only things in the kitchen\\nthat did not sneeze, were the cook, and a large cat which was sitting on\\nthe hearth and grinning from ear to ear.\\n\\n‘Please would you tell me,’ said Alice, a little timidly, for she was\\nnot quite sure whether it was good manners for her to speak first, ‘why\\nyour cat grins like that?’\\n\\n‘It’s a Cheshire cat,’ said the Duchess, ‘and that’s why. Pig!’\\n\\nShe said the last word with such sudden violence that Alice quite\\njumped; but she saw in another moment that it was addressed to the baby,\\nand not to her, so she took courage, and went on again:--\\n\\n‘I didn’t know that Cheshire cats always grinned; in fact, I didn’t know\\nthat cats COULD grin.’\\n\\n‘They all can,’ said the Duchess; ‘and most of ‘em do.’\\n\\n‘I don’t know of any that do,’ Alice said very politely, feeling quite\\npleased to have got into a conversation.\\n\\n‘You don’t know much,’ said the Duchess; ‘and that’s a fact.’\\n\\nAlice did not at all like the tone of this remark, and thought it would\\nbe as well to introduce some other subject of conversation. While she\\nwas trying to fix on one, the cook took the cauldron of soup off the\\nfire, and at once set to work throwing everything within her reach at\\nthe Duchess and the baby--the fire-irons came first; then followed a\\nshower of saucepans, plates, and dishes. The Duchess took no notice of\\nthem even when they hit her; and the baby was howling so much already,\\nthat it was quite impossible to say whether the blows hurt it or not.\\n\\n‘Oh, PLEASE mind what you’re doing!’ cried Alice, jumping up and down in\\nan agony of terror. ‘Oh, there goes his PRECIOUS nose’; as an unusually\\nlarge saucepan flew close by it, and very nearly carried it off.\\n\\n‘If everybody minded their own business,’ the Duchess said in a hoarse\\ngrowl, ‘the world would go round a deal faster than it does.’\\n\\n‘Which would NOT be an advantage,’ said Alice, who felt very glad to get\\nan opportunity of showing off a little of her knowledge. ‘Just think of\\nwhat work it would make with the day and night! You see the earth takes\\ntwenty-four hours to turn round on its axis--’\\n\\n‘Talking of axes,’ said the Duchess, ‘chop off her head!’\\n\\nAlice glanced rather anxiously at the cook, to see if she meant to take\\nthe hint; but the cook was busily stirring the soup, and seemed not to\\nbe listening, so she went on again: ‘Twenty-four hours, I THINK; or is\\nit twelve? I--’\\n\\n‘Oh, don’t bother ME,’ said the Duchess; ‘I never could abide figures!’\\nAnd with that she began nursing her child again, singing a sort of\\nlullaby to it as she did so, and giving it a violent shake at the end of\\nevery line:\\n\\n   ‘Speak roughly to your little boy,\\n    And beat him when he sneezes:\\n   He only does it to annoy,\\n    Because he knows it teases.’\\n\\n         CHORUS.\\n\\n (In which the cook and the baby joined):--\\n\\n       ‘Wow! wow! wow!’\\n\\nWhile the Duchess sang the second verse of the song, she kept tossing\\nthe baby violently up and down, and the poor little thing howled so,\\nthat Alice could hardly hear the words:--\\n\\n   ‘I speak severely to my boy,\\n    I beat him when he sneezes;\\n   For he can thoroughly enjoy\\n    The pepper when he pleases!’\\n\\n         CHORUS.\\n\\n       ‘Wow! wow! wow!’\\n\\n‘Here! you may nurse it a bit, if you like!’ the Duchess said to Alice,\\nflinging the baby at her as she spoke. ‘I must go and get ready to play\\ncroquet with the Queen,’ and she hurried out of the room. The cook threw\\na frying-pan after her as she went out, but it just missed her.\\n\\nAlice caught the baby with some difficulty, as it was a queer-shaped\\nlittle creature, and held out its arms and legs in all directions, ‘just\\nlike a star-fish,’ thought Alice. The poor little thing was snorting\\nlike a steam-engine when she caught it, and kept doubling itself up and\\nstraightening itself out again, so that altogether, for the first minute\\nor two, it was as much as she could do to hold it.\\n\\nAs soon as she had made out the proper way of nursing it, (which was to\\ntwist it up into a sort of knot, and then keep tight hold of its right\\near and left foot, so as to prevent its undoing itself,) she carried\\nit out into the open air. ‘IF I don’t take this child away with me,’\\nthought Alice, ‘they’re sure to kill it in a day or two: wouldn’t it be\\nmurder to leave it behind?’ She said the last words out loud, and the\\nlittle thing grunted in reply (it had left off sneezing by this time).\\n‘Don’t grunt,’ said Alice; ‘that’s not at all a proper way of expressing\\nyourself.’\\n\\nThe baby grunted again, and Alice looked very anxiously into its face to\\nsee what was the matter with it. There could be no doubt that it had\\na VERY turn-up nose, much more like a snout than a real nose; also its\\neyes were getting extremely small for a baby: altogether Alice did not\\nlike the look of the thing at all. ‘But perhaps it was only sobbing,’\\nshe thought, and looked into its eyes again, to see if there were any\\ntears.\\n\\nNo, there were no tears. ‘If you’re going to turn into a pig, my dear,’\\nsaid Alice, seriously, ‘I’ll have nothing more to do with you. Mind\\nnow!’ The poor little thing sobbed again (or grunted, it was impossible\\nto say which), and they went on for some while in silence.\\n\\nAlice was just beginning to think to herself, ‘Now, what am I to do with\\nthis creature when I get it home?’ when it grunted again, so violently,\\nthat she looked down into its face in some alarm. This time there could\\nbe NO mistake about it: it was neither more nor less than a pig, and she\\nfelt that it would be quite absurd for her to carry it further.\\n\\nSo she set the little creature down, and felt quite relieved to see\\nit trot away quietly into the wood. ‘If it had grown up,’ she said\\nto herself, ‘it would have made a dreadfully ugly child: but it makes\\nrather a handsome pig, I think.’ And she began thinking over other\\nchildren she knew, who might do very well as pigs, and was just saying\\nto herself, ‘if one only knew the right way to change them--’ when she\\nwas a little startled by seeing the Cheshire Cat sitting on a bough of a\\ntree a few yards off.\\n\\nThe Cat only grinned when it saw Alice. It looked good-natured, she\\nthought: still it had VERY long claws and a great many teeth, so she\\nfelt that it ought to be treated with respect.\\n\\n‘Cheshire Puss,’ she began, rather timidly, as she did not at all know\\nwhether it would like the name: however, it only grinned a little wider.\\n‘Come, it’s pleased so far,’ thought Alice, and she went on. ‘Would you\\ntell me, please, which way I ought to go from here?’\\n\\n‘That depends a good deal on where you want to get to,’ said the Cat.\\n\\n‘I don’t much care where--’ said Alice.\\n\\n‘Then it doesn’t matter which way you go,’ said the Cat.\\n\\n‘--so long as I get SOMEWHERE,’ Alice added as an explanation.\\n\\n‘Oh, you’re sure to do that,’ said the Cat, ‘if you only walk long\\nenough.’\\n\\nAlice felt that this could not be denied, so she tried another question.\\n‘What sort of people live about here?’\\n\\n‘In THAT direction,’ the Cat said, waving its right paw round, ‘lives\\na Hatter: and in THAT direction,’ waving the other paw, ‘lives a March\\nHare. Visit either you like: they’re both mad.’\\n\\n‘But I don’t want to go among mad people,’ Alice remarked.\\n\\n‘Oh, you can’t help that,’ said the Cat: ‘we’re all mad here. I’m mad.\\nYou’re mad.’\\n\\n‘How do you know I’m mad?’ said Alice.\\n\\n‘You must be,’ said the Cat, ‘or you wouldn’t have come here.’\\n\\nAlice didn’t think that proved it at all; however, she went on ‘And how\\ndo you know that you’re mad?’\\n\\n‘To begin with,’ said the Cat, ‘a dog’s not mad. You grant that?’\\n\\n‘I suppose so,’ said Alice.\\n\\n‘Well, then,’ the Cat went on, ‘you see, a dog growls when it’s angry,\\nand wags its tail when it’s pleased. Now I growl when I’m pleased, and\\nwag my tail when I’m angry. Therefore I’m mad.’\\n\\n‘I call it purring, not growling,’ said Alice.\\n\\n‘Call it what you like,’ said the Cat. ‘Do you play croquet with the\\nQueen to-day?’\\n\\n‘I should like it very much,’ said Alice, ‘but I haven’t been invited\\nyet.’\\n\\n‘You’ll see me there,’ said the Cat, and vanished.\\n\\nAlice was not much surprised at this, she was getting so used to queer\\nthings happening. While she was looking at the place where it had been,\\nit suddenly appeared again.\\n\\n‘By-the-bye, what became of the baby?’ said the Cat. ‘I’d nearly\\nforgotten to ask.’\\n\\n‘It turned into a pig,’ Alice quietly said, just as if it had come back\\nin a natural way.\\n\\n‘I thought it would,’ said the Cat, and vanished again.\\n\\nAlice waited a little, half expecting to see it again, but it did not\\nappear, and after a minute or two she walked on in the direction in\\nwhich the March Hare was said to live. ‘I’ve seen hatters before,’ she\\nsaid to herself; ‘the March Hare will be much the most interesting, and\\nperhaps as this is May it won’t be raving mad--at least not so mad as\\nit was in March.’ As she said this, she looked up, and there was the Cat\\nagain, sitting on a branch of a tree.\\n\\n‘Did you say pig, or fig?’ said the Cat.\\n\\n‘I said pig,’ replied Alice; ‘and I wish you wouldn’t keep appearing and\\nvanishing so suddenly: you make one quite giddy.’\\n\\n‘All right,’ said the Cat; and this time it vanished quite slowly,\\nbeginning with the end of the tail, and ending with the grin, which\\nremained some time after the rest of it had gone.\\n\\n‘Well! I’ve often seen a cat without a grin,’ thought Alice; ‘but a grin\\nwithout a cat! It’s the most curious thing I ever saw in my life!’\\n\\nShe had not gone much farther before she came in sight of the house\\nof the March Hare: she thought it must be the right house, because the\\nchimneys were shaped like ears and the roof was thatched with fur. It\\nwas so large a house, that she did not like to go nearer till she had\\nnibbled some more of the lefthand bit of mushroom, and raised herself to\\nabout two feet high: even then she walked up towards it rather timidly,\\nsaying to herself ‘Suppose it should be raving mad after all! I almost\\nwish I’d gone to see the Hatter instead!’\\n\\n\\n\\n\\nCHAPTER VII. A Mad Tea-Party\\n\\nThere was a table set out under a tree in front of the house, and the\\nMarch Hare and the Hatter were having tea at it: a Dormouse was sitting\\nbetween them, fast asleep, and the other two were using it as a\\ncushion, resting their elbows on it, and talking over its head. ‘Very\\nuncomfortable for the Dormouse,’ thought Alice; ‘only, as it’s asleep, I\\nsuppose it doesn’t mind.’\\n\\nThe table was a large one, but the three were all crowded together at\\none corner of it: ‘No room! No room!’ they cried out when they saw Alice\\ncoming. ‘There’s PLENTY of room!’ said Alice indignantly, and she sat\\ndown in a large arm-chair at one end of the table.\\n\\n‘Have some wine,’ the March Hare said in an encouraging tone.\\n\\nAlice looked all round the table, but there was nothing on it but tea.\\n‘I don’t see any wine,’ she remarked.\\n\\n‘There isn’t any,’ said the March Hare.\\n\\n‘Then it wasn’t very civil of you to offer it,’ said Alice angrily.\\n\\n‘It wasn’t very civil of you to sit down without being invited,’ said\\nthe March Hare.\\n\\n‘I didn’t know it was YOUR table,’ said Alice; ‘it’s laid for a great\\nmany more than three.’\\n\\n‘Your hair wants cutting,’ said the Hatter. He had been looking at Alice\\nfor some time with great curiosity, and this was his first speech.\\n\\n‘You should learn not to make personal remarks,’ Alice said with some\\nseverity; ‘it’s very rude.’\\n\\nThe Hatter opened his eyes very wide on hearing this; but all he SAID\\nwas, ‘Why is a raven like a writing-desk?’\\n\\n‘Come, we shall have some fun now!’ thought Alice. ‘I’m glad they’ve\\nbegun asking riddles.--I believe I can guess that,’ she added aloud.\\n\\n‘Do you mean that you think you can find out the answer to it?’ said the\\nMarch Hare.\\n\\n‘Exactly so,’ said Alice.\\n\\n‘Then you should say what you mean,’ the March Hare went on.\\n\\n‘I do,’ Alice hastily replied; ‘at least--at least I mean what I\\nsay--that’s the same thing, you know.’\\n\\n‘Not the same thing a bit!’ said the Hatter. ‘You might just as well say\\nthat “I see what I eat” is the same thing as “I eat what I see”!’\\n\\n‘You might just as well say,’ added the March Hare, ‘that “I like what I\\nget” is the same thing as “I get what I like”!’\\n\\n‘You might just as well say,’ added the Dormouse, who seemed to be\\ntalking in his sleep, ‘that “I breathe when I sleep” is the same thing\\nas “I sleep when I breathe”!’\\n\\n‘It IS the same thing with you,’ said the Hatter, and here the\\nconversation dropped, and the party sat silent for a minute, while Alice\\nthought over all she could remember about ravens and writing-desks,\\nwhich wasn’t much.\\n\\nThe Hatter was the first to break the silence. ‘What day of the month\\nis it?’ he said, turning to Alice: he had taken his watch out of his\\npocket, and was looking at it uneasily, shaking it every now and then,\\nand holding it to his ear.\\n\\nAlice considered a little, and then said ‘The fourth.’\\n\\n‘Two days wrong!’ sighed the Hatter. ‘I told you butter wouldn’t suit\\nthe works!’ he added looking angrily at the March Hare.\\n\\n‘It was the BEST butter,’ the March Hare meekly replied.\\n\\n‘Yes, but some crumbs must have got in as well,’ the Hatter grumbled:\\n‘you shouldn’t have put it in with the bread-knife.’\\n\\nThe March Hare took the watch and looked at it gloomily: then he dipped\\nit into his cup of tea, and looked at it again: but he could think of\\nnothing better to say than his first remark, ‘It was the BEST butter,\\nyou know.’\\n\\nAlice had been looking over his shoulder with some curiosity. ‘What a\\nfunny watch!’ she remarked. ‘It tells the day of the month, and doesn’t\\ntell what o’clock it is!’\\n\\n‘Why should it?’ muttered the Hatter. ‘Does YOUR watch tell you what\\nyear it is?’\\n\\n‘Of course not,’ Alice replied very readily: ‘but that’s because it\\nstays the same year for such a long time together.’\\n\\n‘Which is just the case with MINE,’ said the Hatter.\\n\\nAlice felt dreadfully puzzled. The Hatter’s remark seemed to have no\\nsort of meaning in it, and yet it was certainly English. ‘I don’t quite\\nunderstand you,’ she said, as politely as she could.\\n\\n‘The Dormouse is asleep again,’ said the Hatter, and he poured a little\\nhot tea upon its nose.\\n\\nThe Dormouse shook its head impatiently, and said, without opening its\\neyes, ‘Of course, of course; just what I was going to remark myself.’\\n\\n‘Have you guessed the riddle yet?’ the Hatter said, turning to Alice\\nagain.\\n\\n‘No, I give it up,’ Alice replied: ‘what’s the answer?’\\n\\n‘I haven’t the slightest idea,’ said the Hatter.\\n\\n‘Nor I,’ said the March Hare.\\n\\nAlice sighed wearily. ‘I think you might do something better with the\\ntime,’ she said, ‘than waste it in asking riddles that have no answers.’\\n\\n‘If you knew Time as well as I do,’ said the Hatter, ‘you wouldn’t talk\\nabout wasting IT. It’s HIM.’\\n\\n‘I don’t know what you mean,’ said Alice.\\n\\n‘Of course you don’t!’ the Hatter said, tossing his head contemptuously.\\n‘I dare say you never even spoke to Time!’\\n\\n‘Perhaps not,’ Alice cautiously replied: ‘but I know I have to beat time\\nwhen I learn music.’\\n\\n‘Ah! that accounts for it,’ said the Hatter. ‘He won’t stand beating.\\nNow, if you only kept on good terms with him, he’d do almost anything\\nyou liked with the clock. For instance, suppose it were nine o’clock in\\nthe morning, just time to begin lessons: you’d only have to whisper a\\nhint to Time, and round goes the clock in a twinkling! Half-past one,\\ntime for dinner!’\\n\\n[‘I only wish it was,’ the March Hare said to itself in a whisper.)\\n\\n‘That would be grand, certainly,’ said Alice thoughtfully: ‘but then--I\\nshouldn’t be hungry for it, you know.’\\n\\n‘Not at first, perhaps,’ said the Hatter: ‘but you could keep it to\\nhalf-past one as long as you liked.’\\n\\n‘Is that the way YOU manage?’ Alice asked.\\n\\nThe Hatter shook his head mournfully. ‘Not I!’ he replied. ‘We\\nquarrelled last March--just before HE went mad, you know--’ (pointing\\nwith his tea spoon at the March Hare,) ‘--it was at the great concert\\ngiven by the Queen of Hearts, and I had to sing\\n\\n     “Twinkle, twinkle, little bat!\\n     How I wonder what you’re at!”\\n\\nYou know the song, perhaps?’\\n\\n‘I’ve heard something like it,’ said Alice.\\n\\n‘It goes on, you know,’ the Hatter continued, ‘in this way:--\\n\\n     “Up above the world you fly,\\n     Like a tea-tray in the sky.\\n         Twinkle, twinkle--“’\\n\\nHere the Dormouse shook itself, and began singing in its sleep ‘Twinkle,\\ntwinkle, twinkle, twinkle--’ and went on so long that they had to pinch\\nit to make it stop.\\n\\n‘Well, I’d hardly finished the first verse,’ said the Hatter, ‘when the\\nQueen jumped up and bawled out, “He’s murdering the time! Off with his\\nhead!”’\\n\\n‘How dreadfully savage!’ exclaimed Alice.\\n\\n‘And ever since that,’ the Hatter went on in a mournful tone, ‘he won’t\\ndo a thing I ask! It’s always six o’clock now.’\\n\\nA bright idea came into Alice’s head. ‘Is that the reason so many\\ntea-things are put out here?’ she asked.\\n\\n‘Yes, that’s it,’ said the Hatter with a sigh: ‘it’s always tea-time,\\nand we’ve no time to wash the things between whiles.’\\n\\n‘Then you keep moving round, I suppose?’ said Alice.\\n\\n‘Exactly so,’ said the Hatter: ‘as the things get used up.’\\n\\n‘But what happens when you come to the beginning again?’ Alice ventured\\nto ask.\\n\\n‘Suppose we change the subject,’ the March Hare interrupted, yawning.\\n‘I’m getting tired of this. I vote the young lady tells us a story.’\\n\\n‘I’m afraid I don’t know one,’ said Alice, rather alarmed at the\\nproposal.\\n\\n‘Then the Dormouse shall!’ they both cried. ‘Wake up, Dormouse!’ And\\nthey pinched it on both sides at once.\\n\\nThe Dormouse slowly opened his eyes. ‘I wasn’t asleep,’ he said in a\\nhoarse, feeble voice: ‘I heard every word you fellows were saying.’\\n\\n‘Tell us a story!’ said the March Hare.\\n\\n‘Yes, please do!’ pleaded Alice.\\n\\n‘And be quick about it,’ added the Hatter, ‘or you’ll be asleep again\\nbefore it’s done.’\\n\\n‘Once upon a time there were three little sisters,’ the Dormouse began\\nin a great hurry; ‘and their names were Elsie, Lacie, and Tillie; and\\nthey lived at the bottom of a well--’\\n\\n‘What did they live on?’ said Alice, who always took a great interest in\\nquestions of eating and drinking.\\n\\n‘They lived on treacle,’ said the Dormouse, after thinking a minute or\\ntwo.\\n\\n‘They couldn’t have done that, you know,’ Alice gently remarked; ‘they’d\\nhave been ill.’\\n\\n‘So they were,’ said the Dormouse; ‘VERY ill.’\\n\\nAlice tried to fancy to herself what such an extraordinary ways of\\nliving would be like, but it puzzled her too much, so she went on: ‘But\\nwhy did they live at the bottom of a well?’\\n\\n‘Take some more tea,’ the March Hare said to Alice, very earnestly.\\n\\n‘I’ve had nothing yet,’ Alice replied in an offended tone, ‘so I can’t\\ntake more.’\\n\\n‘You mean you can’t take LESS,’ said the Hatter: ‘it’s very easy to take\\nMORE than nothing.’\\n\\n‘Nobody asked YOUR opinion,’ said Alice.\\n\\n‘Who’s making personal remarks now?’ the Hatter asked triumphantly.\\n\\nAlice did not quite know what to say to this: so she helped herself\\nto some tea and bread-and-butter, and then turned to the Dormouse, and\\nrepeated her question. ‘Why did they live at the bottom of a well?’\\n\\nThe Dormouse again took a minute or two to think about it, and then\\nsaid, ‘It was a treacle-well.’\\n\\n‘There’s no such thing!’ Alice was beginning very angrily, but the\\nHatter and the March Hare went ‘Sh! sh!’ and the Dormouse sulkily\\nremarked, ‘If you can’t be civil, you’d better finish the story for\\nyourself.’\\n\\n‘No, please go on!’ Alice said very humbly; ‘I won’t interrupt again. I\\ndare say there may be ONE.’\\n\\n‘One, indeed!’ said the Dormouse indignantly. However, he consented to\\ngo on. ‘And so these three little sisters--they were learning to draw,\\nyou know--’\\n\\n‘What did they draw?’ said Alice, quite forgetting her promise.\\n\\n‘Treacle,’ said the Dormouse, without considering at all this time.\\n\\n‘I want a clean cup,’ interrupted the Hatter: ‘let’s all move one place\\non.’\\n\\nHe moved on as he spoke, and the Dormouse followed him: the March Hare\\nmoved into the Dormouse’s place, and Alice rather unwillingly took\\nthe place of the March Hare. The Hatter was the only one who got any\\nadvantage from the change: and Alice was a good deal worse off than\\nbefore, as the March Hare had just upset the milk-jug into his plate.\\n\\nAlice did not wish to offend the Dormouse again, so she began very\\ncautiously: ‘But I don’t understand. Where did they draw the treacle\\nfrom?’\\n\\n‘You can draw water out of a water-well,’ said the Hatter; ‘so I should\\nthink you could draw treacle out of a treacle-well--eh, stupid?’\\n\\n‘But they were IN the well,’ Alice said to the Dormouse, not choosing to\\nnotice this last remark.\\n\\n‘Of course they were’, said the Dormouse; ‘--well in.’\\n\\nThis answer so confused poor Alice, that she let the Dormouse go on for\\nsome time without interrupting it.\\n\\n‘They were learning to draw,’ the Dormouse went on, yawning and rubbing\\nits eyes, for it was getting very sleepy; ‘and they drew all manner of\\nthings--everything that begins with an M--’\\n\\n‘Why with an M?’ said Alice.\\n\\n‘Why not?’ said the March Hare.\\n\\nAlice was silent.\\n\\nThe Dormouse had closed its eyes by this time, and was going off into\\na doze; but, on being pinched by the Hatter, it woke up again with\\na little shriek, and went on: ‘--that begins with an M, such as\\nmouse-traps, and the moon, and memory, and muchness--you know you say\\nthings are “much of a muchness”--did you ever see such a thing as a\\ndrawing of a muchness?’\\n\\n‘Really, now you ask me,’ said Alice, very much confused, ‘I don’t\\nthink--’\\n\\n‘Then you shouldn’t talk,’ said the Hatter.\\n\\nThis piece of rudeness was more than Alice could bear: she got up in\\ngreat disgust, and walked off; the Dormouse fell asleep instantly, and\\nneither of the others took the least notice of her going, though she\\nlooked back once or twice, half hoping that they would call after her:\\nthe last time she saw them, they were trying to put the Dormouse into\\nthe teapot.\\n\\n‘At any rate I’ll never go THERE again!’ said Alice as she picked her\\nway through the wood. ‘It’s the stupidest tea-party I ever was at in all\\nmy life!’\\n\\nJust as she said this, she noticed that one of the trees had a door\\nleading right into it. ‘That’s very curious!’ she thought. ‘But\\neverything’s curious today. I think I may as well go in at once.’ And in\\nshe went.\\n\\nOnce more she found herself in the long hall, and close to the little\\nglass table. ‘Now, I’ll manage better this time,’ she said to herself,\\nand began by taking the little golden key, and unlocking the door that\\nled into the garden. Then she went to work nibbling at the mushroom (she\\nhad kept a piece of it in her pocket) till she was about a foot high:\\nthen she walked down the little passage: and THEN--she found herself at\\nlast in the beautiful garden, among the bright flower-beds and the cool\\nfountains.\\n\\n\\n\\n\\nCHAPTER VIII. The Queen’s Croquet-Ground\\n\\nA large rose-tree stood near the entrance of the garden: the roses\\ngrowing on it were white, but there were three gardeners at it, busily\\npainting them red. Alice thought this a very curious thing, and she went\\nnearer to watch them, and just as she came up to them she heard one of\\nthem say, ‘Look out now, Five! Don’t go splashing paint over me like\\nthat!’\\n\\n‘I couldn’t help it,’ said Five, in a sulky tone; ‘Seven jogged my\\nelbow.’\\n\\nOn which Seven looked up and said, ‘That’s right, Five! Always lay the\\nblame on others!’\\n\\n‘YOU’D better not talk!’ said Five. ‘I heard the Queen say only\\nyesterday you deserved to be beheaded!’\\n\\n‘What for?’ said the one who had spoken first.\\n\\n‘That’s none of YOUR business, Two!’ said Seven.\\n\\n‘Yes, it IS his business!’ said Five, ‘and I’ll tell him--it was for\\nbringing the cook tulip-roots instead of onions.’\\n\\nSeven flung down his brush, and had just begun ‘Well, of all the unjust\\nthings--’ when his eye chanced to fall upon Alice, as she stood watching\\nthem, and he checked himself suddenly: the others looked round also, and\\nall of them bowed low.\\n\\n‘Would you tell me,’ said Alice, a little timidly, ‘why you are painting\\nthose roses?’\\n\\nFive and Seven said nothing, but looked at Two. Two began in a low\\nvoice, ‘Why the fact is, you see, Miss, this here ought to have been a\\nRED rose-tree, and we put a white one in by mistake; and if the Queen\\nwas to find it out, we should all have our heads cut off, you know.\\nSo you see, Miss, we’re doing our best, afore she comes, to--’ At this\\nmoment Five, who had been anxiously looking across the garden, called\\nout ‘The Queen! The Queen!’ and the three gardeners instantly threw\\nthemselves flat upon their faces. There was a sound of many footsteps,\\nand Alice looked round, eager to see the Queen.\\n\\nFirst came ten soldiers carrying clubs; these were all shaped like\\nthe three gardeners, oblong and flat, with their hands and feet at the\\ncorners: next the ten courtiers; these were ornamented all over with\\ndiamonds, and walked two and two, as the soldiers did. After these came\\nthe royal children; there were ten of them, and the little dears came\\njumping merrily along hand in hand, in couples: they were all ornamented\\nwith hearts. Next came the guests, mostly Kings and Queens, and among\\nthem Alice recognised the White Rabbit: it was talking in a hurried\\nnervous manner, smiling at everything that was said, and went by without\\nnoticing her. Then followed the Knave of Hearts, carrying the King’s\\ncrown on a crimson velvet cushion; and, last of all this grand\\nprocession, came THE KING AND QUEEN OF HEARTS.\\n\\nAlice was rather doubtful whether she ought not to lie down on her face\\nlike the three gardeners, but she could not remember ever having heard\\nof such a rule at processions; ‘and besides, what would be the use of\\na procession,’ thought she, ‘if people had all to lie down upon their\\nfaces, so that they couldn’t see it?’ So she stood still where she was,\\nand waited.\\n\\nWhen the procession came opposite to Alice, they all stopped and looked\\nat her, and the Queen said severely ‘Who is this?’ She said it to the\\nKnave of Hearts, who only bowed and smiled in reply.\\n\\n‘Idiot!’ said the Queen, tossing her head impatiently; and, turning to\\nAlice, she went on, ‘What’s your name, child?’\\n\\n‘My name is Alice, so please your Majesty,’ said Alice very politely;\\nbut she added, to herself, ‘Why, they’re only a pack of cards, after\\nall. I needn’t be afraid of them!’\\n\\n‘And who are THESE?’ said the Queen, pointing to the three gardeners who\\nwere lying round the rosetree; for, you see, as they were lying on their\\nfaces, and the pattern on their backs was the same as the rest of the\\npack, she could not tell whether they were gardeners, or soldiers, or\\ncourtiers, or three of her own children.\\n\\n‘How should I know?’ said Alice, surprised at her own courage. ‘It’s no\\nbusiness of MINE.’\\n\\nThe Queen turned crimson with fury, and, after glaring at her for a\\nmoment like a wild beast, screamed ‘Off with her head! Off--’\\n\\n‘Nonsense!’ said Alice, very loudly and decidedly, and the Queen was\\nsilent.\\n\\nThe King laid his hand upon her arm, and timidly said ‘Consider, my\\ndear: she is only a child!’\\n\\nThe Queen turned angrily away from him, and said to the Knave ‘Turn them\\nover!’\\n\\nThe Knave did so, very carefully, with one foot.\\n\\n‘Get up!’ said the Queen, in a shrill, loud voice, and the three\\ngardeners instantly jumped up, and began bowing to the King, the Queen,\\nthe royal children, and everybody else.\\n\\n‘Leave off that!’ screamed the Queen. ‘You make me giddy.’ And then,\\nturning to the rose-tree, she went on, ‘What HAVE you been doing here?’\\n\\n‘May it please your Majesty,’ said Two, in a very humble tone, going\\ndown on one knee as he spoke, ‘we were trying--’\\n\\n‘I see!’ said the Queen, who had meanwhile been examining the roses.\\n‘Off with their heads!’ and the procession moved on, three of the\\nsoldiers remaining behind to execute the unfortunate gardeners, who ran\\nto Alice for protection.\\n\\n‘You shan’t be beheaded!’ said Alice, and she put them into a large\\nflower-pot that stood near. The three soldiers wandered about for a\\nminute or two, looking for them, and then quietly marched off after the\\nothers.\\n\\n‘Are their heads off?’ shouted the Queen.\\n\\n‘Their heads are gone, if it please your Majesty!’ the soldiers shouted\\nin reply.\\n\\n‘That’s right!’ shouted the Queen. ‘Can you play croquet?’\\n\\nThe soldiers were silent, and looked at Alice, as the question was\\nevidently meant for her.\\n\\n‘Yes!’ shouted Alice.\\n\\n‘Come on, then!’ roared the Queen, and Alice joined the procession,\\nwondering very much what would happen next.\\n\\n‘It’s--it’s a very fine day!’ said a timid voice at her side. She was\\nwalking by the White Rabbit, who was peeping anxiously into her face.\\n\\n‘Very,’ said Alice: ‘--where’s the Duchess?’\\n\\n‘Hush! Hush!’ said the Rabbit in a low, hurried tone. He looked\\nanxiously over his shoulder as he spoke, and then raised himself upon\\ntiptoe, put his mouth close to her ear, and whispered ‘She’s under\\nsentence of execution.’\\n\\n‘What for?’ said Alice.\\n\\n‘Did you say “What a pity!”?’ the Rabbit asked.\\n\\n‘No, I didn’t,’ said Alice: ‘I don’t think it’s at all a pity. I said\\n“What for?”’\\n\\n‘She boxed the Queen’s ears--’ the Rabbit began. Alice gave a little\\nscream of laughter. ‘Oh, hush!’ the Rabbit whispered in a frightened\\ntone. ‘The Queen will hear you! You see, she came rather late, and the\\nQueen said--’\\n\\n‘Get to your places!’ shouted the Queen in a voice of thunder, and\\npeople began running about in all directions, tumbling up against each\\nother; however, they got settled down in a minute or two, and the game\\nbegan. Alice thought she had never seen such a curious croquet-ground in\\nher life; it was all ridges and furrows; the balls were live hedgehogs,\\nthe mallets live flamingoes, and the soldiers had to double themselves\\nup and to stand on their hands and feet, to make the arches.\\n\\nThe chief difficulty Alice found at first was in managing her flamingo:\\nshe succeeded in getting its body tucked away, comfortably enough, under\\nher arm, with its legs hanging down, but generally, just as she had got\\nits neck nicely straightened out, and was going to give the hedgehog a\\nblow with its head, it WOULD twist itself round and look up in her face,\\nwith such a puzzled expression that she could not help bursting out\\nlaughing: and when she had got its head down, and was going to begin\\nagain, it was very provoking to find that the hedgehog had unrolled\\nitself, and was in the act of crawling away: besides all this, there was\\ngenerally a ridge or furrow in the way wherever she wanted to send the\\nhedgehog to, and, as the doubled-up soldiers were always getting up\\nand walking off to other parts of the ground, Alice soon came to the\\nconclusion that it was a very difficult game indeed.\\n\\nThe players all played at once without waiting for turns, quarrelling\\nall the while, and fighting for the hedgehogs; and in a very short\\ntime the Queen was in a furious passion, and went stamping about, and\\nshouting ‘Off with his head!’ or ‘Off with her head!’ about once in a\\nminute.\\n\\nAlice began to feel very uneasy: to be sure, she had not as yet had any\\ndispute with the Queen, but she knew that it might happen any minute,\\n‘and then,’ thought she, ‘what would become of me? They’re dreadfully\\nfond of beheading people here; the great wonder is, that there’s any one\\nleft alive!’\\n\\nShe was looking about for some way of escape, and wondering whether she\\ncould get away without being seen, when she noticed a curious appearance\\nin the air: it puzzled her very much at first, but, after watching it\\na minute or two, she made it out to be a grin, and she said to herself\\n‘It’s the Cheshire Cat: now I shall have somebody to talk to.’\\n\\n‘How are you getting on?’ said the Cat, as soon as there was mouth\\nenough for it to speak with.\\n\\nAlice waited till the eyes appeared, and then nodded. ‘It’s no use\\nspeaking to it,’ she thought, ‘till its ears have come, or at least one\\nof them.’ In another minute the whole head appeared, and then Alice put\\ndown her flamingo, and began an account of the game, feeling very glad\\nshe had someone to listen to her. The Cat seemed to think that there was\\nenough of it now in sight, and no more of it appeared.\\n\\n‘I don’t think they play at all fairly,’ Alice began, in rather a\\ncomplaining tone, ‘and they all quarrel so dreadfully one can’t hear\\noneself speak--and they don’t seem to have any rules in particular;\\nat least, if there are, nobody attends to them--and you’ve no idea how\\nconfusing it is all the things being alive; for instance, there’s the\\narch I’ve got to go through next walking about at the other end of the\\nground--and I should have croqueted the Queen’s hedgehog just now, only\\nit ran away when it saw mine coming!’\\n\\n‘How do you like the Queen?’ said the Cat in a low voice.\\n\\n‘Not at all,’ said Alice: ‘she’s so extremely--’ Just then she noticed\\nthat the Queen was close behind her, listening: so she went on,\\n‘--likely to win, that it’s hardly worth while finishing the game.’\\n\\nThe Queen smiled and passed on.\\n\\n‘Who ARE you talking to?’ said the King, going up to Alice, and looking\\nat the Cat’s head with great curiosity.\\n\\n‘It’s a friend of mine--a Cheshire Cat,’ said Alice: ‘allow me to\\nintroduce it.’\\n\\n‘I don’t like the look of it at all,’ said the King: ‘however, it may\\nkiss my hand if it likes.’\\n\\n‘I’d rather not,’ the Cat remarked.\\n\\n‘Don’t be impertinent,’ said the King, ‘and don’t look at me like that!’\\nHe got behind Alice as he spoke.\\n\\n‘A cat may look at a king,’ said Alice. ‘I’ve read that in some book,\\nbut I don’t remember where.’\\n\\n‘Well, it must be removed,’ said the King very decidedly, and he called\\nthe Queen, who was passing at the moment, ‘My dear! I wish you would\\nhave this cat removed!’\\n\\nThe Queen had only one way of settling all difficulties, great or small.\\n‘Off with his head!’ she said, without even looking round.\\n\\n‘I’ll fetch the executioner myself,’ said the King eagerly, and he\\nhurried off.\\n\\nAlice thought she might as well go back, and see how the game was going\\non, as she heard the Queen’s voice in the distance, screaming with\\npassion. She had already heard her sentence three of the players to be\\nexecuted for having missed their turns, and she did not like the look\\nof things at all, as the game was in such confusion that she never knew\\nwhether it was her turn or not. So she went in search of her hedgehog.\\n\\nThe hedgehog was engaged in a fight with another hedgehog, which seemed\\nto Alice an excellent opportunity for croqueting one of them with the\\nother: the only difficulty was, that her flamingo was gone across to the\\nother side of the garden, where Alice could see it trying in a helpless\\nsort of way to fly up into a tree.\\n\\nBy the time she had caught the flamingo and brought it back, the fight\\nwas over, and both the hedgehogs were out of sight: ‘but it doesn’t\\nmatter much,’ thought Alice, ‘as all the arches are gone from this side\\nof the ground.’ So she tucked it away under her arm, that it might not\\nescape again, and went back for a little more conversation with her\\nfriend.\\n\\nWhen she got back to the Cheshire Cat, she was surprised to find quite a\\nlarge crowd collected round it: there was a dispute going on between\\nthe executioner, the King, and the Queen, who were all talking at once,\\nwhile all the rest were quite silent, and looked very uncomfortable.\\n\\nThe moment Alice appeared, she was appealed to by all three to settle\\nthe question, and they repeated their arguments to her, though, as they\\nall spoke at once, she found it very hard indeed to make out exactly\\nwhat they said.\\n\\nThe executioner’s argument was, that you couldn’t cut off a head unless\\nthere was a body to cut it off from: that he had never had to do such a\\nthing before, and he wasn’t going to begin at HIS time of life.\\n\\nThe King’s argument was, that anything that had a head could be\\nbeheaded, and that you weren’t to talk nonsense.\\n\\nThe Queen’s argument was, that if something wasn’t done about it in less\\nthan no time she’d have everybody executed, all round. (It was this last\\nremark that had made the whole party look so grave and anxious.)\\n\\nAlice could think of nothing else to say but ‘It belongs to the Duchess:\\nyou’d better ask HER about it.’\\n\\n‘She’s in prison,’ the Queen said to the executioner: ‘fetch her here.’\\nAnd the executioner went off like an arrow.\\n\\n The Cat’s head began fading away the moment he was gone, and,\\nby the time he had come back with the Duchess, it had entirely\\ndisappeared; so the King and the executioner ran wildly up and down\\nlooking for it, while the rest of the party went back to the game.\\n\\n\\n\\n\\nCHAPTER IX. The Mock Turtle’s Story\\n\\n‘You can’t think how glad I am to see you again, you dear old thing!’\\nsaid the Duchess, as she tucked her arm affectionately into Alice’s, and\\nthey walked off together.\\n\\nAlice was very glad to find her in such a pleasant temper, and thought\\nto herself that perhaps it was only the pepper that had made her so\\nsavage when they met in the kitchen.\\n\\n‘When I’M a Duchess,’ she said to herself, (not in a very hopeful tone\\nthough), ‘I won’t have any pepper in my kitchen AT ALL. Soup does very\\nwell without--Maybe it’s always pepper that makes people hot-tempered,’\\nshe went on, very much pleased at having found out a new kind of\\nrule, ‘and vinegar that makes them sour--and camomile that makes\\nthem bitter--and--and barley-sugar and such things that make children\\nsweet-tempered. I only wish people knew that: then they wouldn’t be so\\nstingy about it, you know--’\\n\\nShe had quite forgotten the Duchess by this time, and was a little\\nstartled when she heard her voice close to her ear. ‘You’re thinking\\nabout something, my dear, and that makes you forget to talk. I can’t\\ntell you just now what the moral of that is, but I shall remember it in\\na bit.’\\n\\n‘Perhaps it hasn’t one,’ Alice ventured to remark.\\n\\n‘Tut, tut, child!’ said the Duchess. ‘Everything’s got a moral, if only\\nyou can find it.’ And she squeezed herself up closer to Alice’s side as\\nshe spoke.\\n\\nAlice did not much like keeping so close to her: first, because the\\nDuchess was VERY ugly; and secondly, because she was exactly the\\nright height to rest her chin upon Alice’s shoulder, and it was an\\nuncomfortably sharp chin. However, she did not like to be rude, so she\\nbore it as well as she could.\\n\\n‘The game’s going on rather better now,’ she said, by way of keeping up\\nthe conversation a little.\\n\\n‘’Tis so,’ said the Duchess: ‘and the moral of that is--“Oh, ‘tis love,\\n‘tis love, that makes the world go round!”’\\n\\n‘Somebody said,’ Alice whispered, ‘that it’s done by everybody minding\\ntheir own business!’\\n\\n‘Ah, well! It means much the same thing,’ said the Duchess, digging her\\nsharp little chin into Alice’s shoulder as she added, ‘and the moral\\nof THAT is--“Take care of the sense, and the sounds will take care of\\nthemselves.”’\\n\\n‘How fond she is of finding morals in things!’ Alice thought to herself.\\n\\n‘I dare say you’re wondering why I don’t put my arm round your waist,’\\nthe Duchess said after a pause: ‘the reason is, that I’m doubtful about\\nthe temper of your flamingo. Shall I try the experiment?’\\n\\n‘HE might bite,’ Alice cautiously replied, not feeling at all anxious to\\nhave the experiment tried.\\n\\n‘Very true,’ said the Duchess: ‘flamingoes and mustard both bite. And\\nthe moral of that is--“Birds of a feather flock together.”’\\n\\n‘Only mustard isn’t a bird,’ Alice remarked.\\n\\n‘Right, as usual,’ said the Duchess: ‘what a clear way you have of\\nputting things!’\\n\\n‘It’s a mineral, I THINK,’ said Alice.\\n\\n‘Of course it is,’ said the Duchess, who seemed ready to agree to\\neverything that Alice said; ‘there’s a large mustard-mine near here. And\\nthe moral of that is--“The more there is of mine, the less there is of\\nyours.”’\\n\\n‘Oh, I know!’ exclaimed Alice, who had not attended to this last remark,\\n‘it’s a vegetable. It doesn’t look like one, but it is.’\\n\\n‘I quite agree with you,’ said the Duchess; ‘and the moral of that\\nis--“Be what you would seem to be”--or if you’d like it put more\\nsimply--“Never imagine yourself not to be otherwise than what it might\\nappear to others that what you were or might have been was not otherwise\\nthan what you had been would have appeared to them to be otherwise.”’\\n\\n‘I think I should understand that better,’ Alice said very politely, ‘if\\nI had it written down: but I can’t quite follow it as you say it.’\\n\\n‘That’s nothing to what I could say if I chose,’ the Duchess replied, in\\na pleased tone.\\n\\n‘Pray don’t trouble yourself to say it any longer than that,’ said\\nAlice.\\n\\n‘Oh, don’t talk about trouble!’ said the Duchess. ‘I make you a present\\nof everything I’ve said as yet.’\\n\\n‘A cheap sort of present!’ thought Alice. ‘I’m glad they don’t give\\nbirthday presents like that!’ But she did not venture to say it out\\nloud.\\n\\n‘Thinking again?’ the Duchess asked, with another dig of her sharp\\nlittle chin.\\n\\n‘I’ve a right to think,’ said Alice sharply, for she was beginning to\\nfeel a little worried.\\n\\n‘Just about as much right,’ said the Duchess, ‘as pigs have to fly; and\\nthe m--’\\n\\nBut here, to Alice’s great surprise, the Duchess’s voice died away, even\\nin the middle of her favourite word ‘moral,’ and the arm that was linked\\ninto hers began to tremble. Alice looked up, and there stood the Queen\\nin front of them, with her arms folded, frowning like a thunderstorm.\\n\\n‘A fine day, your Majesty!’ the Duchess began in a low, weak voice.\\n\\n‘Now, I give you fair warning,’ shouted the Queen, stamping on the\\nground as she spoke; ‘either you or your head must be off, and that in\\nabout half no time! Take your choice!’\\n\\nThe Duchess took her choice, and was gone in a moment.\\n\\n‘Let’s go on with the game,’ the Queen said to Alice; and Alice was\\ntoo much frightened to say a word, but slowly followed her back to the\\ncroquet-ground.\\n\\nThe other guests had taken advantage of the Queen’s absence, and were\\nresting in the shade: however, the moment they saw her, they hurried\\nback to the game, the Queen merely remarking that a moment’s delay would\\ncost them their lives.\\n\\nAll the time they were playing the Queen never left off quarrelling with\\nthe other players, and shouting ‘Off with his head!’ or ‘Off with her\\nhead!’ Those whom she sentenced were taken into custody by the soldiers,\\nwho of course had to leave off being arches to do this, so that by\\nthe end of half an hour or so there were no arches left, and all the\\nplayers, except the King, the Queen, and Alice, were in custody and\\nunder sentence of execution.\\n\\nThen the Queen left off, quite out of breath, and said to Alice, ‘Have\\nyou seen the Mock Turtle yet?’\\n\\n‘No,’ said Alice. ‘I don’t even know what a Mock Turtle is.’\\n\\n‘It’s the thing Mock Turtle Soup is made from,’ said the Queen.\\n\\n‘I never saw one, or heard of one,’ said Alice.\\n\\n‘Come on, then,’ said the Queen, ‘and he shall tell you his history,’\\n\\nAs they walked off together, Alice heard the King say in a low voice,\\nto the company generally, ‘You are all pardoned.’ ‘Come, THAT’S a good\\nthing!’ she said to herself, for she had felt quite unhappy at the\\nnumber of executions the Queen had ordered.\\n\\nThey very soon came upon a Gryphon, lying fast asleep in the sun.\\n(IF you don’t know what a Gryphon is, look at the picture.) ‘Up, lazy\\nthing!’ said the Queen, ‘and take this young lady to see the Mock\\nTurtle, and to hear his history. I must go back and see after some\\nexecutions I have ordered’; and she walked off, leaving Alice alone with\\nthe Gryphon. Alice did not quite like the look of the creature, but on\\nthe whole she thought it would be quite as safe to stay with it as to go\\nafter that savage Queen: so she waited.\\n\\nThe Gryphon sat up and rubbed its eyes: then it watched the Queen till\\nshe was out of sight: then it chuckled. ‘What fun!’ said the Gryphon,\\nhalf to itself, half to Alice.\\n\\n‘What IS the fun?’ said Alice.\\n\\n‘Why, SHE,’ said the Gryphon. ‘It’s all her fancy, that: they never\\nexecutes nobody, you know. Come on!’\\n\\n‘Everybody says “come on!” here,’ thought Alice, as she went slowly\\nafter it: ‘I never was so ordered about in all my life, never!’\\n\\nThey had not gone far before they saw the Mock Turtle in the distance,\\nsitting sad and lonely on a little ledge of rock, and, as they came\\nnearer, Alice could hear him sighing as if his heart would break. She\\npitied him deeply. ‘What is his sorrow?’ she asked the Gryphon, and the\\nGryphon answered, very nearly in the same words as before, ‘It’s all his\\nfancy, that: he hasn’t got no sorrow, you know. Come on!’\\n\\nSo they went up to the Mock Turtle, who looked at them with large eyes\\nfull of tears, but said nothing.\\n\\n‘This here young lady,’ said the Gryphon, ‘she wants for to know your\\nhistory, she do.’\\n\\n‘I’ll tell it her,’ said the Mock Turtle in a deep, hollow tone: ‘sit\\ndown, both of you, and don’t speak a word till I’ve finished.’\\n\\nSo they sat down, and nobody spoke for some minutes. Alice thought to\\nherself, ‘I don’t see how he can EVEN finish, if he doesn’t begin.’ But\\nshe waited patiently.\\n\\n‘Once,’ said the Mock Turtle at last, with a deep sigh, ‘I was a real\\nTurtle.’\\n\\nThese words were followed by a very long silence, broken only by an\\noccasional exclamation of ‘Hjckrrh!’ from the Gryphon, and the constant\\nheavy sobbing of the Mock Turtle. Alice was very nearly getting up and\\nsaying, ‘Thank you, sir, for your interesting story,’ but she could\\nnot help thinking there MUST be more to come, so she sat still and said\\nnothing.\\n\\n‘When we were little,’ the Mock Turtle went on at last, more calmly,\\nthough still sobbing a little now and then, ‘we went to school in the\\nsea. The master was an old Turtle--we used to call him Tortoise--’\\n\\n‘Why did you call him Tortoise, if he wasn’t one?’ Alice asked.\\n\\n‘We called him Tortoise because he taught us,’ said the Mock Turtle\\nangrily: ‘really you are very dull!’\\n\\n‘You ought to be ashamed of yourself for asking such a simple question,’\\nadded the Gryphon; and then they both sat silent and looked at poor\\nAlice, who felt ready to sink into the earth. At last the Gryphon said\\nto the Mock Turtle, ‘Drive on, old fellow! Don’t be all day about it!’\\nand he went on in these words:\\n\\n‘Yes, we went to school in the sea, though you mayn’t believe it--’\\n\\n‘I never said I didn’t!’ interrupted Alice.\\n\\n‘You did,’ said the Mock Turtle.\\n\\n‘Hold your tongue!’ added the Gryphon, before Alice could speak again.\\nThe Mock Turtle went on.\\n\\n‘We had the best of educations--in fact, we went to school every day--’\\n\\n‘I’VE been to a day-school, too,’ said Alice; ‘you needn’t be so proud\\nas all that.’\\n\\n‘With extras?’ asked the Mock Turtle a little anxiously.\\n\\n‘Yes,’ said Alice, ‘we learned French and music.’\\n\\n‘And washing?’ said the Mock Turtle.\\n\\n‘Certainly not!’ said Alice indignantly.\\n\\n‘Ah! then yours wasn’t a really good school,’ said the Mock Turtle in\\na tone of great relief. ‘Now at OURS they had at the end of the bill,\\n“French, music, AND WASHING--extra.”’\\n\\n‘You couldn’t have wanted it much,’ said Alice; ‘living at the bottom of\\nthe sea.’\\n\\n‘I couldn’t afford to learn it.’ said the Mock Turtle with a sigh. ‘I\\nonly took the regular course.’\\n\\n‘What was that?’ inquired Alice.\\n\\n‘Reeling and Writhing, of course, to begin with,’ the Mock Turtle\\nreplied; ‘and then the different branches of Arithmetic--Ambition,\\nDistraction, Uglification, and Derision.’\\n\\n‘I never heard of “Uglification,”’ Alice ventured to say. ‘What is it?’\\n\\nThe Gryphon lifted up both its paws in surprise. ‘What! Never heard of\\nuglifying!’ it exclaimed. ‘You know what to beautify is, I suppose?’\\n\\n‘Yes,’ said Alice doubtfully: ‘it means--to--make--anything--prettier.’\\n\\n‘Well, then,’ the Gryphon went on, ‘if you don’t know what to uglify is,\\nyou ARE a simpleton.’\\n\\nAlice did not feel encouraged to ask any more questions about it, so she\\nturned to the Mock Turtle, and said ‘What else had you to learn?’\\n\\n‘Well, there was Mystery,’ the Mock Turtle replied, counting off\\nthe subjects on his flappers, ‘--Mystery, ancient and modern, with\\nSeaography: then Drawling--the Drawling-master was an old conger-eel,\\nthat used to come once a week: HE taught us Drawling, Stretching, and\\nFainting in Coils.’\\n\\n‘What was THAT like?’ said Alice.\\n\\n‘Well, I can’t show it you myself,’ the Mock Turtle said: ‘I’m too\\nstiff. And the Gryphon never learnt it.’\\n\\n‘Hadn’t time,’ said the Gryphon: ‘I went to the Classics master, though.\\nHe was an old crab, HE was.’\\n\\n‘I never went to him,’ the Mock Turtle said with a sigh: ‘he taught\\nLaughing and Grief, they used to say.’\\n\\n‘So he did, so he did,’ said the Gryphon, sighing in his turn; and both\\ncreatures hid their faces in their paws.\\n\\n‘And how many hours a day did you do lessons?’ said Alice, in a hurry to\\nchange the subject.\\n\\n‘Ten hours the first day,’ said the Mock Turtle: ‘nine the next, and so\\non.’\\n\\n‘What a curious plan!’ exclaimed Alice.\\n\\n‘That’s the reason they’re called lessons,’ the Gryphon remarked:\\n‘because they lessen from day to day.’\\n\\nThis was quite a new idea to Alice, and she thought it over a little\\nbefore she made her next remark. ‘Then the eleventh day must have been a\\nholiday?’\\n\\n‘Of course it was,’ said the Mock Turtle.\\n\\n‘And how did you manage on the twelfth?’ Alice went on eagerly.\\n\\n‘That’s enough about lessons,’ the Gryphon interrupted in a very decided\\ntone: ‘tell her something about the games now.’\\n\\n\\n\\n\\nCHAPTER X. The Lobster Quadrille\\n\\nThe Mock Turtle sighed deeply, and drew the back of one flapper across\\nhis eyes. He looked at Alice, and tried to speak, but for a minute or\\ntwo sobs choked his voice. ‘Same as if he had a bone in his throat,’\\nsaid the Gryphon: and it set to work shaking him and punching him in\\nthe back. At last the Mock Turtle recovered his voice, and, with tears\\nrunning down his cheeks, he went on again:--\\n\\n‘You may not have lived much under the sea--’ [‘I haven’t,’ said\\nAlice)--‘and perhaps you were never even introduced to a lobster--’\\n(Alice began to say ‘I once tasted--’ but checked herself hastily, and\\nsaid ‘No, never’) ‘--so you can have no idea what a delightful thing a\\nLobster Quadrille is!’\\n\\n‘No, indeed,’ said Alice. ‘What sort of a dance is it?’\\n\\n‘Why,’ said the Gryphon, ‘you first form into a line along the\\nsea-shore--’\\n\\n‘Two lines!’ cried the Mock Turtle. ‘Seals, turtles, salmon, and so on;\\nthen, when you’ve cleared all the jelly-fish out of the way--’\\n\\n‘THAT generally takes some time,’ interrupted the Gryphon.\\n\\n‘--you advance twice--’\\n\\n‘Each with a lobster as a partner!’ cried the Gryphon.\\n\\n‘Of course,’ the Mock Turtle said: ‘advance twice, set to partners--’\\n\\n‘--change lobsters, and retire in same order,’ continued the Gryphon.\\n\\n‘Then, you know,’ the Mock Turtle went on, ‘you throw the--’\\n\\n‘The lobsters!’ shouted the Gryphon, with a bound into the air.\\n\\n‘--as far out to sea as you can--’\\n\\n‘Swim after them!’ screamed the Gryphon.\\n\\n‘Turn a somersault in the sea!’ cried the Mock Turtle, capering wildly\\nabout.\\n\\n‘Change lobsters again!’ yelled the Gryphon at the top of its voice.\\n\\n‘Back to land again, and that’s all the first figure,’ said the Mock\\nTurtle, suddenly dropping his voice; and the two creatures, who had been\\njumping about like mad things all this time, sat down again very sadly\\nand quietly, and looked at Alice.\\n\\n‘It must be a very pretty dance,’ said Alice timidly.\\n\\n‘Would you like to see a little of it?’ said the Mock Turtle.\\n\\n‘Very much indeed,’ said Alice.\\n\\n‘Come, let’s try the first figure!’ said the Mock Turtle to the Gryphon.\\n‘We can do without lobsters, you know. Which shall sing?’\\n\\n‘Oh, YOU sing,’ said the Gryphon. ‘I’ve forgotten the words.’\\n\\nSo they began solemnly dancing round and round Alice, every now and\\nthen treading on her toes when they passed too close, and waving their\\nforepaws to mark the time, while the Mock Turtle sang this, very slowly\\nand sadly:--\\n\\n ‘“Will you walk a little faster?” said a whiting to a snail.\\n “There’s a porpoise close behind us, and he’s treading on my tail.\\n\\n See how eagerly the lobsters and the turtles all advance!\\n They are waiting on the shingle--will you come and join the dance?\\n\\n Will you, won’t you, will you, won’t you, will you join the dance?\\n Will you, won’t you, will you, won’t you, won’t you join the dance?\\n\\n “You can really have no notion how delightful it will be\\n When they take us up and throw us, with the lobsters, out to sea!”\\n  But the snail replied “Too far, too far!” and gave a look askance--\\n Said he thanked the whiting kindly, but he would not join the dance.\\n\\n Would not, could not, would not, could not, would not join the dance.\\n Would not, could not, would not, could not, could not join the dance.\\n\\n ‘“What matters it how far we go?” his scaly friend replied.\\n “There is another shore, you know, upon the other side.\\n The further off from England the nearer is to France--\\n Then turn not pale, beloved snail, but come and join the dance.\\n\\n Will you, won’t you, will you, won’t you, will you join the dance?\\n Will you, won’t you, will you, won’t you, won’t you join the dance?”’\\n\\n‘Thank you, it’s a very interesting dance to watch,’ said Alice, feeling\\nvery glad that it was over at last: ‘and I do so like that curious song\\nabout the whiting!’\\n\\n‘Oh, as to the whiting,’ said the Mock Turtle, ‘they--you’ve seen them,\\nof course?’\\n\\n‘Yes,’ said Alice, ‘I’ve often seen them at dinn--’ she checked herself\\nhastily.\\n\\n‘I don’t know where Dinn may be,’ said the Mock Turtle, ‘but if you’ve\\nseen them so often, of course you know what they’re like.’\\n\\n‘I believe so,’ Alice replied thoughtfully. ‘They have their tails in\\ntheir mouths--and they’re all over crumbs.’\\n\\n‘You’re wrong about the crumbs,’ said the Mock Turtle: ‘crumbs would all\\nwash off in the sea. But they HAVE their tails in their mouths; and the\\nreason is--’ here the Mock Turtle yawned and shut his eyes.--‘Tell her\\nabout the reason and all that,’ he said to the Gryphon.\\n\\n‘The reason is,’ said the Gryphon, ‘that they WOULD go with the lobsters\\nto the dance. So they got thrown out to sea. So they had to fall a long\\nway. So they got their tails fast in their mouths. So they couldn’t get\\nthem out again. That’s all.’\\n\\n‘Thank you,’ said Alice, ‘it’s very interesting. I never knew so much\\nabout a whiting before.’\\n\\n‘I can tell you more than that, if you like,’ said the Gryphon. ‘Do you\\nknow why it’s called a whiting?’\\n\\n‘I never thought about it,’ said Alice. ‘Why?’\\n\\n‘IT DOES THE BOOTS AND SHOES.’ the Gryphon replied very solemnly.\\n\\nAlice was thoroughly puzzled. ‘Does the boots and shoes!’ she repeated\\nin a wondering tone.\\n\\n‘Why, what are YOUR shoes done with?’ said the Gryphon. ‘I mean, what\\nmakes them so shiny?’\\n\\nAlice looked down at them, and considered a little before she gave her\\nanswer. ‘They’re done with blacking, I believe.’\\n\\n‘Boots and shoes under the sea,’ the Gryphon went on in a deep voice,\\n‘are done with a whiting. Now you know.’\\n\\n‘And what are they made of?’ Alice asked in a tone of great curiosity.\\n\\n‘Soles and eels, of course,’ the Gryphon replied rather impatiently:\\n‘any shrimp could have told you that.’\\n\\n‘If I’d been the whiting,’ said Alice, whose thoughts were still running\\non the song, ‘I’d have said to the porpoise, “Keep back, please: we\\ndon’t want YOU with us!”’\\n\\n‘They were obliged to have him with them,’ the Mock Turtle said: ‘no\\nwise fish would go anywhere without a porpoise.’\\n\\n‘Wouldn’t it really?’ said Alice in a tone of great surprise.\\n\\n‘Of course not,’ said the Mock Turtle: ‘why, if a fish came to ME, and\\ntold me he was going a journey, I should say “With what porpoise?”’\\n\\n‘Don’t you mean “purpose”?’ said Alice.\\n\\n‘I mean what I say,’ the Mock Turtle replied in an offended tone. And\\nthe Gryphon added ‘Come, let’s hear some of YOUR adventures.’\\n\\n‘I could tell you my adventures--beginning from this morning,’ said\\nAlice a little timidly: ‘but it’s no use going back to yesterday,\\nbecause I was a different person then.’\\n\\n‘Explain all that,’ said the Mock Turtle.\\n\\n‘No, no! The adventures first,’ said the Gryphon in an impatient tone:\\n‘explanations take such a dreadful time.’\\n\\nSo Alice began telling them her adventures from the time when she first\\nsaw the White Rabbit. She was a little nervous about it just at first,\\nthe two creatures got so close to her, one on each side, and opened\\ntheir eyes and mouths so VERY wide, but she gained courage as she went\\non. Her listeners were perfectly quiet till she got to the part about\\nher repeating ‘YOU ARE OLD, FATHER WILLIAM,’ to the Caterpillar, and the\\nwords all coming different, and then the Mock Turtle drew a long breath,\\nand said ‘That’s very curious.’\\n\\n‘It’s all about as curious as it can be,’ said the Gryphon.\\n\\n‘It all came different!’ the Mock Turtle repeated thoughtfully. ‘I\\nshould like to hear her try and repeat something now. Tell her to\\nbegin.’ He looked at the Gryphon as if he thought it had some kind of\\nauthority over Alice.\\n\\n‘Stand up and repeat “‘TIS THE VOICE OF THE SLUGGARD,”’ said the\\nGryphon.\\n\\n‘How the creatures order one about, and make one repeat lessons!’\\nthought Alice; ‘I might as well be at school at once.’ However, she\\ngot up, and began to repeat it, but her head was so full of the Lobster\\nQuadrille, that she hardly knew what she was saying, and the words came\\nvery queer indeed:--\\n\\n  ‘’Tis the voice of the Lobster; I heard him declare,\\n  “You have baked me too brown, I must sugar my hair.”\\n   As a duck with its eyelids, so he with his nose\\n  Trims his belt and his buttons, and turns out his toes.’\\n\\n       [later editions continued as follows\\n  When the sands are all dry, he is gay as a lark,\\n  And will talk in contemptuous tones of the Shark,\\n  But, when the tide rises and sharks are around,\\n  His voice has a timid and tremulous sound.]\\n\\n‘That’s different from what I used to say when I was a child,’ said the\\nGryphon.\\n\\n‘Well, I never heard it before,’ said the Mock Turtle; ‘but it sounds\\nuncommon nonsense.’\\n\\nAlice said nothing; she had sat down with her face in her hands,\\nwondering if anything would EVER happen in a natural way again.\\n\\n‘I should like to have it explained,’ said the Mock Turtle.\\n\\n‘She can’t explain it,’ said the Gryphon hastily. ‘Go on with the next\\nverse.’\\n\\n‘But about his toes?’ the Mock Turtle persisted. ‘How COULD he turn them\\nout with his nose, you know?’\\n\\n‘It’s the first position in dancing.’ Alice said; but was dreadfully\\npuzzled by the whole thing, and longed to change the subject.\\n\\n‘Go on with the next verse,’ the Gryphon repeated impatiently: ‘it\\nbegins “I passed by his garden.”’\\n\\nAlice did not dare to disobey, though she felt sure it would all come\\nwrong, and she went on in a trembling voice:--\\n\\n  ‘I passed by his garden, and marked, with one eye,\\n  How the Owl and the Panther were sharing a pie--’\\n\\n    [later editions continued as follows\\n  The Panther took pie-crust, and gravy, and meat,\\n  While the Owl had the dish as its share of the treat.\\n  When the pie was all finished, the Owl, as a boon,\\n  Was kindly permitted to pocket the spoon:\\n  While the Panther received knife and fork with a growl,\\n  And concluded the banquet--]\\n\\n‘What IS the use of repeating all that stuff,’ the Mock Turtle\\ninterrupted, ‘if you don’t explain it as you go on? It’s by far the most\\nconfusing thing I ever heard!’\\n\\n‘Yes, I think you’d better leave off,’ said the Gryphon: and Alice was\\nonly too glad to do so.\\n\\n‘Shall we try another figure of the Lobster Quadrille?’ the Gryphon went\\non. ‘Or would you like the Mock Turtle to sing you a song?’\\n\\n‘Oh, a song, please, if the Mock Turtle would be so kind,’ Alice\\nreplied, so eagerly that the Gryphon said, in a rather offended tone,\\n‘Hm! No accounting for tastes! Sing her “Turtle Soup,” will you, old\\nfellow?’\\n\\nThe Mock Turtle sighed deeply, and began, in a voice sometimes choked\\nwith sobs, to sing this:--\\n\\n   ‘Beautiful Soup, so rich and green,\\n   Waiting in a hot tureen!\\n   Who for such dainties would not stoop?\\n   Soup of the evening, beautiful Soup!\\n   Soup of the evening, beautiful Soup!\\n     Beau--ootiful Soo--oop!\\n     Beau--ootiful Soo--oop!\\n   Soo--oop of the e--e--evening,\\n     Beautiful, beautiful Soup!\\n\\n   ‘Beautiful Soup! Who cares for fish,\\n   Game, or any other dish?\\n   Who would not give all else for two\\n   Pennyworth only of beautiful Soup?\\n   Pennyworth only of beautiful Soup?\\n     Beau--ootiful Soo--oop!\\n     Beau--ootiful Soo--oop!\\n   Soo--oop of the e--e--evening,\\n     Beautiful, beauti--FUL SOUP!’\\n\\n‘Chorus again!’ cried the Gryphon, and the Mock Turtle had just begun\\nto repeat it, when a cry of ‘The trial’s beginning!’ was heard in the\\ndistance.\\n\\n‘Come on!’ cried the Gryphon, and, taking Alice by the hand, it hurried\\noff, without waiting for the end of the song.\\n\\n‘What trial is it?’ Alice panted as she ran; but the Gryphon only\\nanswered ‘Come on!’ and ran the faster, while more and more faintly\\ncame, carried on the breeze that followed them, the melancholy words:--\\n\\n   ‘Soo--oop of the e--e--evening,\\n     Beautiful, beautiful Soup!’\\n\\n\\n\\n\\nCHAPTER XI. Who Stole the Tarts?\\n\\nThe King and Queen of Hearts were seated on their throne when they\\narrived, with a great crowd assembled about them--all sorts of little\\nbirds and beasts, as well as the whole pack of cards: the Knave was\\nstanding before them, in chains, with a soldier on each side to guard\\nhim; and near the King was the White Rabbit, with a trumpet in one hand,\\nand a scroll of parchment in the other. In the very middle of the court\\nwas a table, with a large dish of tarts upon it: they looked so good,\\nthat it made Alice quite hungry to look at them--‘I wish they’d get the\\ntrial done,’ she thought, ‘and hand round the refreshments!’ But there\\nseemed to be no chance of this, so she began looking at everything about\\nher, to pass away the time.\\n\\nAlice had never been in a court of justice before, but she had read\\nabout them in books, and she was quite pleased to find that she knew\\nthe name of nearly everything there. ‘That’s the judge,’ she said to\\nherself, ‘because of his great wig.’\\n\\nThe judge, by the way, was the King; and as he wore his crown over the\\nwig, (look at the frontispiece if you want to see how he did it,) he did\\nnot look at all comfortable, and it was certainly not becoming.\\n\\n‘And that’s the jury-box,’ thought Alice, ‘and those twelve creatures,’\\n(she was obliged to say ‘creatures,’ you see, because some of them were\\nanimals, and some were birds,) ‘I suppose they are the jurors.’ She said\\nthis last word two or three times over to herself, being rather proud of\\nit: for she thought, and rightly too, that very few little girls of her\\nage knew the meaning of it at all. However, ‘jury-men’ would have done\\njust as well.\\n\\nThe twelve jurors were all writing very busily on slates. ‘What are they\\ndoing?’ Alice whispered to the Gryphon. ‘They can’t have anything to put\\ndown yet, before the trial’s begun.’\\n\\n‘They’re putting down their names,’ the Gryphon whispered in reply, ‘for\\nfear they should forget them before the end of the trial.’\\n\\n‘Stupid things!’ Alice began in a loud, indignant voice, but she stopped\\nhastily, for the White Rabbit cried out, ‘Silence in the court!’ and the\\nKing put on his spectacles and looked anxiously round, to make out who\\nwas talking.\\n\\nAlice could see, as well as if she were looking over their shoulders,\\nthat all the jurors were writing down ‘stupid things!’ on their slates,\\nand she could even make out that one of them didn’t know how to spell\\n‘stupid,’ and that he had to ask his neighbour to tell him. ‘A nice\\nmuddle their slates’ll be in before the trial’s over!’ thought Alice.\\n\\nOne of the jurors had a pencil that squeaked. This of course, Alice\\ncould not stand, and she went round the court and got behind him, and\\nvery soon found an opportunity of taking it away. She did it so quickly\\nthat the poor little juror (it was Bill, the Lizard) could not make out\\nat all what had become of it; so, after hunting all about for it, he was\\nobliged to write with one finger for the rest of the day; and this was\\nof very little use, as it left no mark on the slate.\\n\\n‘Herald, read the accusation!’ said the King.\\n\\nOn this the White Rabbit blew three blasts on the trumpet, and then\\nunrolled the parchment scroll, and read as follows:--\\n\\n   ‘The Queen of Hearts, she made some tarts,\\n      All on a summer day:\\n    The Knave of Hearts, he stole those tarts,\\n      And took them quite away!’\\n\\n‘Consider your verdict,’ the King said to the jury.\\n\\n‘Not yet, not yet!’ the Rabbit hastily interrupted. ‘There’s a great\\ndeal to come before that!’\\n\\n‘Call the first witness,’ said the King; and the White Rabbit blew three\\nblasts on the trumpet, and called out, ‘First witness!’\\n\\nThe first witness was the Hatter. He came in with a teacup in one\\nhand and a piece of bread-and-butter in the other. ‘I beg pardon, your\\nMajesty,’ he began, ‘for bringing these in: but I hadn’t quite finished\\nmy tea when I was sent for.’\\n\\n‘You ought to have finished,’ said the King. ‘When did you begin?’\\n\\nThe Hatter looked at the March Hare, who had followed him into the\\ncourt, arm-in-arm with the Dormouse. ‘Fourteenth of March, I think it\\nwas,’ he said.\\n\\n‘Fifteenth,’ said the March Hare.\\n\\n‘Sixteenth,’ added the Dormouse.\\n\\n‘Write that down,’ the King said to the jury, and the jury eagerly\\nwrote down all three dates on their slates, and then added them up, and\\nreduced the answer to shillings and pence.\\n\\n‘Take off your hat,’ the King said to the Hatter.\\n\\n‘It isn’t mine,’ said the Hatter.\\n\\n‘Stolen!’ the King exclaimed, turning to the jury, who instantly made a\\nmemorandum of the fact.\\n\\n‘I keep them to sell,’ the Hatter added as an explanation; ‘I’ve none of\\nmy own. I’m a hatter.’\\n\\nHere the Queen put on her spectacles, and began staring at the Hatter,\\nwho turned pale and fidgeted.\\n\\n‘Give your evidence,’ said the King; ‘and don’t be nervous, or I’ll have\\nyou executed on the spot.’\\n\\nThis did not seem to encourage the witness at all: he kept shifting\\nfrom one foot to the other, looking uneasily at the Queen, and in\\nhis confusion he bit a large piece out of his teacup instead of the\\nbread-and-butter.\\n\\nJust at this moment Alice felt a very curious sensation, which puzzled\\nher a good deal until she made out what it was: she was beginning to\\ngrow larger again, and she thought at first she would get up and leave\\nthe court; but on second thoughts she decided to remain where she was as\\nlong as there was room for her.\\n\\n‘I wish you wouldn’t squeeze so.’ said the Dormouse, who was sitting\\nnext to her. ‘I can hardly breathe.’\\n\\n‘I can’t help it,’ said Alice very meekly: ‘I’m growing.’\\n\\n‘You’ve no right to grow here,’ said the Dormouse.\\n\\n‘Don’t talk nonsense,’ said Alice more boldly: ‘you know you’re growing\\ntoo.’\\n\\n‘Yes, but I grow at a reasonable pace,’ said the Dormouse: ‘not in that\\nridiculous fashion.’ And he got up very sulkily and crossed over to the\\nother side of the court.\\n\\nAll this time the Queen had never left off staring at the Hatter, and,\\njust as the Dormouse crossed the court, she said to one of the officers\\nof the court, ‘Bring me the list of the singers in the last concert!’ on\\nwhich the wretched Hatter trembled so, that he shook both his shoes off.\\n\\n‘Give your evidence,’ the King repeated angrily, ‘or I’ll have you\\nexecuted, whether you’re nervous or not.’\\n\\n‘I’m a poor man, your Majesty,’ the Hatter began, in a trembling voice,\\n‘--and I hadn’t begun my tea--not above a week or so--and what with the\\nbread-and-butter getting so thin--and the twinkling of the tea--’\\n\\n‘The twinkling of the what?’ said the King.\\n\\n‘It began with the tea,’ the Hatter replied.\\n\\n‘Of course twinkling begins with a T!’ said the King sharply. ‘Do you\\ntake me for a dunce? Go on!’\\n\\n‘I’m a poor man,’ the Hatter went on, ‘and most things twinkled after\\nthat--only the March Hare said--’\\n\\n‘I didn’t!’ the March Hare interrupted in a great hurry.\\n\\n‘You did!’ said the Hatter.\\n\\n‘I deny it!’ said the March Hare.\\n\\n‘He denies it,’ said the King: ‘leave out that part.’\\n\\n‘Well, at any rate, the Dormouse said--’ the Hatter went on, looking\\nanxiously round to see if he would deny it too: but the Dormouse denied\\nnothing, being fast asleep.\\n\\n‘After that,’ continued the Hatter, ‘I cut some more bread-and-butter--’\\n\\n‘But what did the Dormouse say?’ one of the jury asked.\\n\\n‘That I can’t remember,’ said the Hatter.\\n\\n‘You MUST remember,’ remarked the King, ‘or I’ll have you executed.’\\n\\nThe miserable Hatter dropped his teacup and bread-and-butter, and went\\ndown on one knee. ‘I’m a poor man, your Majesty,’ he began.\\n\\n‘You’re a very poor speaker,’ said the King.\\n\\nHere one of the guinea-pigs cheered, and was immediately suppressed by\\nthe officers of the court. (As that is rather a hard word, I will just\\nexplain to you how it was done. They had a large canvas bag, which tied\\nup at the mouth with strings: into this they slipped the guinea-pig,\\nhead first, and then sat upon it.)\\n\\n‘I’m glad I’ve seen that done,’ thought Alice. ‘I’ve so often read\\nin the newspapers, at the end of trials, “There was some attempts\\nat applause, which was immediately suppressed by the officers of the\\ncourt,” and I never understood what it meant till now.’\\n\\n‘If that’s all you know about it, you may stand down,’ continued the\\nKing.\\n\\n‘I can’t go no lower,’ said the Hatter: ‘I’m on the floor, as it is.’\\n\\n‘Then you may SIT down,’ the King replied.\\n\\nHere the other guinea-pig cheered, and was suppressed.\\n\\n‘Come, that finished the guinea-pigs!’ thought Alice. ‘Now we shall get\\non better.’\\n\\n‘I’d rather finish my tea,’ said the Hatter, with an anxious look at the\\nQueen, who was reading the list of singers.\\n\\n‘You may go,’ said the King, and the Hatter hurriedly left the court,\\nwithout even waiting to put his shoes on.\\n\\n‘--and just take his head off outside,’ the Queen added to one of the\\nofficers: but the Hatter was out of sight before the officer could get\\nto the door.\\n\\n‘Call the next witness!’ said the King.\\n\\nThe next witness was the Duchess’s cook. She carried the pepper-box in\\nher hand, and Alice guessed who it was, even before she got into the\\ncourt, by the way the people near the door began sneezing all at once.\\n\\n‘Give your evidence,’ said the King.\\n\\n‘Shan’t,’ said the cook.\\n\\nThe King looked anxiously at the White Rabbit, who said in a low voice,\\n‘Your Majesty must cross-examine THIS witness.’\\n\\n‘Well, if I must, I must,’ the King said, with a melancholy air, and,\\nafter folding his arms and frowning at the cook till his eyes were\\nnearly out of sight, he said in a deep voice, ‘What are tarts made of?’\\n\\n‘Pepper, mostly,’ said the cook.\\n\\n‘Treacle,’ said a sleepy voice behind her.\\n\\n‘Collar that Dormouse,’ the Queen shrieked out. ‘Behead that Dormouse!\\nTurn that Dormouse out of court! Suppress him! Pinch him! Off with his\\nwhiskers!’\\n\\nFor some minutes the whole court was in confusion, getting the Dormouse\\nturned out, and, by the time they had settled down again, the cook had\\ndisappeared.\\n\\n‘Never mind!’ said the King, with an air of great relief. ‘Call the next\\nwitness.’ And he added in an undertone to the Queen, ‘Really, my dear,\\nYOU must cross-examine the next witness. It quite makes my forehead\\nache!’\\n\\nAlice watched the White Rabbit as he fumbled over the list, feeling very\\ncurious to see what the next witness would be like, ‘--for they haven’t\\ngot much evidence YET,’ she said to herself. Imagine her surprise, when\\nthe White Rabbit read out, at the top of his shrill little voice, the\\nname ‘Alice!’\\n\\n\\n\\n\\nCHAPTER XII. Alice’s Evidence\\n\\n\\n‘Here!’ cried Alice, quite forgetting in the flurry of the moment how\\nlarge she had grown in the last few minutes, and she jumped up in such\\na hurry that she tipped over the jury-box with the edge of her skirt,\\nupsetting all the jurymen on to the heads of the crowd below, and there\\nthey lay sprawling about, reminding her very much of a globe of goldfish\\nshe had accidentally upset the week before.\\n\\n‘Oh, I BEG your pardon!’ she exclaimed in a tone of great dismay, and\\nbegan picking them up again as quickly as she could, for the accident of\\nthe goldfish kept running in her head, and she had a vague sort of idea\\nthat they must be collected at once and put back into the jury-box, or\\nthey would die.\\n\\n‘The trial cannot proceed,’ said the King in a very grave voice, ‘until\\nall the jurymen are back in their proper places--ALL,’ he repeated with\\ngreat emphasis, looking hard at Alice as he said do.\\n\\nAlice looked at the jury-box, and saw that, in her haste, she had put\\nthe Lizard in head downwards, and the poor little thing was waving its\\ntail about in a melancholy way, being quite unable to move. She soon got\\nit out again, and put it right; ‘not that it signifies much,’ she said\\nto herself; ‘I should think it would be QUITE as much use in the trial\\none way up as the other.’\\n\\nAs soon as the jury had a little recovered from the shock of being\\nupset, and their slates and pencils had been found and handed back to\\nthem, they set to work very diligently to write out a history of the\\naccident, all except the Lizard, who seemed too much overcome to do\\nanything but sit with its mouth open, gazing up into the roof of the\\ncourt.\\n\\n‘What do you know about this business?’ the King said to Alice.\\n\\n‘Nothing,’ said Alice.\\n\\n‘Nothing WHATEVER?’ persisted the King.\\n\\n‘Nothing whatever,’ said Alice.\\n\\n‘That’s very important,’ the King said, turning to the jury. They were\\njust beginning to write this down on their slates, when the White Rabbit\\ninterrupted: ‘UNimportant, your Majesty means, of course,’ he said in a\\nvery respectful tone, but frowning and making faces at him as he spoke.\\n\\n‘UNimportant, of course, I meant,’ the King hastily said, and went on\\nto himself in an undertone,\\n\\n‘important--unimportant--unimportant--important--’ as if he were trying\\nwhich word sounded best.\\n\\nSome of the jury wrote it down ‘important,’ and some ‘unimportant.’\\nAlice could see this, as she was near enough to look over their slates;\\n‘but it doesn’t matter a bit,’ she thought to herself.\\n\\nAt this moment the King, who had been for some time busily writing in\\nhis note-book, cackled out ‘Silence!’ and read out from his book, ‘Rule\\nForty-two. ALL PERSONS MORE THAN A MILE HIGH TO LEAVE THE COURT.’\\n\\nEverybody looked at Alice.\\n\\n‘I’M not a mile high,’ said Alice.\\n\\n‘You are,’ said the King.\\n\\n‘Nearly two miles high,’ added the Queen.\\n\\n‘Well, I shan’t go, at any rate,’ said Alice: ‘besides, that’s not a\\nregular rule: you invented it just now.’\\n\\n‘It’s the oldest rule in the book,’ said the King.\\n\\n‘Then it ought to be Number One,’ said Alice.\\n\\nThe King turned pale, and shut his note-book hastily. ‘Consider your\\nverdict,’ he said to the jury, in a low, trembling voice.\\n\\n‘There’s more evidence to come yet, please your Majesty,’ said the White\\nRabbit, jumping up in a great hurry; ‘this paper has just been picked\\nup.’\\n\\n‘What’s in it?’ said the Queen.\\n\\n‘I haven’t opened it yet,’ said the White Rabbit, ‘but it seems to be a\\nletter, written by the prisoner to--to somebody.’\\n\\n‘It must have been that,’ said the King, ‘unless it was written to\\nnobody, which isn’t usual, you know.’\\n\\n‘Who is it directed to?’ said one of the jurymen.\\n\\n‘It isn’t directed at all,’ said the White Rabbit; ‘in fact, there’s\\nnothing written on the OUTSIDE.’ He unfolded the paper as he spoke, and\\nadded ‘It isn’t a letter, after all: it’s a set of verses.’\\n\\n‘Are they in the prisoner’s handwriting?’ asked another of the jurymen.\\n\\n‘No, they’re not,’ said the White Rabbit, ‘and that’s the queerest thing\\nabout it.’ (The jury all looked puzzled.)\\n\\n‘He must have imitated somebody else’s hand,’ said the King. (The jury\\nall brightened up again.)\\n\\n‘Please your Majesty,’ said the Knave, ‘I didn’t write it, and they\\ncan’t prove I did: there’s no name signed at the end.’\\n\\n‘If you didn’t sign it,’ said the King, ‘that only makes the matter\\nworse. You MUST have meant some mischief, or else you’d have signed your\\nname like an honest man.’\\n\\nThere was a general clapping of hands at this: it was the first really\\nclever thing the King had said that day.\\n\\n‘That PROVES his guilt,’ said the Queen.\\n\\n‘It proves nothing of the sort!’ said Alice. ‘Why, you don’t even know\\nwhat they’re about!’\\n\\n‘Read them,’ said the King.\\n\\nThe White Rabbit put on his spectacles. ‘Where shall I begin, please\\nyour Majesty?’ he asked.\\n\\n‘Begin at the beginning,’ the King said gravely, ‘and go on till you\\ncome to the end: then stop.’\\n\\nThese were the verses the White Rabbit read:--\\n\\n   ‘They told me you had been to her,\\n    And mentioned me to him:\\n   She gave me a good character,\\n    But said I could not swim.\\n\\n   He sent them word I had not gone\\n    (We know it to be true):\\n   If she should push the matter on,\\n    What would become of you?\\n\\n   I gave her one, they gave him two,\\n    You gave us three or more;\\n   They all returned from him to you,\\n    Though they were mine before.\\n\\n   If I or she should chance to be\\n    Involved in this affair,\\n   He trusts to you to set them free,\\n    Exactly as we were.\\n\\n   My notion was that you had been\\n    (Before she had this fit)\\n   An obstacle that came between\\n    Him, and ourselves, and it.\\n\\n   Don’t let him know she liked them best,\\n    For this must ever be\\n   A secret, kept from all the rest,\\n    Between yourself and me.’\\n\\n‘That’s the most important piece of evidence we’ve heard yet,’ said the\\nKing, rubbing his hands; ‘so now let the jury--’\\n\\n‘If any one of them can explain it,’ said Alice, (she had grown so large\\nin the last few minutes that she wasn’t a bit afraid of interrupting\\nhim,) ‘I’ll give him sixpence. _I_ don’t believe there’s an atom of\\nmeaning in it.’\\n\\nThe jury all wrote down on their slates, ‘SHE doesn’t believe there’s an\\natom of meaning in it,’ but none of them attempted to explain the paper.\\n\\n‘If there’s no meaning in it,’ said the King, ‘that saves a world of\\ntrouble, you know, as we needn’t try to find any. And yet I don’t know,’\\nhe went on, spreading out the verses on his knee, and looking at them\\nwith one eye; ‘I seem to see some meaning in them, after all. “--SAID\\nI COULD NOT SWIM--” you can’t swim, can you?’ he added, turning to the\\nKnave.\\n\\nThe Knave shook his head sadly. ‘Do I look like it?’ he said. (Which he\\ncertainly did NOT, being made entirely of cardboard.)\\n\\n‘All right, so far,’ said the King, and he went on muttering over\\nthe verses to himself: ‘“WE KNOW IT TO BE TRUE--” that’s the jury, of\\ncourse--“I GAVE HER ONE, THEY GAVE HIM TWO--” why, that must be what he\\ndid with the tarts, you know--’\\n\\n‘But, it goes on “THEY ALL RETURNED FROM HIM TO YOU,”’ said Alice.\\n\\n‘Why, there they are!’ said the King triumphantly, pointing to the tarts\\non the table. ‘Nothing can be clearer than THAT. Then again--“BEFORE SHE\\nHAD THIS FIT--” you never had fits, my dear, I think?’ he said to the\\nQueen.\\n\\n‘Never!’ said the Queen furiously, throwing an inkstand at the Lizard\\nas she spoke. (The unfortunate little Bill had left off writing on his\\nslate with one finger, as he found it made no mark; but he now hastily\\nbegan again, using the ink, that was trickling down his face, as long as\\nit lasted.)\\n\\n‘Then the words don’t FIT you,’ said the King, looking round the court\\nwith a smile. There was a dead silence.\\n\\n‘It’s a pun!’ the King added in an offended tone, and everybody laughed,\\n‘Let the jury consider their verdict,’ the King said, for about the\\ntwentieth time that day.\\n\\n‘No, no!’ said the Queen. ‘Sentence first--verdict afterwards.’\\n\\n‘Stuff and nonsense!’ said Alice loudly. ‘The idea of having the\\nsentence first!’\\n\\n‘Hold your tongue!’ said the Queen, turning purple.\\n\\n‘I won’t!’ said Alice.\\n\\n‘Off with her head!’ the Queen shouted at the top of her voice. Nobody\\nmoved.\\n\\n‘Who cares for you?’ said Alice, (she had grown to her full size by this\\ntime.) ‘You’re nothing but a pack of cards!’\\n\\nAt this the whole pack rose up into the air, and came flying down upon\\nher: she gave a little scream, half of fright and half of anger, and\\ntried to beat them off, and found herself lying on the bank, with her\\nhead in the lap of her sister, who was gently brushing away some dead\\nleaves that had fluttered down from the trees upon her face.\\n\\n‘Wake up, Alice dear!’ said her sister; ‘Why, what a long sleep you’ve\\nhad!’\\n\\n‘Oh, I’ve had such a curious dream!’ said Alice, and she told her\\nsister, as well as she could remember them, all these strange Adventures\\nof hers that you have just been reading about; and when she had\\nfinished, her sister kissed her, and said, ‘It WAS a curious dream,\\ndear, certainly: but now run in to your tea; it’s getting late.’ So\\nAlice got up and ran off, thinking while she ran, as well she might,\\nwhat a wonderful dream it had been.\\n\\nBut her sister sat still just as she left her, leaning her head on her\\nhand, watching the setting sun, and thinking of little Alice and all her\\nwonderful Adventures, till she too began dreaming after a fashion, and\\nthis was her dream:--\\n\\nFirst, she dreamed of little Alice herself, and once again the tiny\\nhands were clasped upon her knee, and the bright eager eyes were looking\\nup into hers--she could hear the very tones of her voice, and see that\\nqueer little toss of her head to keep back the wandering hair that\\nWOULD always get into her eyes--and still as she listened, or seemed to\\nlisten, the whole place around her became alive with the strange creatures\\nof her little sister’s dream.\\n\\nThe long grass rustled at her feet as the White Rabbit hurried by--the\\nfrightened Mouse splashed his way through the neighbouring pool--she\\ncould hear the rattle of the teacups as the March Hare and his friends\\nshared their never-ending meal, and the shrill voice of the Queen\\nordering off her unfortunate guests to execution--once more the pig-baby\\nwas sneezing on the Duchess’s knee, while plates and dishes crashed\\naround it--once more the shriek of the Gryphon, the squeaking of the\\nLizard’s slate-pencil, and the choking of the suppressed guinea-pigs,\\nfilled the air, mixed up with the distant sobs of the miserable Mock\\nTurtle.\\n\\nSo she sat on, with closed eyes, and half believed herself in\\nWonderland, though she knew she had but to open them again, and all\\nwould change to dull reality--the grass would be only rustling in the\\nwind, and the pool rippling to the waving of the reeds--the rattling\\nteacups would change to tinkling sheep-bells, and the Queen’s shrill\\ncries to the voice of the shepherd boy--and the sneeze of the baby, the\\nshriek of the Gryphon, and all the other queer noises, would change (she\\nknew) to the confused clamour of the busy farm-yard--while the lowing\\nof the cattle in the distance would take the place of the Mock Turtle’s\\nheavy sobs.\\n\\nLastly, she pictured to herself how this same little sister of hers\\nwould, in the after-time, be herself a grown woman; and how she would\\nkeep, through all her riper years, the simple and loving heart of her\\nchildhood: and how she would gather about her other little children, and\\nmake THEIR eyes bright and eager with many a strange tale, perhaps even\\nwith the dream of Wonderland of long ago: and how she would feel with\\nall their simple sorrows, and find a pleasure in all their simple joys,\\nremembering her own child-life, and the happy summer days.\\n\\n              THE END\\n\\n\\n\\n\\n'"
      ]
     },
     "execution_count": 22,
     "metadata": {},
     "output_type": "execute_result"
    }
   ],
   "source": [
    "with open('data/alice.txt',encoding='utf-8') as txtfile:\n",
    "    alice = txtfile.read()\n",
    "alice"
   ]
  },
  {
   "cell_type": "markdown",
   "metadata": {},
   "source": [
    "Calculate the readability score for the `alice.txt` file and print it out. Then print out the reading grade associated with that score. Use your previously-defined functions!\n",
    "- For testing, note that my calculations show `alice.txt` has 977 sentences and 27198 words, of which 3610 are difficult. This leads to a readability score of ~7.113."
   ]
  },
  {
   "cell_type": "code",
   "execution_count": 23,
   "metadata": {},
   "outputs": [
    {
     "name": "stdout",
     "output_type": "stream",
     "text": [
      "7.113090902410715\n"
     ]
    },
    {
     "data": {
      "text/plain": [
       "'7th or 8th grade'"
      ]
     },
     "execution_count": 23,
     "metadata": {},
     "output_type": "execute_result"
    }
   ],
   "source": [
    "score=calc_readability_score(alice)\n",
    "print(score)\n",
    "print_grade=print_grade(score)\n",
    "print_grade"
   ]
  },
  {
   "cell_type": "markdown",
   "metadata": {},
   "source": [
    "_Note that this result may not be an especially accurate model of a text's readability&mdash;after all, it's just based on a simple estimation!_"
   ]
  }
 ],
 "metadata": {
  "kernelspec": {
   "display_name": "Python 3",
   "language": "python",
   "name": "python3"
  },
  "language_info": {
   "codemirror_mode": {
    "name": "ipython",
    "version": 3
   },
   "file_extension": ".py",
   "mimetype": "text/x-python",
   "name": "python",
   "nbconvert_exporter": "python",
   "pygments_lexer": "ipython3",
   "version": "3.7.3"
  },
  "toc": {
   "colors": {
    "hover_highlight": "#DAA520",
    "running_highlight": "#FF0000",
    "selected_highlight": "#FFD700"
   },
   "moveMenuLeft": true,
   "nav_menu": {
    "height": "84px",
    "width": "252px"
   },
   "navigate_menu": true,
   "number_sections": true,
   "sideBar": true,
   "threshold": 4,
   "toc_cell": false,
   "toc_section_display": "block",
   "toc_window_display": false,
   "widenNotebook": false
  }
 },
 "nbformat": 4,
 "nbformat_minor": 2
}
