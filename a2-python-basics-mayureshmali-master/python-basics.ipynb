{
 "cells": [
  {
   "cell_type": "markdown",
   "metadata": {},
   "source": [
    "# a2 - Python Basics\n",
    "Fill in the below code cells as specified. Note that cells may utilize variables and functions defined in previous cells; we should be able to use the `Kernal > Restart & Clear All` menu item followed by `Cell > Run All` to execute your entire notebook and see the correct output."
   ]
  },
  {
   "cell_type": "markdown",
   "metadata": {},
   "source": [
    "## Part 1. Introductions"
   ]
  },
  {
   "cell_type": "markdown",
   "metadata": {},
   "source": [
    "Create a variable **`my_name`** that stores your name (a string)."
   ]
  },
  {
   "cell_type": "code",
   "execution_count": 8,
   "metadata": {},
   "outputs": [],
   "source": [
    "my_name= \"Mayuresh\""
   ]
  },
  {
   "cell_type": "markdown",
   "metadata": {},
   "source": [
    "Create a variable **`my_age`** that stores your age (a number)."
   ]
  },
  {
   "cell_type": "code",
   "execution_count": 9,
   "metadata": {},
   "outputs": [],
   "source": [
    "my_age= 27"
   ]
  },
  {
   "cell_type": "markdown",
   "metadata": {},
   "source": [
    "Define a function **`make_introduction()`** that takes in two arguments: a name and an age. The function should _return_ a string of the format `\"Hello, my name is {NAME} and I'm {AGE} years old.\"` (replacing `{NAME}` and `{AGE}` with the arguments).\n",
    "- Note that you can turn a number into a string using the built-in `str()` function. "
   ]
  },
  {
   "cell_type": "code",
   "execution_count": 10,
   "metadata": {},
   "outputs": [],
   "source": [
    "def make_introduction(firstname, age):\n",
    "    Age = str(age)\n",
    "    makeintro=\"Hello, my name is \"+firstname+\" and I'm \"+Age+\" years old.\"\n",
    "    return makeintro"
   ]
  },
  {
   "cell_type": "markdown",
   "metadata": {},
   "source": [
    "Create a variable **`my_intro`** by passing your variables `my_name` and `my_age` into your `make_introduction()` function. Print the variable after you create it."
   ]
  },
  {
   "cell_type": "code",
   "execution_count": 11,
   "metadata": {},
   "outputs": [
    {
     "name": "stdout",
     "output_type": "stream",
     "text": [
      "Hello, my name is Mayuresh and I'm 27 years old.\n"
     ]
    }
   ],
   "source": [
    "my_intro=make_introduction(my_name,my_age)\n",
    "print(my_intro)"
   ]
  },
  {
   "cell_type": "markdown",
   "metadata": {},
   "source": [
    "Create a variable **`loud_intro`**, which is your `my_intro` variable with all of the letters capitalized (use the `upper()` string method). Print the variable after you create it."
   ]
  },
  {
   "cell_type": "code",
   "execution_count": 12,
   "metadata": {},
   "outputs": [
    {
     "name": "stdout",
     "output_type": "stream",
     "text": [
      "HELLO, MY NAME IS MAYURESH AND I'M 27 YEARS OLD.\n"
     ]
    }
   ],
   "source": [
    "loud_intro = my_intro.upper()\n",
    "print(loud_intro)"
   ]
  },
  {
   "cell_type": "markdown",
   "metadata": {},
   "source": [
    "Create a variable **`casual_intro`** by using the `replace()` string function to replace (substitute) \"Hello, my name is\", with \"Hey, I'm\" in your `my_intro` variable. You may need to look up the arguments for this function! Print the variable after you create it."
   ]
  },
  {
   "cell_type": "code",
   "execution_count": 13,
   "metadata": {},
   "outputs": [
    {
     "name": "stdout",
     "output_type": "stream",
     "text": [
      "Hey, I'm Mayuresh and I'm 27 years old.\n"
     ]
    }
   ],
   "source": [
    "casual_intro=my_intro.replace(\"Hello, my name is \",\"Hey, I'm \")\n",
    "print(casual_intro)"
   ]
  },
  {
   "cell_type": "markdown",
   "metadata": {},
   "source": [
    "Create a variable `intro_e_count` that stores the number of times the letter `'e'` (lower-case only) appears in the `my_intro` variable. Find a [string method](https://docs.python.org/3.6/library/stdtypes.html#string-methods) that will \"count\" the occurences. Print the variable after you create it."
   ]
  },
  {
   "cell_type": "code",
   "execution_count": 14,
   "metadata": {},
   "outputs": [
    {
     "name": "stdout",
     "output_type": "stream",
     "text": [
      "4\n"
     ]
    }
   ],
   "source": [
    "#Using count function to count occurences of a string or character\n",
    "intro_e_count=my_intro.count('e')\n",
    "print(intro_e_count)"
   ]
  },
  {
   "cell_type": "markdown",
   "metadata": {},
   "source": [
    "## Part 2. Money"
   ]
  },
  {
   "cell_type": "markdown",
   "metadata": {},
   "source": [
    "Define a function **`compound_interest()`** that takes three arguments: an initial bank balance (principle, in dollars), an annual interest rate, and a number of years. The function should calculate the [continuous compound interest](https://en.wikipedia.org/wiki/Compound_interest#Continuous_compounding) and _return_ the resulting total balance after that many number of years.\n",
    "- See [here](http://www.mathwarehouse.com/calculators/continuous-compound-interest-calculator.php) for an example of the formula and a calculator you can use to check your work.\n",
    "- Be sure and call your function with some testing numbers: \\$1000 at 6% for 5 years should lead to a balance of \\$1349.86.\n",
    "- You will need to import the `math` module for mathematical functions."
   ]
  },
  {
   "cell_type": "code",
   "execution_count": 15,
   "metadata": {},
   "outputs": [],
   "source": [
    "import math\n",
    "\n",
    "#compound_interest() that takes three arguments: an initial bank balance (principle, in dollars), \n",
    "#an annual interest rate, and a number of years. The function calculates the continuous compound interest \n",
    "#and return the resulting total balance after that many number of years.\n",
    "\n",
    "def compound_interest(principle,rate,years):\n",
    "    rate= rate/100\n",
    "    Amount= round(principle*((math.e)**(rate*years)),2)\n",
    "    Interest_earned=round(Amount-principle,2)\n",
    "    rate = rate*100\n",
    "    \n",
    "    msg=(\" Initial principle: $\"+ str(principle) +\n",
    "          \"\\n Annual interest rate: %\"+ str(rate) +\n",
    "          \"\\n Interest earned in \"+ str(years) +\" years: $\"+ str(Interest_earned) +\n",
    "          \"\\n Total value after \"+ str(years) +\" years: $\"+ str(Amount))\n",
    "    return msg\n",
    "    \n"
   ]
  },
  {
   "cell_type": "markdown",
   "metadata": {},
   "source": [
    "Define a function **`print_earnings()`** that takes three numbers as arguments: an initial principle, an annual interest rate, and a number of years. This function should _print out_ the earnings over this period in the following format:\n",
    "\n",
    "```\n",
    "Initial principle: $1000\n",
    "Annual interest rate: %6.0\n",
    "Interest earned in 5 years: $349.86\n",
    "Total value after 5 years: $1349.86\n",
    "```\n",
    "\n",
    "Note that interest rate should be printed as a percentage, monetary values should have a leading `$`, and you should round monetary values to the nearest penny. Don't worry about extra or missing trailing 0s (in values like `%6.0` or `$101.5`)."
   ]
  },
  {
   "cell_type": "code",
   "execution_count": 16,
   "metadata": {},
   "outputs": [
    {
     "name": "stdout",
     "output_type": "stream",
     "text": [
      " Initial principle: $1000\n",
      " Annual interest rate: %6.0\n",
      " Interest earned in 5 years: $349.86\n",
      " Total value after 5 years: $1349.86\n"
     ]
    }
   ],
   "source": [
    "def print_earnings(principle,annualrate,years):\n",
    "    FinalAmount=compound_interest(principle,annualrate,years)\n",
    "    print(FinalAmount)\n",
    "\n",
    "# Call function with principle, annual interest rate and no. of years as parameters passed.    \n",
    "print_earnings(1000,6,5)  "
   ]
  },
  {
   "cell_type": "markdown",
   "metadata": {},
   "source": [
    "Define a function **`value_of_change()`** that takes in **named** arguments representing amounts of different US coins (`quarters`, `dimes`, `nickels`, and `pennies`)--each of the arguments should have a default value of `0`. The function should _return_ the total value in dollars of those coins. For example, 5 quarters, 4 dimes, 3, nickels, and 2 pennies have a value of `1.82` dollars."
   ]
  },
  {
   "cell_type": "code",
   "execution_count": 17,
   "metadata": {},
   "outputs": [
    {
     "name": "stdout",
     "output_type": "stream",
     "text": [
      "$1.65\n"
     ]
    }
   ],
   "source": [
    "#Function value_of_change() that takes in named arguments representing amounts of different US coins (quarters, dimes, nickels, and pennies)\n",
    "#--each of the arguments have a default value of 0. \n",
    "#The function returns the total value in dollars of those coins\n",
    "\n",
    "def value_of_change(quarters=0,dimes=0,nickles=0,pennies=0):\n",
    "    Total_value_coins=round(quarters*0.25+dimes*0.1+0.05*nickles+0.01*pennies,2)\n",
    "    return Total_value_coins\n",
    "\n",
    "print(\"$\"+str(value_of_change(5,3,2)))"
   ]
  },
  {
   "cell_type": "markdown",
   "metadata": {},
   "source": [
    "Define a function **`consolidate_change`** that takes as arguments counts of different US coins (similar to the previous function) and prints out the _simplest_ number of bills and coins needed to make that amount.\n",
    "\n",
    "For example, when called with arguments of 10 quarters, 9 dimes, 8 nickels, and 7 pennies, the function should print:\n",
    "\n",
    "```\n",
    "Number of dollars: 3\n",
    "Number of quarters: 3\n",
    "Number of dimes: 1\n",
    "Number of nickels: 0\n",
    "Number of pennies: 2\n",
    "Total amount: $3.87\n",
    "```\n",
    "\n",
    "You _must_ use your previous `value_of_change()` method in this calculation. _Hint:_ think about converting the coins to a giant pile of pennies, and then determining how many (whole number) dollars you can divide them into. Then put those pennies aside, and determine how many (whole number) quarters you can make with the rest, etc."
   ]
  },
  {
   "cell_type": "code",
   "execution_count": 18,
   "metadata": {
    "scrolled": true
   },
   "outputs": [
    {
     "name": "stdout",
     "output_type": "stream",
     "text": [
      " Number of dollars:  4\n",
      " Number of quarters: 3\n",
      " Number of dimes:    0\n",
      " Number of nickels:  0\n",
      " Number of pennies:  0\n",
      " Total amount:      $4.76\n"
     ]
    }
   ],
   "source": [
    "import math\n",
    "\n",
    "# function that takes as arguments counts of different US coins\n",
    "# and prints out the simplest number of bills and coins needed to make that amount.  \n",
    "\n",
    "def consolidate_change(quarters,dimes,nickles,pennies):\n",
    "    TotalValue=value_of_change(quarters,dimes,nickles,pennies)\n",
    "    Dollar=int(TotalValue//1)\n",
    "    #Divide by 1 to get whole number dollar values\n",
    "    Remain1=TotalValue%1\n",
    "    #Get remaining change\n",
    "  \n",
    "    Remain1=Remain1*100\n",
    "    #Check how many whole quarters can be formed from remaining change\n",
    "    Remain2=int((Remain1)//25)\n",
    "   #Remaining change after dollars and quarters are formed\n",
    "    Remain3=Remain1-(Remain2*25)\n",
    "    #Check how many whole dimes can be formed from remaining change\n",
    "    Remain4=int(Remain3//10)\n",
    "    \n",
    "    Remain5=Remain3-(Remain4*10)\n",
    "    #Check how many whole nickles can be formed from remaining change\n",
    "    Remain6=int(Remain5//5)\n",
    "    \n",
    "    Remain7=Remain5-(Remain6*5)\n",
    "    #Check how many whole pennies can be formed from remaining change\n",
    "    Remain8=int(Remain7//1)\n",
    "   \n",
    "    \n",
    "    print(\" Number of dollars:  \"+ str(Dollar) +\n",
    "          \"\\n Number of quarters: \"+ str(Remain2) +\n",
    "          \"\\n Number of dimes:    \"+ str(Remain4)+\n",
    "          \"\\n Number of nickels:  \"+ str(Remain6)+\n",
    "          \"\\n Number of pennies:  \"+ str(Remain8)+\n",
    "          \"\\n Total amount:      $\"+ str(TotalValue))\n",
    "\n",
    "#Function to give total dollar amount given number of coin denominations  \n",
    "def value_of_change(quarters=0,dimes=0,nickles=0,pennies=0):\n",
    "          Total_value_coins=round(quarters*0.25+dimes*0.1+0.05*nickles+0.01*pennies,2)\n",
    "          return Total_value_coins\n",
    "    \n",
    "#Call consolidate_change function\n",
    "consolidate_change(13,9,11,6)\n",
    "    \n",
    "    "
   ]
  },
  {
   "cell_type": "markdown",
   "metadata": {},
   "source": [
    "## Part 3. Time"
   ]
  },
  {
   "cell_type": "markdown",
   "metadata": {},
   "source": [
    "Use the [date()](https://docs.python.org/3/library/datetime.html#datetime.date) function from the `datetime` module to create a variable **`summer_break`** that represents the first day of Summer break (June 9, 2018). Note that this function will return a value of type `date`."
   ]
  },
  {
   "cell_type": "code",
   "execution_count": 19,
   "metadata": {},
   "outputs": [
    {
     "name": "stdout",
     "output_type": "stream",
     "text": [
      "2019-06-08\n"
     ]
    }
   ],
   "source": [
    "import datetime\n",
    "summer_break=datetime.date(2019,6,8)\n",
    "print(summer_break)"
   ]
  },
  {
   "cell_type": "markdown",
   "metadata": {},
   "source": [
    "Create a variable **`days_to_break`** that is how many days from the _current date_ (today--look for a method of the [date class](https://docs.python.org/3/library/datetime.html#date-objects)) to Summer break. _Hint:_ variables of the `date` type support the subtraction operator! Print the variable after you create it; it's fine if the printed result includes a `00:00:00` timestamp."
   ]
  },
  {
   "cell_type": "code",
   "execution_count": 20,
   "metadata": {},
   "outputs": [
    {
     "name": "stdout",
     "output_type": "stream",
     "text": [
      "41 days, 0:00:00\n"
     ]
    }
   ],
   "source": [
    "# Calculates difference between todays date and summer break date.\n",
    "days_to_break=summer_break-datetime.date.today()\n",
    "print(days_to_break)"
   ]
  },
  {
   "cell_type": "markdown",
   "metadata": {},
   "source": [
    "Define a function **`can_drink_us()`** that takes as an argument a birth date (as a `date` value). This function should _return_ the `date` in which a person born on that day can legally purchase alcohol in the US (i.e., when they turn 21 years old).\n",
    "\n",
    "In order to calculate this date, you should use the [dateutil.relativedelta](https://dateutil.readthedocs.io/en/stable/relativedelta.html) library, which is included with Anaconda. You will need to import the `relativedelta` function from this library, which will let you specify a \"time change\" in terms of years that can then be added to a date. See [the examples](https://dateutil.readthedocs.io/en/stable/examples.html#relativedelta-examples) for details.\n",
    "\n",
    "\n",
    "Demonstrate your function works by printing out when someone born _today_ will be able to legally drink."
   ]
  },
  {
   "cell_type": "code",
   "execution_count": 21,
   "metadata": {},
   "outputs": [
    {
     "name": "stdout",
     "output_type": "stream",
     "text": [
      "2040-04-28\n"
     ]
    }
   ],
   "source": [
    "import datetime\n",
    "from dateutil.relativedelta import relativedelta\n",
    "import calendar\n",
    "\n",
    "#Takes todays date as argument and gives the date when person can legally drink in the US i.e when he/she turns 21 years old.\n",
    "def can_drink(birthdate):\n",
    "    Legal_age=birthdate + relativedelta(years=+21)\n",
    "    print(Legal_age)\n",
    "    \n",
    "can_drink(datetime.date.today())  "
   ]
  },
  {
   "cell_type": "markdown",
   "metadata": {},
   "source": [
    "Define a function **`make_birthday_intro()`** that takes in two arguments: a name (`string`), and a birth date (`date`). This function should _return_ a string of the format `\"Hello, my name is {NAME} and I'm {AGE} years old. In {N} days I'll be {NEW_AGE}\"` (replacing `{NAME}`, `{AGE}`, `{N}`, and `{NEW_AGE}` with appropriate values).\n",
    "\n",
    "- You should utilize your **`make_introduction()`** function from Part 1! You may need to calculate a variable to pass into that function call.\n",
    "- _Hint_: use the `relativedelta()` function to calculate the person's current age, as well as when they will turn 1 year older. You can get the number of days or years from a `relativedelta` value (e.g., `time_difference`) by accessing the `.days` or `.years` properties (e.g., `time_difference.years`)."
   ]
  },
  {
   "cell_type": "code",
   "execution_count": 22,
   "metadata": {
    "scrolled": true
   },
   "outputs": [
    {
     "name": "stdout",
     "output_type": "stream",
     "text": [
      "Hello, my name is Mayuresh and I'm 27 years old.In 11 months and 16 days,I will become 28.\n"
     ]
    }
   ],
   "source": [
    "from datetime import date, datetime\n",
    "from dateutil.relativedelta import relativedelta\n",
    "import calendar\n",
    "\n",
    "# Function takes two inputs : Name and birthdate and returns a string in a particular format.\n",
    "def make_birthday_intro(name,birthdate):\n",
    "    today = date.today()\n",
    "\n",
    "    #Finds the differnce in two dates and takes the \".years\" component to display age in years.\n",
    "    Age=relativedelta(today,birthdate)\n",
    "    YearsinAge=Age.years\n",
    "    \n",
    "    New = birthdate + relativedelta(years=YearsinAge+1)\n",
    "    \n",
    "    time_difference=relativedelta(New, today) \n",
    "    \n",
    "    diff_month=time_difference.months\n",
    "    diff_day=time_difference.days\n",
    "                                \n",
    "    stmt=\"Hello, my name is \"+name+\" and I'm \"+str(YearsinAge)+\" years old.In \"+str(diff_month)+\" months and \"+str(diff_day)+\" days,I will become \"+str(YearsinAge+1)+\".\"\n",
    "    return stmt\n",
    "\n",
    "\n",
    "msg=make_birthday_intro(\"Mayuresh\",date(1992, 4, 13))\n",
    "print(msg)    "
   ]
  },
  {
   "cell_type": "markdown",
   "metadata": {},
   "source": [
    "Create a variable **`my_bday_intro`** by calling your `make_birthday_intro()` function and passing in your name (already a variable!) and your birthdate. Print the variable after you create it. "
   ]
  },
  {
   "cell_type": "code",
   "execution_count": 23,
   "metadata": {},
   "outputs": [
    {
     "name": "stdout",
     "output_type": "stream",
     "text": [
      "Hello, my name is Mayuresh and I'm 27 years old.In 11 months and 16 days,I will become 28.\n"
     ]
    }
   ],
   "source": [
    "MyName=\"Mayuresh\"\n",
    "my_bday_intro=make_birthday_intro(MyName,date(1992, 4, 13))\n",
    "print(my_bday_intro)"
   ]
  }
 ],
 "metadata": {
  "kernelspec": {
   "display_name": "Python 3",
   "language": "python",
   "name": "python3"
  },
  "language_info": {
   "codemirror_mode": {
    "name": "ipython",
    "version": 3
   },
   "file_extension": ".py",
   "mimetype": "text/x-python",
   "name": "python",
   "nbconvert_exporter": "python",
   "pygments_lexer": "ipython3",
   "version": "3.7.3"
  }
 },
 "nbformat": 4,
 "nbformat_minor": 2
}
