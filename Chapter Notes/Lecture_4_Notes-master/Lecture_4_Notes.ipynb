{
 "cells": [
  {
   "cell_type": "markdown",
   "metadata": {},
   "source": [
    "## Boolean Section\n",
    "Below are only a few examples of how cool Booles can be!\n",
    "\n",
    "But this is only an intro: for much more, read about deMorgan's Law: \n",
    "https://www.ics.uci.edu/~pattis/ICS-31/lectures/simplify/lecture.html"
   ]
  },
  {
   "cell_type": "code",
   "execution_count": null,
   "metadata": {},
   "outputs": [],
   "source": [
    "##String comparisons\n",
    "\n",
    "\"cat\" > \"dog\" # False\n",
    "# \"kitty\" > \"dog\" #True... what do you think is going on here? It's not strig length!\n",
    "# \"ki\" > \"dog\" # Python compares \"lexicographically\", aka it compares ascii char values\n",
    "# \"cat\" > \"doggy\" #False\n",
    "# \"cat\" < \"doggy\" #True\n",
    "# \"kitty\" == \"doggy\" #False"
   ]
  },
  {
   "cell_type": "code",
   "execution_count": null,
   "metadata": {},
   "outputs": [],
   "source": [
    "# given two booleans P and Q\n",
    "P = True\n",
    "Q = False\n",
    "print(type(P)) #<class 'bool'>\n",
    "\n",
    "P and not Q  # True\n",
    "# not P and Q  # False\n",
    "# not (P and Q)  # True: Evaluate parens first...\n",
    "# (not P) or (not Q)  # True"
   ]
  },
  {
   "cell_type": "code",
   "execution_count": null,
   "metadata": {},
   "outputs": [],
   "source": [
    "# Assign str value to a variable\n",
    "pet = \"dog\"\n",
    "\n",
    "# It is NOT the case that pet is \"cat\"\n",
    "not pet == \"cat\"  # True\n",
    "\n",
    "# pet is \"cat\" OR \"dog\"\n",
    "pet == \"cat\" or pet == \"dog\"  # True\n",
    "\n",
    "# This doesn't work (operators are applied left-to-right; \n",
    "# check the type at each step!)\n",
    "pet == \"cat\" or \"lizard\"  # \"lizard\""
   ]
  },
  {
   "cell_type": "markdown",
   "metadata": {},
   "source": [
    "## Conditionals Examples"
   ]
  },
  {
   "cell_type": "code",
   "execution_count": null,
   "metadata": {},
   "outputs": [],
   "source": [
    "oatmeal_temp = 40  # temperature in degrees F\n",
    "\n",
    "if oatmeal_temp > 120:\n",
    "    print(\"This oatmeal is too hot!\")\n",
    "else:\n",
    "    print(\"This oatmeal is NOT too hot!\")\n",
    "\n",
    "# too_cold = oatmeal_temp < 70  # a boolean variable\n",
    "# if too_cold:\n",
    "#     print(\"This oatmeal is too cold!\")\n",
    "\n",
    "# This line is outside the block, so is not part of \n",
    "# the conditional (it will always be executed)\n",
    "print(\"Time for a nap!\")"
   ]
  },
  {
   "cell_type": "code",
   "execution_count": null,
   "metadata": {},
   "outputs": [],
   "source": [
    "##Demonstrates elif \"else if\"\n",
    "\n",
    "if outside_temperature < 60:\n",
    "    print(\"Wear a jacket\")\n",
    "elif outside_temperature > 90:\n",
    "    print(\"Wear sunscreen\")\n",
    "elif outside_temperature == 72:\n",
    "    print(\"Perfect weather!\")\n",
    "else:\n",
    "    print(\"Wear a t-shirt\")"
   ]
  },
  {
   "cell_type": "code",
   "execution_count": null,
   "metadata": {},
   "outputs": [],
   "source": [
    "temperature = 20\n",
    "#temperature = 50\n",
    "if temperature < 30:\n",
    "    print(\"Wear snow pants\")\n",
    "elif temperature < 60:\n",
    "    print(\"Wear a jacket\")\n",
    "\n",
    "\n",
    "# if temperature < 30:\n",
    "#     print(\"Wear snow pants\")\n",
    "# if temperature < 60:\n",
    "#     print(\"Wear a jacket\")\n",
    "\n",
    "if temperature < 60:\n",
    "    print(\"Wear a jacket\")\n",
    "elif temperature < 30:\n",
    "    print(\"Wear snow pants\")"
   ]
  },
  {
   "cell_type": "markdown",
   "metadata": {},
   "source": [
    "## Loops and Iteration Section\n",
    "\n",
    "Below are only a few examples of how to loop"
   ]
  },
  {
   "cell_type": "code",
   "execution_count": 21,
   "metadata": {},
   "outputs": [
    {
     "name": "stdout",
     "output_type": "stream",
     "text": [
      "Tails\n",
      "Tails\n",
      "Tails\n",
      "Tails\n",
      "Heads\n"
     ]
    }
   ],
   "source": [
    "import random\n",
    "\n",
    "# flip a coin until it shows up heads\n",
    "still_flipping = True  # sentinel\n",
    "while still_flipping:\n",
    "    flip = random.randint(0,1)\n",
    "    if flip == 0:\n",
    "        flip = \"Heads\"\n",
    "    else:\n",
    "        flip = \"Tails\"\n",
    "    print(flip)\n",
    "    if flip == \"Heads\":\n",
    "        still_flipping = False\n",
    "        \n",
    "# Run it multiple times to see the results of the random coin flip"
   ]
  },
  {
   "cell_type": "code",
   "execution_count": 29,
   "metadata": {},
   "outputs": [
    {
     "name": "stdout",
     "output_type": "stream",
     "text": [
      "0,1,2,3,4,5,6,7,8,9,10,11,12,13,14,15,16,17,18,19,20,21,22,23,24,25,26,27,28,29,30,31,32,33,34,35,36,37,38,39,40,41,42,43,44,45,46,47,48,49,50,51,52,53,54,55,56,57,58,59,60,61,62,63,64,65,66,67,68,69,70,71,72,73,74,75,76,77,78,79,80,81,82,83,84,85,86,87,88,89,90,91,92,93,94,95,96,97,98,99,"
     ]
    }
   ],
   "source": [
    "for item in range(100): \n",
    "    print(item, end = ',')"
   ]
  },
  {
   "cell_type": "markdown",
   "metadata": {},
   "source": [
    "## Execute your own functions from a Jupyter Notebook\n",
    "This is a simple function, but an amazing concept"
   ]
  },
  {
   "cell_type": "code",
   "execution_count": 3,
   "metadata": {},
   "outputs": [
    {
     "name": "stdout",
     "output_type": "stream",
     "text": [
      "Hello from the command line CLASS!\n",
      "It is a good day to script.\n"
     ]
    }
   ],
   "source": [
    "import test_script\n",
    "##Why doesn't this work? Press shift tab to view the doc string!\n",
    "test_script.hello_script()"
   ]
  },
  {
   "cell_type": "markdown",
   "metadata": {},
   "source": [
    "## Iterating over files\n",
    "* This is critical for the homework"
   ]
  },
  {
   "cell_type": "code",
   "execution_count": 30,
   "metadata": {},
   "outputs": [
    {
     "name": "stdout",
     "output_type": "stream",
     "text": [
      "Alice\n",
      "\n",
      "8\n",
      "\n",
      "-1\n",
      "\n",
      "Bob\n",
      "\n",
      "12\n",
      "\n",
      "-2\n",
      "\n",
      "Charles\n",
      "\n",
      "3\n",
      "\n",
      "-3\n",
      "\n",
      "Doris\n",
      "\n",
      "7\n",
      "\n",
      "-4\n",
      "\n",
      "Edward\n",
      "\n",
      "4\n",
      "\n",
      "-5\n",
      "\n",
      "Fred\n",
      "\n",
      "3\n",
      "\n",
      "-6\n"
     ]
    }
   ],
   "source": [
    "with open('data/sample_data.txt') as my_file:  # open the file\n",
    "    for line in my_file:  # iterate through it\n",
    "        print(line)       # handle each line"
   ]
  },
  {
   "cell_type": "code",
   "execution_count": 39,
   "metadata": {},
   "outputs": [
    {
     "name": "stdout",
     "output_type": "stream",
     "text": [
      "6\n"
     ]
    }
   ],
   "source": [
    "filename = 'data/sample_data.txt'\n",
    "with open(filename) as file: \n",
    "        num_lines = 0\n",
    "        for line in file: \n",
    "            num_lines = num_lines + 1\n",
    "num_obs = num_lines/3\n",
    "print(int(num_obs))\n",
    "    #num_obs = num_lines/3 #this division works for files of this data type: label, number, number...\n",
    "    #return (round(num_obs))"
   ]
  },
  {
   "cell_type": "code",
   "execution_count": null,
   "metadata": {},
   "outputs": [],
   "source": []
  }
 ],
 "metadata": {
  "kernelspec": {
   "display_name": "Python 3",
   "language": "python",
   "name": "python3"
  },
  "language_info": {
   "codemirror_mode": {
    "name": "ipython",
    "version": 3
   },
   "file_extension": ".py",
   "mimetype": "text/x-python",
   "name": "python",
   "nbconvert_exporter": "python",
   "pygments_lexer": "ipython3",
   "version": "3.7.0"
  }
 },
 "nbformat": 4,
 "nbformat_minor": 2
}
