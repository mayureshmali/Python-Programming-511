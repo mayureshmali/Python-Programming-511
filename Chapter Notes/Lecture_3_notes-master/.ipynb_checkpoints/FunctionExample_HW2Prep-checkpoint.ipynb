{
 "cells": [
  {
   "cell_type": "markdown",
   "metadata": {},
   "source": [
    "## Random Examples from Class"
   ]
  },
  {
   "cell_type": "code",
   "execution_count": null,
   "metadata": {},
   "outputs": [],
   "source": [
    "print(min(2, abs(-3)))"
   ]
  },
  {
   "cell_type": "code",
   "execution_count": null,
   "metadata": {},
   "outputs": [],
   "source": [
    "round(.234235235, 3)"
   ]
  },
  {
   "cell_type": "code",
   "execution_count": null,
   "metadata": {},
   "outputs": [],
   "source": [
    "name_len = len(\"matt\")\n",
    "favorite_1 = 3 \n",
    "favorite_2 = 87\n"
   ]
  },
  {
   "cell_type": "code",
   "execution_count": null,
   "metadata": {},
   "outputs": [],
   "source": [
    "favorite_1 = favorite_1/pow(name_len, .598)\n",
    "favorite_2 = favorite_2/pow(name_len, .598)\n",
    "print(favorite_1, favorite_2)"
   ]
  },
  {
   "cell_type": "code",
   "execution_count": null,
   "metadata": {},
   "outputs": [],
   "source": [
    "def make_full_name(first_name, last_name):\n",
    "    full_name = first_name + \" \" + last_name\n",
    "    print(full_name)\n",
    "\n",
    "make_full_name(\"Hans\", \"Gruber\")\n",
    "# print(full_name)  #Error! variable not found"
   ]
  },
  {
   "cell_type": "markdown",
   "metadata": {},
   "source": [
    "### Jurassic Park Function Example\n",
    "Pay attention to the global variable"
   ]
  },
  {
   "cell_type": "code",
   "execution_count": null,
   "metadata": {
    "scrolled": true
   },
   "outputs": [],
   "source": [
    "name = \"dr. ian malcolm\"  # global variable 'name'\n",
    "print(name)"
   ]
  },
  {
   "cell_type": "code",
   "execution_count": null,
   "metadata": {},
   "outputs": [],
   "source": [
    "def say_hello(name):  # local variable 'name'\n",
    "    name_title = name.title()  # using local variable ##title() uppercases first letter in a word\n",
    "    print(\"Hi \"+ name_title + \". Welcome to Jurassic Park\")"
   ]
  },
  {
   "cell_type": "code",
   "execution_count": null,
   "metadata": {},
   "outputs": [],
   "source": [
    "say_hello(\"Tasha\")  # arg assigned to local var"
   ]
  },
  {
   "cell_type": "code",
   "execution_count": null,
   "metadata": {},
   "outputs": [],
   "source": [
    "print(name)  # using global variable"
   ]
  },
  {
   "cell_type": "code",
   "execution_count": null,
   "metadata": {},
   "outputs": [],
   "source": [
    "def make_full_name(first_name, last_name):\n",
    "    full_name = first_name + \" \" + last_name\n",
    "    return full_name\n",
    "\n",
    "my_name = make_full_name(\"matt\", \"portwood\")\n",
    "print(\"hello, my name is \" + my_name)\n",
    "# character_full_name = make_full_name(\"John\", \"Hammond\")\n",
    "\n",
    "# print(\"The rich creator of Jurassic Park is... \" + character_full_name)"
   ]
  },
  {
   "cell_type": "markdown",
   "metadata": {},
   "source": [
    "## Boolean Examples\n",
    "Below are only a few examples of how cool Booles can be!\n",
    "\n",
    "But this is only an intro: for much more, read about deMorgan's Law: \n",
    "https://www.ics.uci.edu/~pattis/ICS-31/lectures/simplify/lecture.html "
   ]
  },
  {
   "cell_type": "code",
   "execution_count": null,
   "metadata": {},
   "outputs": [],
   "source": [
    "##String comparisons\n",
    "\n",
    "\"cat\" > \"dog\" # False\n",
    "# \"kitty\" > \"dog\" #True... what do you think is going on here? \n",
    "# \"cat\" > \"doggy\" #False\n",
    "# \"cat\" < \"doggy\" #True\n",
    "# \"kitty\" == \"doggy\" #False"
   ]
  },
  {
   "cell_type": "code",
   "execution_count": null,
   "metadata": {},
   "outputs": [],
   "source": [
    "# given two booleans P and Q\n",
    "P = True\n",
    "Q = False\n",
    "print(type(P)) #<class 'bool'>\n",
    "\n",
    "P and not Q  # True\n",
    "# not P and Q  # False\n",
    "# not (P and Q)  # True: Evaluate parens first...\n",
    "# (not P) or (not Q)  # True"
   ]
  },
  {
   "cell_type": "code",
   "execution_count": null,
   "metadata": {},
   "outputs": [],
   "source": [
    "# Assign str value to a variable\n",
    "pet = \"dog\"\n",
    "\n",
    "# It is NOT the case that pet is \"cat\"\n",
    "not pet == \"cat\"  # True\n",
    "\n",
    "# pet is \"cat\" OR \"dog\"\n",
    "pet == \"cat\" or pet == \"dog\"  # True\n",
    "\n",
    "# This doesn't work (operators are applied left-to-right; \n",
    "# check the type at each step!)\n",
    "pet == \"cat\" or \"lizard\"  # \"lizard\""
   ]
  },
  {
   "cell_type": "markdown",
   "metadata": {},
   "source": [
    "### HW 2 Prep Notes\n",
    "HW 2 requires you to: \n",
    "* create your own functions\n",
    "* import modules and use unknown functions\n",
    "\n",
    "Here are a few notes on those"
   ]
  },
  {
   "cell_type": "code",
   "execution_count": 1,
   "metadata": {},
   "outputs": [],
   "source": [
    "import datetime"
   ]
  },
  {
   "cell_type": "code",
   "execution_count": 2,
   "metadata": {},
   "outputs": [],
   "source": [
    "today = datetime.date.today()"
   ]
  },
  {
   "cell_type": "code",
   "execution_count": 3,
   "metadata": {},
   "outputs": [
    {
     "name": "stdout",
     "output_type": "stream",
     "text": [
      "2019-01-22\n"
     ]
    }
   ],
   "source": [
    "print(today)"
   ]
  },
  {
   "cell_type": "code",
   "execution_count": 4,
   "metadata": {},
   "outputs": [
    {
     "ename": "TypeError",
     "evalue": "unsupported operand type(s) for +: 'datetime.date' and 'int'",
     "output_type": "error",
     "traceback": [
      "\u001b[1;31m---------------------------------------------------------------------------\u001b[0m",
      "\u001b[1;31mTypeError\u001b[0m                                 Traceback (most recent call last)",
      "\u001b[1;32m<ipython-input-4-013b25c6e411>\u001b[0m in \u001b[0;36m<module>\u001b[1;34m\u001b[0m\n\u001b[0;32m      1\u001b[0m \u001b[1;31m##Goal: what's tomorrow's date?\u001b[0m\u001b[1;33m\u001b[0m\u001b[1;33m\u001b[0m\u001b[1;33m\u001b[0m\u001b[0m\n\u001b[0;32m      2\u001b[0m \u001b[1;31m#Unfortunately, dates don't work like ints\u001b[0m\u001b[1;33m\u001b[0m\u001b[1;33m\u001b[0m\u001b[1;33m\u001b[0m\u001b[0m\n\u001b[1;32m----> 3\u001b[1;33m \u001b[0mtoday\u001b[0m \u001b[1;33m+\u001b[0m \u001b[1;36m1\u001b[0m\u001b[1;33m\u001b[0m\u001b[1;33m\u001b[0m\u001b[0m\n\u001b[0m",
      "\u001b[1;31mTypeError\u001b[0m: unsupported operand type(s) for +: 'datetime.date' and 'int'"
     ]
    }
   ],
   "source": [
    "##Goal: what's tomorrow's date? \n",
    "#Unfortunately, dates don't work like ints\n",
    "today + 1"
   ]
  },
  {
   "cell_type": "code",
   "execution_count": 5,
   "metadata": {},
   "outputs": [],
   "source": [
    "#You can generate dates using datetime's built in functions\n",
    "pres_day_holiday = datetime.date(2019, 2, 18)"
   ]
  },
  {
   "cell_type": "code",
   "execution_count": 6,
   "metadata": {},
   "outputs": [
    {
     "name": "stdout",
     "output_type": "stream",
     "text": [
      "2019-02-18\n"
     ]
    }
   ],
   "source": [
    "print(pres_day_holiday)"
   ]
  },
  {
   "cell_type": "code",
   "execution_count": 8,
   "metadata": {},
   "outputs": [
    {
     "name": "stdout",
     "output_type": "stream",
     "text": [
      "27 days, 0:00:00\n"
     ]
    }
   ],
   "source": [
    "#NOW, you can manipulate and work with dates\n",
    "days_to_next_break = pres_day_holiday-today\n",
    "print(days_to_next_break)"
   ]
  },
  {
   "cell_type": "code",
   "execution_count": 10,
   "metadata": {},
   "outputs": [
    {
     "name": "stdout",
     "output_type": "stream",
     "text": [
      "It's only 27 days, 0:00:00 to the next break!\n"
     ]
    }
   ],
   "source": [
    "#Try debugging this yourself!\n",
    "print(\"It's only \" + str(days_to_next_break) + \" to the next break!\")"
   ]
  },
  {
   "cell_type": "code",
   "execution_count": 11,
   "metadata": {},
   "outputs": [],
   "source": [
    "# The dateUtil Library is a really important module for HW2\n",
    "# You'll use the relativedelta() function to manipulate dates and the diffs between dates!\n",
    "from dateutil.relativedelta import *\n"
   ]
  },
  {
   "cell_type": "code",
   "execution_count": 18,
   "metadata": {},
   "outputs": [],
   "source": [
    "#here's a simple illustration of how it works\n",
    "#in your HW, you'll do slightly more challenging, but much more interesting things with it\n",
    "arbitrary_number_of_days = 10000\n",
    "days_from_now = today + relativedelta(months=+arbitrary_number_of_days)"
   ]
  },
  {
   "cell_type": "code",
   "execution_count": 19,
   "metadata": {},
   "outputs": [
    {
     "name": "stdout",
     "output_type": "stream",
     "text": [
      "today's date is 2019-01-22, in 10000 days from now it will be 2852-05-22\n"
     ]
    }
   ],
   "source": [
    "print(\"today's date is \" + str(today) + \", in \" + str(arbitrary_number_of_days)\n",
    "      +\" days from now it will be \" + str(days_from_now))\n",
    "\n",
    "##Note: you can break long lines by just adding a new line and indenting"
   ]
  },
  {
   "cell_type": "code",
   "execution_count": null,
   "metadata": {},
   "outputs": [],
   "source": []
  }
 ],
 "metadata": {
  "kernelspec": {
   "display_name": "Python 3",
   "language": "python",
   "name": "python3"
  },
  "language_info": {
   "codemirror_mode": {
    "name": "ipython",
    "version": 3
   },
   "file_extension": ".py",
   "mimetype": "text/x-python",
   "name": "python",
   "nbconvert_exporter": "python",
   "pygments_lexer": "ipython3",
   "version": "3.7.1"
  }
 },
 "nbformat": 4,
 "nbformat_minor": 2
}
