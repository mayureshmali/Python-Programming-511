{
 "cells": [
  {
   "cell_type": "markdown",
   "metadata": {},
   "source": [
    "# Lecture 8 Notes"
   ]
  },
  {
   "cell_type": "markdown",
   "metadata": {},
   "source": [
    "## Functions are Variables"
   ]
  },
  {
   "cell_type": "code",
   "execution_count": 1,
   "metadata": {},
   "outputs": [],
   "source": [
    "# create a function say_hello\n",
    "def say_hello(name):\n",
    "    print(\"Hello, \"+name)"
   ]
  },
  {
   "cell_type": "code",
   "execution_count": 2,
   "metadata": {},
   "outputs": [
    {
     "name": "stdout",
     "output_type": "stream",
     "text": [
      "Hello, Y'all\n"
     ]
    }
   ],
   "source": [
    "#We can call this function\n",
    "say_hello(\"Y'all\")"
   ]
  },
  {
   "cell_type": "code",
   "execution_count": 3,
   "metadata": {},
   "outputs": [
    {
     "data": {
      "text/plain": [
       "function"
      ]
     },
     "execution_count": 3,
     "metadata": {},
     "output_type": "execute_result"
    }
   ],
   "source": [
    "# what kind of thing is this?\n",
    "type(say_hello) # <class 'function'>"
   ]
  },
  {
   "cell_type": "code",
   "execution_count": 4,
   "metadata": {},
   "outputs": [
    {
     "name": "stdout",
     "output_type": "stream",
     "text": [
      "Hello, world\n"
     ]
    }
   ],
   "source": [
    "# assign value to new var\n",
    "greet = say_hello\n",
    "\n",
    "# call \"other\" function \n",
    "greet(\"world\")  # \"Hello world\""
   ]
  },
  {
   "cell_type": "markdown",
   "metadata": {},
   "source": [
    "## Functions can be passed as args to other functions"
   ]
  },
  {
   "cell_type": "code",
   "execution_count": 5,
   "metadata": {},
   "outputs": [
    {
     "name": "stdout",
     "output_type": "stream",
     "text": [
      "Hello, world\n"
     ]
    }
   ],
   "source": [
    "# create a function say_hello\n",
    "def say_hello(name):\n",
    "    print(\"Hello, \"+name)\n",
    "\n",
    "# takes ANOTHER FUNCTION as an arg\n",
    "# will call the arg function, \n",
    "# passing it \"world\"\n",
    "def do_with_world(func_to_call):\n",
    "    # call with an argument of \"world\"\n",
    "    func_to_call(\"world\")\n",
    "\n",
    "# call function and pass value\n",
    "do_with_world(say_hello)  # \"Hello world\""
   ]
  },
  {
   "cell_type": "code",
   "execution_count": 6,
   "metadata": {},
   "outputs": [
    {
     "name": "stdout",
     "output_type": "stream",
     "text": [
      "Hello, world\n",
      "Howdy, world\n"
     ]
    }
   ],
   "source": [
    "## We can define an alternative function\n",
    "def say_howdy(name): \n",
    "    print(\"Howdy, \" +name)\n",
    "\n",
    "# Example Hello\n",
    "do_with_world(say_hello)  # \"Hello world\"\n",
    "\n",
    "# Example Howdy\n",
    "do_with_world(say_howdy)  # \"Hello world\""
   ]
  },
  {
   "cell_type": "code",
   "execution_count": 7,
   "metadata": {},
   "outputs": [
    {
     "name": "stdout",
     "output_type": "stream",
     "text": [
      "Howdy, friend\n"
     ]
    }
   ],
   "source": [
    "##We can define an alternative \"with\" function\n",
    "def do_with_friend(func_to_call): \n",
    "    #Call with an argument of \"friend\"\n",
    "    func_to_call(\"friend\")\n",
    "    \n",
    "do_with_friend(say_howdy)"
   ]
  },
  {
   "cell_type": "code",
   "execution_count": 8,
   "metadata": {},
   "outputs": [
    {
     "data": {
      "text/plain": [
       "6"
      ]
     },
     "execution_count": 8,
     "metadata": {},
     "output_type": "execute_result"
    }
   ],
   "source": [
    "numbers = [1,2,3]\n",
    "sum(numbers)\n",
    "#type(sum)"
   ]
  },
  {
   "cell_type": "code",
   "execution_count": 9,
   "metadata": {},
   "outputs": [],
   "source": [
    "sum = 1+2+3"
   ]
  },
  {
   "cell_type": "code",
   "execution_count": 10,
   "metadata": {},
   "outputs": [
    {
     "data": {
      "text/plain": [
       "6"
      ]
     },
     "execution_count": 10,
     "metadata": {},
     "output_type": "execute_result"
    }
   ],
   "source": [
    "sum"
   ]
  },
  {
   "cell_type": "code",
   "execution_count": 11,
   "metadata": {},
   "outputs": [
    {
     "ename": "TypeError",
     "evalue": "'int' object is not callable",
     "output_type": "error",
     "traceback": [
      "\u001b[1;31m---------------------------------------------------------------------------\u001b[0m",
      "\u001b[1;31mTypeError\u001b[0m                                 Traceback (most recent call last)",
      "\u001b[1;32m<ipython-input-11-c0e2e0c78a10>\u001b[0m in \u001b[0;36m<module>\u001b[1;34m()\u001b[0m\n\u001b[1;32m----> 1\u001b[1;33m \u001b[0msum\u001b[0m\u001b[1;33m(\u001b[0m\u001b[0mnumbers\u001b[0m\u001b[1;33m)\u001b[0m\u001b[1;33m\u001b[0m\u001b[0m\n\u001b[0m",
      "\u001b[1;31mTypeError\u001b[0m: 'int' object is not callable"
     ]
    }
   ],
   "source": [
    "sum(numbers)"
   ]
  },
  {
   "cell_type": "markdown",
   "metadata": {},
   "source": [
    "## Callback Functions"
   ]
  },
  {
   "cell_type": "code",
   "execution_count": null,
   "metadata": {},
   "outputs": [],
   "source": [
    "# Create a function that takes in TWO callback functions\n",
    "def do_together(first_callback, second_callback):\n",
    "    first_callback()  # execute the first function\n",
    "    second_callback()  # execute the second function\n",
    "    print(\"at the same time!\")\n",
    "\n",
    "\n",
    "def pat_head():\n",
    "    print(\"pat your head\")\n",
    "\n",
    "def rub_belly():\n",
    "    print(\"rub your belly\")\n",
    "\n",
    "\n",
    "# pass in the callbacks to \"do at once\"\n",
    "do_together(pat_head, rub_belly)"
   ]
  },
  {
   "cell_type": "code",
   "execution_count": null,
   "metadata": {},
   "outputs": [],
   "source": [
    "do_together(rub_belly, pat_head)"
   ]
  },
  {
   "cell_type": "code",
   "execution_count": null,
   "metadata": {},
   "outputs": [],
   "source": [
    "do_together(rub_belly(), pat_head()) # 'NoneType' object is not callable"
   ]
  },
  {
   "cell_type": "markdown",
   "metadata": {},
   "source": [
    "## Map"
   ]
  },
  {
   "cell_type": "code",
   "execution_count": null,
   "metadata": {},
   "outputs": [],
   "source": [
    "##You could write your own For Loop...\n",
    "\n",
    "def square(n): # a function that squares a number\n",
    "    return n**2\n",
    "\n",
    "numbers = [1,2,3,4,5]  # an initial list\n",
    "\n",
    "# a generalized function (actually built in to Python!)\n",
    "def map(callback, a_list):\n",
    "    new_list = []  # the transformed list\n",
    "    for element in a_list:\n",
    "        transformed = callback(element)\n",
    "        new_list.append(transformed)\n",
    "    return new_list\n",
    "\n",
    "map(square, numbers)"
   ]
  },
  {
   "cell_type": "code",
   "execution_count": 12,
   "metadata": {},
   "outputs": [
    {
     "name": "stdout",
     "output_type": "stream",
     "text": [
      "[1, 4, 9, 16, 25]\n"
     ]
    }
   ],
   "source": [
    "#Or you could just use the built in map function!\n",
    "def square(n): # a function that squares a number\n",
    "    return n**2\n",
    "\n",
    "numbers = [1,2,3,4,5]  # an initial list\n",
    "\n",
    "# call the map function\n",
    "squares = list(map(square, numbers))\n",
    "print(squares)  # [1, 4, 9, 16, 25]"
   ]
  },
  {
   "cell_type": "code",
   "execution_count": 15,
   "metadata": {},
   "outputs": [
    {
     "name": "stdout",
     "output_type": "stream",
     "text": [
      "[1, 8, 27, 64, 125]\n"
     ]
    }
   ],
   "source": [
    "#want to change your transform? \n",
    "#just change your callback function!\n",
    "def third(n): # a function that squares a number\n",
    "    return n**3\n",
    "\n",
    "third_power = list(map(third,numbers))\n",
    "print(third_power)"
   ]
  },
  {
   "cell_type": "code",
   "execution_count": 28,
   "metadata": {},
   "outputs": [
    {
     "data": {
      "text/plain": [
       "['Hello Emily', 'Hello Fatima', 'Hello A.J.', 'Hello Wenxian', 'Hello Brynn']"
      ]
     },
     "execution_count": 28,
     "metadata": {},
     "output_type": "execute_result"
    }
   ],
   "source": [
    "#Apply map to strings!\n",
    "def greet(name): \n",
    "    return \"Hello \" + name\n",
    "\n",
    "names_list = [\"Emily\", \"Fatima\", \"A.J.\", \"Wenxian\", \"Brynn\"]\n",
    "list(map(greet, names_list))"
   ]
  },
  {
   "cell_type": "code",
   "execution_count": 29,
   "metadata": {},
   "outputs": [],
   "source": [
    "#Now, I can store the output in a variable\n",
    "student_list = list(map(greet, names_list))"
   ]
  },
  {
   "cell_type": "code",
   "execution_count": 30,
   "metadata": {},
   "outputs": [
    {
     "name": "stdout",
     "output_type": "stream",
     "text": [
      "['Hello Emily', 'Hello Fatima', 'Hello A.J.', 'Hello Wenxian', 'Hello Brynn']\n"
     ]
    }
   ],
   "source": [
    "print(student_list)"
   ]
  },
  {
   "cell_type": "code",
   "execution_count": 31,
   "metadata": {},
   "outputs": [
    {
     "name": "stdout",
     "output_type": "stream",
     "text": [
      "Hello Emily\n"
     ]
    }
   ],
   "source": [
    "#Since it's a list I can access it like a list\n",
    "print(student_list[0])"
   ]
  },
  {
   "cell_type": "code",
   "execution_count": 33,
   "metadata": {},
   "outputs": [
    {
     "name": "stdout",
     "output_type": "stream",
     "text": [
      "Hello Emily\n",
      "Hello Fatima\n",
      "Hello A.J.\n",
      "Hello Wenxian\n",
      "Hello Brynn\n"
     ]
    }
   ],
   "source": [
    "#Since it's a list I can loop over it!\n",
    "for student in student_list: \n",
    "    print(student)"
   ]
  },
  {
   "cell_type": "code",
   "execution_count": 34,
   "metadata": {},
   "outputs": [
    {
     "data": {
      "text/plain": [
       "<map at 0x23129ec9898>"
      ]
     },
     "execution_count": 34,
     "metadata": {},
     "output_type": "execute_result"
    }
   ],
   "source": [
    "#What if I do this? \n",
    "# I get a map instead of a list\n",
    "map(greet, names_list)"
   ]
  },
  {
   "cell_type": "code",
   "execution_count": 35,
   "metadata": {},
   "outputs": [],
   "source": [
    "#I can still work with maps\n",
    "students_list = map(greet, names_list)"
   ]
  },
  {
   "cell_type": "code",
   "execution_count": 36,
   "metadata": {},
   "outputs": [
    {
     "name": "stdout",
     "output_type": "stream",
     "text": [
      "Hello Emily\n",
      "Hello Fatima\n",
      "Hello A.J.\n",
      "Hello Wenxian\n",
      "Hello Brynn\n"
     ]
    }
   ],
   "source": [
    "for student in students_list: \n",
    "    print(student)"
   ]
  },
  {
   "cell_type": "code",
   "execution_count": 37,
   "metadata": {},
   "outputs": [
    {
     "ename": "TypeError",
     "evalue": "'map' object is not subscriptable",
     "output_type": "error",
     "traceback": [
      "\u001b[1;31m---------------------------------------------------------------------------\u001b[0m",
      "\u001b[1;31mTypeError\u001b[0m                                 Traceback (most recent call last)",
      "\u001b[1;32m<ipython-input-37-bd49042f6601>\u001b[0m in \u001b[0;36m<module>\u001b[1;34m()\u001b[0m\n\u001b[0;32m      1\u001b[0m \u001b[1;31m# I just can't access the elements in it like a list\u001b[0m\u001b[1;33m\u001b[0m\u001b[1;33m\u001b[0m\u001b[0m\n\u001b[1;32m----> 2\u001b[1;33m \u001b[0mstudents_list\u001b[0m\u001b[1;33m[\u001b[0m\u001b[1;36m0\u001b[0m\u001b[1;33m]\u001b[0m\u001b[1;33m\u001b[0m\u001b[0m\n\u001b[0m",
      "\u001b[1;31mTypeError\u001b[0m: 'map' object is not subscriptable"
     ]
    }
   ],
   "source": [
    "# I just can't access the elements in it like a list\n",
    "students_list[0]"
   ]
  },
  {
   "cell_type": "code",
   "execution_count": 40,
   "metadata": {},
   "outputs": [
    {
     "data": {
      "text/plain": [
       "['Emily', 'Fatima', 'A.J.', 'Wenxian', 'Brynn']"
      ]
     },
     "execution_count": 40,
     "metadata": {},
     "output_type": "execute_result"
    }
   ],
   "source": [
    "#remember, after all this, we haven't transformed the original names_list\n",
    "names_list"
   ]
  },
  {
   "cell_type": "markdown",
   "metadata": {},
   "source": [
    "## Filter"
   ]
  },
  {
   "cell_type": "code",
   "execution_count": 43,
   "metadata": {},
   "outputs": [
    {
     "name": "stdout",
     "output_type": "stream",
     "text": [
      "[2, 8]\n"
     ]
    }
   ],
   "source": [
    "#Define a filtering function that returns if a number is even\n",
    "def is_even(n):\n",
    "    remainder = n % 2  # remainder when modding by 2\n",
    "    return remainder == 0  # Return Boolean, True if no remainder\n",
    "\n",
    "numbers = [2,7,1,8,3]  # an initial list\n",
    "\n",
    "# use the built-in filter function\n",
    "evens = list(filter(is_even, numbers))\n",
    "print(evens)  # [2, 8]\n",
    "\n",
    "##Saves us from having to write our own filtering function: \n",
    "# evens = []  # the filtered list\n",
    "# for number in numbers:\n",
    "#     if is_even(number):  # KEEP these elements\n",
    "#       evens.append(number)\n",
    "# print(evens)  # [2, 8]"
   ]
  },
  {
   "cell_type": "code",
   "execution_count": 44,
   "metadata": {},
   "outputs": [
    {
     "name": "stdout",
     "output_type": "stream",
     "text": [
      "[7, 1, 3]\n"
     ]
    }
   ],
   "source": [
    "#Alternatively, could do is_odd\n",
    "\n",
    "#Define a filtering function that returns if a number is odd\n",
    "def is_odd(n):\n",
    "    remainder = n % 2  # remainder when modding by 2\n",
    "    return remainder !=0 # Return Boolean, True if has remainder\n",
    "\n",
    "numbers = [2,7,1,8,3]  # an initial list\n",
    "\n",
    "# use the built-in filter function\n",
    "odds = list(filter(is_odd, numbers))\n",
    "print(odds)  # [2, 8]"
   ]
  },
  {
   "cell_type": "markdown",
   "metadata": {},
   "source": [
    "\n",
    "## Reduce"
   ]
  },
  {
   "cell_type": "code",
   "execution_count": 1,
   "metadata": {},
   "outputs": [],
   "source": [
    "##Define a reducing function...\n",
    "## This one does multiplication\n",
    "def multiply(x, y): # a function that multiplies two numbers\n",
    "    return x*y\n"
   ]
  },
  {
   "cell_type": "code",
   "execution_count": 2,
   "metadata": {},
   "outputs": [
    {
     "name": "stdout",
     "output_type": "stream",
     "text": [
      "120\n"
     ]
    }
   ],
   "source": [
    "numbers = [1,2,3,4,5]  # an initial list\n",
    "\n",
    "running_total = 1  # an accumulated aggregate\n",
    "for number in numbers:\n",
    "    running_total = multiply(running_total, number)\n",
    "print(running_total)  # 120  (1*2*3*4*5)"
   ]
  },
  {
   "cell_type": "code",
   "execution_count": 3,
   "metadata": {},
   "outputs": [
    {
     "name": "stdout",
     "output_type": "stream",
     "text": [
      "120\n"
     ]
    }
   ],
   "source": [
    "# use built-in reduce function\n",
    "from functools import reduce  # need to import\n",
    "product = reduce(multiply, numbers)\n",
    "print(product)  # 120"
   ]
  },
  {
   "cell_type": "markdown",
   "metadata": {},
   "source": [
    "## List Comprehensions and Nested List Comprehensions"
   ]
  },
  {
   "cell_type": "code",
   "execution_count": null,
   "metadata": {},
   "outputs": [],
   "source": []
  }
 ],
 "metadata": {
  "kernelspec": {
   "display_name": "Python 3",
   "language": "python",
   "name": "python3"
  },
  "language_info": {
   "codemirror_mode": {
    "name": "ipython",
    "version": 3
   },
   "file_extension": ".py",
   "mimetype": "text/x-python",
   "name": "python",
   "nbconvert_exporter": "python",
   "pygments_lexer": "ipython3",
   "version": "3.7.0"
  }
 },
 "nbformat": 4,
 "nbformat_minor": 2
}
