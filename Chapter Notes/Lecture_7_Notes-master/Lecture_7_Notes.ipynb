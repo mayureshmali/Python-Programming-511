{
 "cells": [
  {
   "cell_type": "markdown",
   "metadata": {},
   "source": [
    "# Recall/Review"
   ]
  },
  {
   "cell_type": "markdown",
   "metadata": {},
   "source": [
    "## For Loops\n",
    "Definite Iteration"
   ]
  },
  {
   "cell_type": "code",
   "execution_count": 4,
   "metadata": {},
   "outputs": [
    {
     "name": "stdout",
     "output_type": "stream",
     "text": [
      "0, 1, 2, 3, 4, 5, 6, 7, 8, 9, "
     ]
    }
   ],
   "source": [
    "#Loop over numbers\n",
    "for number in range(10): \n",
    "    print(number, end = ', ')"
   ]
  },
  {
   "cell_type": "code",
   "execution_count": 9,
   "metadata": {},
   "outputs": [
    {
     "name": "stdout",
     "output_type": "stream",
     "text": [
      "['Nobody', 'wins', 'unless', 'everybody', 'wins.']\n",
      "Nobody\n",
      "wins\n",
      "unless\n",
      "everybody\n",
      "wins.\n"
     ]
    }
   ],
   "source": [
    "#Loop over strings\n",
    "\n",
    "#Generate a list of words\n",
    "quote = \"Nobody wins unless everybody wins.\"\n",
    "words = quote.split()\n",
    "print(words)\n",
    "\n",
    "#Loop over each word and print it\n",
    "for word in words: \n",
    "    print(word)"
   ]
  },
  {
   "cell_type": "markdown",
   "metadata": {},
   "source": [
    "## Lists"
   ]
  },
  {
   "cell_type": "code",
   "execution_count": 10,
   "metadata": {},
   "outputs": [],
   "source": [
    "letters = [\"a\", \"b\", \"c\"]\n",
    "numbers = [1, 2, 2, 3, 5, 8]\n",
    "things = [\"raindrops\", 2, True, [5, 9, 8]]\n",
    "empty = []"
   ]
  },
  {
   "cell_type": "code",
   "execution_count": 11,
   "metadata": {},
   "outputs": [
    {
     "data": {
      "text/plain": [
       "['a', 'b', 'c']"
      ]
     },
     "execution_count": 11,
     "metadata": {},
     "output_type": "execute_result"
    }
   ],
   "source": [
    "letters"
   ]
  },
  {
   "cell_type": "code",
   "execution_count": 12,
   "metadata": {},
   "outputs": [
    {
     "data": {
      "text/plain": [
       "[1, 2, 2, 3, 5, 8]"
      ]
     },
     "execution_count": 12,
     "metadata": {},
     "output_type": "execute_result"
    }
   ],
   "source": [
    "numbers"
   ]
  },
  {
   "cell_type": "code",
   "execution_count": 13,
   "metadata": {},
   "outputs": [
    {
     "data": {
      "text/plain": [
       "['raindrops', 2, True, [5, 9, 8]]"
      ]
     },
     "execution_count": 13,
     "metadata": {},
     "output_type": "execute_result"
    }
   ],
   "source": [
    "things"
   ]
  },
  {
   "cell_type": "code",
   "execution_count": 14,
   "metadata": {},
   "outputs": [
    {
     "name": "stdout",
     "output_type": "stream",
     "text": [
      "b\n",
      "8\n"
     ]
    }
   ],
   "source": [
    "# access using [] notation\n",
    "print( letters[1] )  # \"b\"\n",
    "print( things[3][2] )  # 8"
   ]
  },
  {
   "cell_type": "code",
   "execution_count": 15,
   "metadata": {},
   "outputs": [
    {
     "name": "stdout",
     "output_type": "stream",
     "text": [
      "['z', 'b', 'c']\n"
     ]
    }
   ],
   "source": [
    "# assign using [] notation\n",
    "letters[0] = 'z';\n",
    "print( letters )  # ['z', 'b', 'c']"
   ]
  },
  {
   "cell_type": "code",
   "execution_count": 16,
   "metadata": {},
   "outputs": [
    {
     "ename": "IndexError",
     "evalue": "list assignment index out of range",
     "output_type": "error",
     "traceback": [
      "\u001b[1;31m---------------------------------------------------------------------------\u001b[0m",
      "\u001b[1;31mIndexError\u001b[0m                                Traceback (most recent call last)",
      "\u001b[1;32m<ipython-input-16-585cba5825da>\u001b[0m in \u001b[0;36m<module>\u001b[1;34m()\u001b[0m\n\u001b[0;32m      1\u001b[0m \u001b[1;31m# don't assign out of bounds!\u001b[0m\u001b[1;33m\u001b[0m\u001b[1;33m\u001b[0m\u001b[0m\n\u001b[1;32m----> 2\u001b[1;33m \u001b[0mnumbers\u001b[0m\u001b[1;33m[\u001b[0m\u001b[0mlen\u001b[0m\u001b[1;33m(\u001b[0m\u001b[0mnumbers\u001b[0m\u001b[1;33m)\u001b[0m\u001b[1;33m]\u001b[0m \u001b[1;33m=\u001b[0m \u001b[1;36m13\u001b[0m  \u001b[1;31m# IndexError!\u001b[0m\u001b[1;33m\u001b[0m\u001b[0m\n\u001b[0m",
      "\u001b[1;31mIndexError\u001b[0m: list assignment index out of range"
     ]
    }
   ],
   "source": [
    "# don't assign out of bounds!\n",
    "numbers[len(numbers)] = 13  # IndexError!"
   ]
  },
  {
   "cell_type": "code",
   "execution_count": 21,
   "metadata": {},
   "outputs": [
    {
     "data": {
      "text/plain": [
       "[2, 2, 3, 5]"
      ]
     },
     "execution_count": 21,
     "metadata": {},
     "output_type": "execute_result"
    }
   ],
   "source": [
    "# List Slicing\n",
    "#indices 1 to (1 from end) (non-inclusive)\n",
    "numbers[1:-1]  "
   ]
  },
  {
   "cell_type": "code",
   "execution_count": 24,
   "metadata": {},
   "outputs": [
    {
     "data": {
      "text/plain": [
       "['Backpack', 'Laptop', 'Pen']"
      ]
     },
     "execution_count": 24,
     "metadata": {},
     "output_type": "execute_result"
    }
   ],
   "source": [
    "#List Mutation\n",
    "# a list of school supplies\n",
    "school_supplies = [\"Backpack\", \"Laptop\", \"Pen\"]\n",
    "school_supplies\n"
   ]
  },
  {
   "cell_type": "code",
   "execution_count": 23,
   "metadata": {},
   "outputs": [
    {
     "name": "stdout",
     "output_type": "stream",
     "text": [
      "['Backpack', 'Laptop', 'Pencil']\n"
     ]
    }
   ],
   "source": [
    "# replace \"Pen\" with \"Pencil\"\n",
    "school_supplies[2] = \"Pencil\"\n",
    "\n",
    "print(school_supplies)  # ['Backpack', 'Laptop', 'Pencil']"
   ]
  },
  {
   "cell_type": "markdown",
   "metadata": {},
   "source": [
    "## Lists and Loops"
   ]
  },
  {
   "cell_type": "code",
   "execution_count": 34,
   "metadata": {},
   "outputs": [
    {
     "name": "stdout",
     "output_type": "stream",
     "text": [
      "original list:  [3.98, 8, 10.8, 3.27, 5.21]\n",
      "mutated list:   [4.0, 8, 10.8, 3.3, 5.2]\n"
     ]
    }
   ],
   "source": [
    "numbers_list = [3.98, 8, 10.8, 3.27, 5.21]\n",
    "print(\"original list: \", numbers_list)\n",
    "\n",
    "# Can now modify the list\n",
    "for i in range(len(numbers_list)):\n",
    "    # change value at index to rounded version\n",
    "    numbers_list[i] = round(numbers_list[i], 1)\n",
    "\n",
    "print(\"mutated list:  \", numbers_list)"
   ]
  },
  {
   "cell_type": "markdown",
   "metadata": {},
   "source": [
    "## Nested Lists"
   ]
  },
  {
   "cell_type": "code",
   "execution_count": 35,
   "metadata": {},
   "outputs": [],
   "source": [
    "# a list of different dinners available at a fancy party\n",
    "# this list has 4 elements, each of which is a list of 3 elements\n",
    "# the indentation is just for human readability\n",
    "dinner_options = [\n",
    "    [\"chicken\", \"mashed potatoes\", \"mixed veggies\"],\n",
    "    [\"steak\", \"seasoned potatoes\", \"asparagus\"],\n",
    "    [\"fish\", \"rice\", \"green beans\"],\n",
    "    [\"portobello steak\", \"rice\", \"green beans\"]\n",
    "]"
   ]
  },
  {
   "cell_type": "code",
   "execution_count": 36,
   "metadata": {},
   "outputs": [
    {
     "data": {
      "text/plain": [
       "[['chicken', 'mashed potatoes', 'mixed veggies'],\n",
       " ['steak', 'seasoned potatoes', 'asparagus'],\n",
       " ['fish', 'rice', 'green beans'],\n",
       " ['portobello steak', 'rice', 'green beans']]"
      ]
     },
     "execution_count": 36,
     "metadata": {},
     "output_type": "execute_result"
    }
   ],
   "source": [
    "dinner_options"
   ]
  },
  {
   "cell_type": "code",
   "execution_count": 43,
   "metadata": {},
   "outputs": [
    {
     "name": "stdout",
     "output_type": "stream",
     "text": [
      "['fish', 'rice', 'green beans']\n",
      "fish\n"
     ]
    }
   ],
   "source": [
    "len(dinner_options)   # 4\n",
    "fish_option = dinner_options[2]  # [\"fish\", \"rice\", \"green beans\"]\n",
    "print(fish_option)\n",
    "\n",
    "# fish_option is a list, so can reference its elements by index\n",
    "print(fish_option[0])  # \"fish\""
   ]
  },
  {
   "cell_type": "code",
   "execution_count": 44,
   "metadata": {},
   "outputs": [
    {
     "name": "stdout",
     "output_type": "stream",
     "text": [
      "fish\n"
     ]
    }
   ],
   "source": [
    "# Access the 2th element's 0th element\n",
    "print(dinner_options[2][0])  # \"fish\""
   ]
  },
  {
   "cell_type": "markdown",
   "metadata": {},
   "source": [
    "## Nested Loops and Nested Lists"
   ]
  },
  {
   "cell_type": "code",
   "execution_count": 45,
   "metadata": {},
   "outputs": [],
   "source": [
    "# a simple table of values\n",
    "table = [ ['aa','ab','ac','ad'],\n",
    "          ['ba','bb','bc','bd'],\n",
    "          ['ca','cb','cc','cd'] ]"
   ]
  },
  {
   "cell_type": "code",
   "execution_count": 48,
   "metadata": {},
   "outputs": [
    {
     "data": {
      "text/plain": [
       "'bd'"
      ]
     },
     "execution_count": 48,
     "metadata": {},
     "output_type": "execute_result"
    }
   ],
   "source": [
    "##Find the 'bd' element\n",
    "row = 1  # cells starting with 'b'\n",
    "col = 3  # cells ending with 'd'\n",
    "table[row][col]  # \"bd\", the cell at row/col"
   ]
  },
  {
   "cell_type": "code",
   "execution_count": 49,
   "metadata": {},
   "outputs": [
    {
     "data": {
      "text/plain": [
       "'bd'"
      ]
     },
     "execution_count": 49,
     "metadata": {},
     "output_type": "execute_result"
    }
   ],
   "source": [
    "##equivalent to\n",
    "table[1][3]"
   ]
  },
  {
   "cell_type": "code",
   "execution_count": 50,
   "metadata": {},
   "outputs": [
    {
     "name": "stdout",
     "output_type": "stream",
     "text": [
      "aa\n",
      "ab\n",
      "ac\n",
      "ad\n",
      "ba\n",
      "bb\n",
      "bc\n",
      "bd\n",
      "ca\n",
      "cb\n",
      "cc\n",
      "cd\n"
     ]
    }
   ],
   "source": [
    "##loop through whole list and print all elements\n",
    "for row in range(len(table)):  # for each row (or for i in range...)\n",
    "    for col in range(len(table[row])):  # for each col of that row (or for j in...)\n",
    "        print(table[row][col])  # access ith row, jth column"
   ]
  },
  {
   "cell_type": "code",
   "execution_count": null,
   "metadata": {},
   "outputs": [],
   "source": []
  }
 ],
 "metadata": {
  "kernelspec": {
   "display_name": "Python 3",
   "language": "python",
   "name": "python3"
  },
  "language_info": {
   "codemirror_mode": {
    "name": "ipython",
    "version": 3
   },
   "file_extension": ".py",
   "mimetype": "text/x-python",
   "name": "python",
   "nbconvert_exporter": "python",
   "pygments_lexer": "ipython3",
   "version": "3.7.0"
  }
 },
 "nbformat": 4,
 "nbformat_minor": 2
}
